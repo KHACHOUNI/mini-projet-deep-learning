{
 "cells": [
  {
   "cell_type": "markdown",
   "metadata": {},
   "source": [
    "# Devoir Deep Learning"
   ]
  },
  {
   "cell_type": "markdown",
   "metadata": {},
   "source": [
    "# @@@@@ spam email TASK  @@@@@"
   ]
  },
  {
   "cell_type": "markdown",
   "metadata": {},
   "source": [
    "## import librairies"
   ]
  },
  {
   "cell_type": "code",
   "execution_count": 313,
   "metadata": {
    "execution": {
     "iopub.execute_input": "2022-10-03T13:35:22.132572Z",
     "iopub.status.busy": "2022-10-03T13:35:22.132270Z",
     "iopub.status.idle": "2022-10-03T13:35:22.140049Z",
     "shell.execute_reply": "2022-10-03T13:35:22.139051Z",
     "shell.execute_reply.started": "2022-10-03T13:35:22.132541Z"
    }
   },
   "outputs": [],
   "source": [
    "import numpy as np \n",
    "import pandas as pd \n",
    "\n",
    "from sklearn.linear_model import LogisticRegression\n",
    "from sklearn.neighbors import KNeighborsClassifier\n",
    "from sklearn.tree import DecisionTreeClassifier\n",
    "from sklearn.svm import SVC\n",
    "from sklearn.ensemble import VotingClassifier, BaggingClassifier, AdaBoostClassifier, GradientBoostingClassifier    \n",
    "from sklearn.model_selection import train_test_split as split\n",
    "from sklearn.model_selection import cross_val_score, GridSearchCV\n",
    "from sklearn.metrics import accuracy_score, confusion_matrix, classification_report "
   ]
  },
  {
   "cell_type": "markdown",
   "metadata": {},
   "source": [
    "## load data"
   ]
  },
  {
   "cell_type": "code",
   "execution_count": 314,
   "metadata": {
    "execution": {
     "iopub.execute_input": "2022-10-03T13:35:23.290120Z",
     "iopub.status.busy": "2022-10-03T13:35:23.289847Z",
     "iopub.status.idle": "2022-10-03T13:35:23.343488Z",
     "shell.execute_reply": "2022-10-03T13:35:23.342660Z",
     "shell.execute_reply.started": "2022-10-03T13:35:23.290088Z"
    }
   },
   "outputs": [
    {
     "data": {
      "text/html": [
       "<div>\n",
       "<style scoped>\n",
       "    .dataframe tbody tr th:only-of-type {\n",
       "        vertical-align: middle;\n",
       "    }\n",
       "\n",
       "    .dataframe tbody tr th {\n",
       "        vertical-align: top;\n",
       "    }\n",
       "\n",
       "    .dataframe thead th {\n",
       "        text-align: right;\n",
       "    }\n",
       "</style>\n",
       "<table border=\"1\" class=\"dataframe\">\n",
       "  <thead>\n",
       "    <tr style=\"text-align: right;\">\n",
       "      <th></th>\n",
       "      <th>word_freq_make</th>\n",
       "      <th>word_freq_address</th>\n",
       "      <th>word_freq_all</th>\n",
       "      <th>word_freq_3d</th>\n",
       "      <th>word_freq_our</th>\n",
       "      <th>word_freq_over</th>\n",
       "      <th>word_freq_remove</th>\n",
       "      <th>word_freq_internet</th>\n",
       "      <th>word_freq_order</th>\n",
       "      <th>word_freq_mail</th>\n",
       "      <th>...</th>\n",
       "      <th>char_freq_semicolon</th>\n",
       "      <th>char_freq_leftbrac</th>\n",
       "      <th>char_freq_leftsquarebrac</th>\n",
       "      <th>char_freq_exclaim</th>\n",
       "      <th>char_freq_dollar</th>\n",
       "      <th>char_freq_pound</th>\n",
       "      <th>capital_run_length_average</th>\n",
       "      <th>capital_run_length_longest</th>\n",
       "      <th>capital_run_length_total</th>\n",
       "      <th>spam</th>\n",
       "    </tr>\n",
       "  </thead>\n",
       "  <tbody>\n",
       "    <tr>\n",
       "      <th>0</th>\n",
       "      <td>0.00</td>\n",
       "      <td>0.64</td>\n",
       "      <td>0.64</td>\n",
       "      <td>0.0</td>\n",
       "      <td>0.32</td>\n",
       "      <td>0.00</td>\n",
       "      <td>0.00</td>\n",
       "      <td>0.00</td>\n",
       "      <td>0.00</td>\n",
       "      <td>0.00</td>\n",
       "      <td>...</td>\n",
       "      <td>0.000</td>\n",
       "      <td>0.000</td>\n",
       "      <td>0.0</td>\n",
       "      <td>0.778</td>\n",
       "      <td>0.000</td>\n",
       "      <td>0.000</td>\n",
       "      <td>3.756</td>\n",
       "      <td>61</td>\n",
       "      <td>278</td>\n",
       "      <td>1</td>\n",
       "    </tr>\n",
       "    <tr>\n",
       "      <th>1</th>\n",
       "      <td>0.21</td>\n",
       "      <td>0.28</td>\n",
       "      <td>0.50</td>\n",
       "      <td>0.0</td>\n",
       "      <td>0.14</td>\n",
       "      <td>0.28</td>\n",
       "      <td>0.21</td>\n",
       "      <td>0.07</td>\n",
       "      <td>0.00</td>\n",
       "      <td>0.94</td>\n",
       "      <td>...</td>\n",
       "      <td>0.000</td>\n",
       "      <td>0.132</td>\n",
       "      <td>0.0</td>\n",
       "      <td>0.372</td>\n",
       "      <td>0.180</td>\n",
       "      <td>0.048</td>\n",
       "      <td>5.114</td>\n",
       "      <td>101</td>\n",
       "      <td>1028</td>\n",
       "      <td>1</td>\n",
       "    </tr>\n",
       "    <tr>\n",
       "      <th>2</th>\n",
       "      <td>0.06</td>\n",
       "      <td>0.00</td>\n",
       "      <td>0.71</td>\n",
       "      <td>0.0</td>\n",
       "      <td>1.23</td>\n",
       "      <td>0.19</td>\n",
       "      <td>0.19</td>\n",
       "      <td>0.12</td>\n",
       "      <td>0.64</td>\n",
       "      <td>0.25</td>\n",
       "      <td>...</td>\n",
       "      <td>0.010</td>\n",
       "      <td>0.143</td>\n",
       "      <td>0.0</td>\n",
       "      <td>0.276</td>\n",
       "      <td>0.184</td>\n",
       "      <td>0.010</td>\n",
       "      <td>9.821</td>\n",
       "      <td>485</td>\n",
       "      <td>2259</td>\n",
       "      <td>1</td>\n",
       "    </tr>\n",
       "    <tr>\n",
       "      <th>3</th>\n",
       "      <td>0.00</td>\n",
       "      <td>0.00</td>\n",
       "      <td>0.00</td>\n",
       "      <td>0.0</td>\n",
       "      <td>0.63</td>\n",
       "      <td>0.00</td>\n",
       "      <td>0.31</td>\n",
       "      <td>0.63</td>\n",
       "      <td>0.31</td>\n",
       "      <td>0.63</td>\n",
       "      <td>...</td>\n",
       "      <td>0.000</td>\n",
       "      <td>0.137</td>\n",
       "      <td>0.0</td>\n",
       "      <td>0.137</td>\n",
       "      <td>0.000</td>\n",
       "      <td>0.000</td>\n",
       "      <td>3.537</td>\n",
       "      <td>40</td>\n",
       "      <td>191</td>\n",
       "      <td>1</td>\n",
       "    </tr>\n",
       "    <tr>\n",
       "      <th>4</th>\n",
       "      <td>0.00</td>\n",
       "      <td>0.00</td>\n",
       "      <td>0.00</td>\n",
       "      <td>0.0</td>\n",
       "      <td>0.63</td>\n",
       "      <td>0.00</td>\n",
       "      <td>0.31</td>\n",
       "      <td>0.63</td>\n",
       "      <td>0.31</td>\n",
       "      <td>0.63</td>\n",
       "      <td>...</td>\n",
       "      <td>0.000</td>\n",
       "      <td>0.135</td>\n",
       "      <td>0.0</td>\n",
       "      <td>0.135</td>\n",
       "      <td>0.000</td>\n",
       "      <td>0.000</td>\n",
       "      <td>3.537</td>\n",
       "      <td>40</td>\n",
       "      <td>191</td>\n",
       "      <td>1</td>\n",
       "    </tr>\n",
       "    <tr>\n",
       "      <th>...</th>\n",
       "      <td>...</td>\n",
       "      <td>...</td>\n",
       "      <td>...</td>\n",
       "      <td>...</td>\n",
       "      <td>...</td>\n",
       "      <td>...</td>\n",
       "      <td>...</td>\n",
       "      <td>...</td>\n",
       "      <td>...</td>\n",
       "      <td>...</td>\n",
       "      <td>...</td>\n",
       "      <td>...</td>\n",
       "      <td>...</td>\n",
       "      <td>...</td>\n",
       "      <td>...</td>\n",
       "      <td>...</td>\n",
       "      <td>...</td>\n",
       "      <td>...</td>\n",
       "      <td>...</td>\n",
       "      <td>...</td>\n",
       "      <td>...</td>\n",
       "    </tr>\n",
       "    <tr>\n",
       "      <th>4596</th>\n",
       "      <td>0.31</td>\n",
       "      <td>0.00</td>\n",
       "      <td>0.62</td>\n",
       "      <td>0.0</td>\n",
       "      <td>0.00</td>\n",
       "      <td>0.31</td>\n",
       "      <td>0.00</td>\n",
       "      <td>0.00</td>\n",
       "      <td>0.00</td>\n",
       "      <td>0.00</td>\n",
       "      <td>...</td>\n",
       "      <td>0.000</td>\n",
       "      <td>0.232</td>\n",
       "      <td>0.0</td>\n",
       "      <td>0.000</td>\n",
       "      <td>0.000</td>\n",
       "      <td>0.000</td>\n",
       "      <td>1.142</td>\n",
       "      <td>3</td>\n",
       "      <td>88</td>\n",
       "      <td>0</td>\n",
       "    </tr>\n",
       "    <tr>\n",
       "      <th>4597</th>\n",
       "      <td>0.00</td>\n",
       "      <td>0.00</td>\n",
       "      <td>0.00</td>\n",
       "      <td>0.0</td>\n",
       "      <td>0.00</td>\n",
       "      <td>0.00</td>\n",
       "      <td>0.00</td>\n",
       "      <td>0.00</td>\n",
       "      <td>0.00</td>\n",
       "      <td>0.00</td>\n",
       "      <td>...</td>\n",
       "      <td>0.000</td>\n",
       "      <td>0.000</td>\n",
       "      <td>0.0</td>\n",
       "      <td>0.353</td>\n",
       "      <td>0.000</td>\n",
       "      <td>0.000</td>\n",
       "      <td>1.555</td>\n",
       "      <td>4</td>\n",
       "      <td>14</td>\n",
       "      <td>0</td>\n",
       "    </tr>\n",
       "    <tr>\n",
       "      <th>4598</th>\n",
       "      <td>0.30</td>\n",
       "      <td>0.00</td>\n",
       "      <td>0.30</td>\n",
       "      <td>0.0</td>\n",
       "      <td>0.00</td>\n",
       "      <td>0.00</td>\n",
       "      <td>0.00</td>\n",
       "      <td>0.00</td>\n",
       "      <td>0.00</td>\n",
       "      <td>0.00</td>\n",
       "      <td>...</td>\n",
       "      <td>0.102</td>\n",
       "      <td>0.718</td>\n",
       "      <td>0.0</td>\n",
       "      <td>0.000</td>\n",
       "      <td>0.000</td>\n",
       "      <td>0.000</td>\n",
       "      <td>1.404</td>\n",
       "      <td>6</td>\n",
       "      <td>118</td>\n",
       "      <td>0</td>\n",
       "    </tr>\n",
       "    <tr>\n",
       "      <th>4599</th>\n",
       "      <td>0.96</td>\n",
       "      <td>0.00</td>\n",
       "      <td>0.00</td>\n",
       "      <td>0.0</td>\n",
       "      <td>0.32</td>\n",
       "      <td>0.00</td>\n",
       "      <td>0.00</td>\n",
       "      <td>0.00</td>\n",
       "      <td>0.00</td>\n",
       "      <td>0.00</td>\n",
       "      <td>...</td>\n",
       "      <td>0.000</td>\n",
       "      <td>0.057</td>\n",
       "      <td>0.0</td>\n",
       "      <td>0.000</td>\n",
       "      <td>0.000</td>\n",
       "      <td>0.000</td>\n",
       "      <td>1.147</td>\n",
       "      <td>5</td>\n",
       "      <td>78</td>\n",
       "      <td>0</td>\n",
       "    </tr>\n",
       "    <tr>\n",
       "      <th>4600</th>\n",
       "      <td>0.00</td>\n",
       "      <td>0.00</td>\n",
       "      <td>0.65</td>\n",
       "      <td>0.0</td>\n",
       "      <td>0.00</td>\n",
       "      <td>0.00</td>\n",
       "      <td>0.00</td>\n",
       "      <td>0.00</td>\n",
       "      <td>0.00</td>\n",
       "      <td>0.00</td>\n",
       "      <td>...</td>\n",
       "      <td>0.000</td>\n",
       "      <td>0.000</td>\n",
       "      <td>0.0</td>\n",
       "      <td>0.125</td>\n",
       "      <td>0.000</td>\n",
       "      <td>0.000</td>\n",
       "      <td>1.250</td>\n",
       "      <td>5</td>\n",
       "      <td>40</td>\n",
       "      <td>0</td>\n",
       "    </tr>\n",
       "  </tbody>\n",
       "</table>\n",
       "<p>4601 rows × 58 columns</p>\n",
       "</div>"
      ],
      "text/plain": [
       "      word_freq_make  word_freq_address  word_freq_all  word_freq_3d  \\\n",
       "0               0.00               0.64           0.64           0.0   \n",
       "1               0.21               0.28           0.50           0.0   \n",
       "2               0.06               0.00           0.71           0.0   \n",
       "3               0.00               0.00           0.00           0.0   \n",
       "4               0.00               0.00           0.00           0.0   \n",
       "...              ...                ...            ...           ...   \n",
       "4596            0.31               0.00           0.62           0.0   \n",
       "4597            0.00               0.00           0.00           0.0   \n",
       "4598            0.30               0.00           0.30           0.0   \n",
       "4599            0.96               0.00           0.00           0.0   \n",
       "4600            0.00               0.00           0.65           0.0   \n",
       "\n",
       "      word_freq_our  word_freq_over  word_freq_remove  word_freq_internet  \\\n",
       "0              0.32            0.00              0.00                0.00   \n",
       "1              0.14            0.28              0.21                0.07   \n",
       "2              1.23            0.19              0.19                0.12   \n",
       "3              0.63            0.00              0.31                0.63   \n",
       "4              0.63            0.00              0.31                0.63   \n",
       "...             ...             ...               ...                 ...   \n",
       "4596           0.00            0.31              0.00                0.00   \n",
       "4597           0.00            0.00              0.00                0.00   \n",
       "4598           0.00            0.00              0.00                0.00   \n",
       "4599           0.32            0.00              0.00                0.00   \n",
       "4600           0.00            0.00              0.00                0.00   \n",
       "\n",
       "      word_freq_order  word_freq_mail  ...  char_freq_semicolon  \\\n",
       "0                0.00            0.00  ...                0.000   \n",
       "1                0.00            0.94  ...                0.000   \n",
       "2                0.64            0.25  ...                0.010   \n",
       "3                0.31            0.63  ...                0.000   \n",
       "4                0.31            0.63  ...                0.000   \n",
       "...               ...             ...  ...                  ...   \n",
       "4596             0.00            0.00  ...                0.000   \n",
       "4597             0.00            0.00  ...                0.000   \n",
       "4598             0.00            0.00  ...                0.102   \n",
       "4599             0.00            0.00  ...                0.000   \n",
       "4600             0.00            0.00  ...                0.000   \n",
       "\n",
       "      char_freq_leftbrac  char_freq_leftsquarebrac  char_freq_exclaim  \\\n",
       "0                  0.000                       0.0              0.778   \n",
       "1                  0.132                       0.0              0.372   \n",
       "2                  0.143                       0.0              0.276   \n",
       "3                  0.137                       0.0              0.137   \n",
       "4                  0.135                       0.0              0.135   \n",
       "...                  ...                       ...                ...   \n",
       "4596               0.232                       0.0              0.000   \n",
       "4597               0.000                       0.0              0.353   \n",
       "4598               0.718                       0.0              0.000   \n",
       "4599               0.057                       0.0              0.000   \n",
       "4600               0.000                       0.0              0.125   \n",
       "\n",
       "      char_freq_dollar  char_freq_pound  capital_run_length_average  \\\n",
       "0                0.000            0.000                       3.756   \n",
       "1                0.180            0.048                       5.114   \n",
       "2                0.184            0.010                       9.821   \n",
       "3                0.000            0.000                       3.537   \n",
       "4                0.000            0.000                       3.537   \n",
       "...                ...              ...                         ...   \n",
       "4596             0.000            0.000                       1.142   \n",
       "4597             0.000            0.000                       1.555   \n",
       "4598             0.000            0.000                       1.404   \n",
       "4599             0.000            0.000                       1.147   \n",
       "4600             0.000            0.000                       1.250   \n",
       "\n",
       "      capital_run_length_longest  capital_run_length_total  spam  \n",
       "0                             61                       278     1  \n",
       "1                            101                      1028     1  \n",
       "2                            485                      2259     1  \n",
       "3                             40                       191     1  \n",
       "4                             40                       191     1  \n",
       "...                          ...                       ...   ...  \n",
       "4596                           3                        88     0  \n",
       "4597                           4                        14     0  \n",
       "4598                           6                       118     0  \n",
       "4599                           5                        78     0  \n",
       "4600                           5                        40     0  \n",
       "\n",
       "[4601 rows x 58 columns]"
      ]
     },
     "execution_count": 314,
     "metadata": {},
     "output_type": "execute_result"
    }
   ],
   "source": [
    "spam = pd.read_csv(\"spam.csv\")\n",
    "\n",
    "# Display the dataframe\n",
    "spam"
   ]
  },
  {
   "cell_type": "markdown",
   "metadata": {},
   "source": [
    "Nos données comprennent 4601 e-mails (lignes) et 57 caractéristiques (colonnes). Ses caractéristiques sont caractérisées comme suit :\n",
    "\n",
    "**word_freq_address** - pourcentage de mots dans l'e-mail qui correspondent à ADDRESS.\n",
    "\n",
    "**char_freq_#** - pourcentage de caractères dans l'e-mail qui correspondent au symbole '#'.\n",
    "\n",
    "**capital_run_length_average** - longueur moyenne des séquences ininterrompues de lettres capitales.\n",
    "\n",
    "**capital_run_length_longest** - longueur de la plus longue séquence ininterrompue de lettres capitales.\n",
    "\n",
    "**capital_run_length_total** - nombre total de lettres capitales dans l'e-mail.\n"
   ]
  },
  {
   "cell_type": "markdown",
   "metadata": {},
   "source": [
    "la fonction \"new_data_correlation\" me permet de generer une nouvelle table analytique, qui ne contient que les variables dont la corrélation avec la target  dépasse un seuil, que je détermine.\n",
    "Dans ce cas, j'ai fixé mon seuil à 15% de corrélation avec ma variable sible."
   ]
  },
  {
   "cell_type": "code",
   "execution_count": 315,
   "metadata": {},
   "outputs": [],
   "source": [
    "#Correlation Matrix\n",
    "def new_data_correlation(data, s):\n",
    "    A = data.corr()\n",
    "    correlation_table = pd.DataFrame(A[\"spam\"]).reset_index()\n",
    "    selected_columns = correlation_table[abs(correlation_table[\"spam\"]) >= s]\n",
    "    return data[selected_columns[\"index\"].tolist()]"
   ]
  },
  {
   "cell_type": "code",
   "execution_count": 316,
   "metadata": {},
   "outputs": [
    {
     "data": {
      "text/html": [
       "<div>\n",
       "<style scoped>\n",
       "    .dataframe tbody tr th:only-of-type {\n",
       "        vertical-align: middle;\n",
       "    }\n",
       "\n",
       "    .dataframe tbody tr th {\n",
       "        vertical-align: top;\n",
       "    }\n",
       "\n",
       "    .dataframe thead th {\n",
       "        text-align: right;\n",
       "    }\n",
       "</style>\n",
       "<table border=\"1\" class=\"dataframe\">\n",
       "  <thead>\n",
       "    <tr style=\"text-align: right;\">\n",
       "      <th></th>\n",
       "      <th>word_freq_all</th>\n",
       "      <th>word_freq_our</th>\n",
       "      <th>word_freq_over</th>\n",
       "      <th>word_freq_remove</th>\n",
       "      <th>word_freq_internet</th>\n",
       "      <th>word_freq_order</th>\n",
       "      <th>word_freq_receive</th>\n",
       "      <th>word_freq_addresses</th>\n",
       "      <th>word_freq_free</th>\n",
       "      <th>word_freq_business</th>\n",
       "      <th>...</th>\n",
       "      <th>word_freq_hpl</th>\n",
       "      <th>word_freq_george</th>\n",
       "      <th>word_freq_650</th>\n",
       "      <th>word_freq_labs</th>\n",
       "      <th>word_freq_1999</th>\n",
       "      <th>char_freq_exclaim</th>\n",
       "      <th>char_freq_dollar</th>\n",
       "      <th>capital_run_length_longest</th>\n",
       "      <th>capital_run_length_total</th>\n",
       "      <th>spam</th>\n",
       "    </tr>\n",
       "  </thead>\n",
       "  <tbody>\n",
       "    <tr>\n",
       "      <th>0</th>\n",
       "      <td>0.64</td>\n",
       "      <td>0.32</td>\n",
       "      <td>0.00</td>\n",
       "      <td>0.00</td>\n",
       "      <td>0.00</td>\n",
       "      <td>0.00</td>\n",
       "      <td>0.00</td>\n",
       "      <td>0.00</td>\n",
       "      <td>0.32</td>\n",
       "      <td>0.00</td>\n",
       "      <td>...</td>\n",
       "      <td>0.0</td>\n",
       "      <td>0.0</td>\n",
       "      <td>0.0</td>\n",
       "      <td>0.0</td>\n",
       "      <td>0.00</td>\n",
       "      <td>0.778</td>\n",
       "      <td>0.000</td>\n",
       "      <td>61</td>\n",
       "      <td>278</td>\n",
       "      <td>1</td>\n",
       "    </tr>\n",
       "    <tr>\n",
       "      <th>1</th>\n",
       "      <td>0.50</td>\n",
       "      <td>0.14</td>\n",
       "      <td>0.28</td>\n",
       "      <td>0.21</td>\n",
       "      <td>0.07</td>\n",
       "      <td>0.00</td>\n",
       "      <td>0.21</td>\n",
       "      <td>0.14</td>\n",
       "      <td>0.14</td>\n",
       "      <td>0.07</td>\n",
       "      <td>...</td>\n",
       "      <td>0.0</td>\n",
       "      <td>0.0</td>\n",
       "      <td>0.0</td>\n",
       "      <td>0.0</td>\n",
       "      <td>0.07</td>\n",
       "      <td>0.372</td>\n",
       "      <td>0.180</td>\n",
       "      <td>101</td>\n",
       "      <td>1028</td>\n",
       "      <td>1</td>\n",
       "    </tr>\n",
       "    <tr>\n",
       "      <th>2</th>\n",
       "      <td>0.71</td>\n",
       "      <td>1.23</td>\n",
       "      <td>0.19</td>\n",
       "      <td>0.19</td>\n",
       "      <td>0.12</td>\n",
       "      <td>0.64</td>\n",
       "      <td>0.38</td>\n",
       "      <td>1.75</td>\n",
       "      <td>0.06</td>\n",
       "      <td>0.06</td>\n",
       "      <td>...</td>\n",
       "      <td>0.0</td>\n",
       "      <td>0.0</td>\n",
       "      <td>0.0</td>\n",
       "      <td>0.0</td>\n",
       "      <td>0.00</td>\n",
       "      <td>0.276</td>\n",
       "      <td>0.184</td>\n",
       "      <td>485</td>\n",
       "      <td>2259</td>\n",
       "      <td>1</td>\n",
       "    </tr>\n",
       "    <tr>\n",
       "      <th>3</th>\n",
       "      <td>0.00</td>\n",
       "      <td>0.63</td>\n",
       "      <td>0.00</td>\n",
       "      <td>0.31</td>\n",
       "      <td>0.63</td>\n",
       "      <td>0.31</td>\n",
       "      <td>0.31</td>\n",
       "      <td>0.00</td>\n",
       "      <td>0.31</td>\n",
       "      <td>0.00</td>\n",
       "      <td>...</td>\n",
       "      <td>0.0</td>\n",
       "      <td>0.0</td>\n",
       "      <td>0.0</td>\n",
       "      <td>0.0</td>\n",
       "      <td>0.00</td>\n",
       "      <td>0.137</td>\n",
       "      <td>0.000</td>\n",
       "      <td>40</td>\n",
       "      <td>191</td>\n",
       "      <td>1</td>\n",
       "    </tr>\n",
       "    <tr>\n",
       "      <th>4</th>\n",
       "      <td>0.00</td>\n",
       "      <td>0.63</td>\n",
       "      <td>0.00</td>\n",
       "      <td>0.31</td>\n",
       "      <td>0.63</td>\n",
       "      <td>0.31</td>\n",
       "      <td>0.31</td>\n",
       "      <td>0.00</td>\n",
       "      <td>0.31</td>\n",
       "      <td>0.00</td>\n",
       "      <td>...</td>\n",
       "      <td>0.0</td>\n",
       "      <td>0.0</td>\n",
       "      <td>0.0</td>\n",
       "      <td>0.0</td>\n",
       "      <td>0.00</td>\n",
       "      <td>0.135</td>\n",
       "      <td>0.000</td>\n",
       "      <td>40</td>\n",
       "      <td>191</td>\n",
       "      <td>1</td>\n",
       "    </tr>\n",
       "    <tr>\n",
       "      <th>...</th>\n",
       "      <td>...</td>\n",
       "      <td>...</td>\n",
       "      <td>...</td>\n",
       "      <td>...</td>\n",
       "      <td>...</td>\n",
       "      <td>...</td>\n",
       "      <td>...</td>\n",
       "      <td>...</td>\n",
       "      <td>...</td>\n",
       "      <td>...</td>\n",
       "      <td>...</td>\n",
       "      <td>...</td>\n",
       "      <td>...</td>\n",
       "      <td>...</td>\n",
       "      <td>...</td>\n",
       "      <td>...</td>\n",
       "      <td>...</td>\n",
       "      <td>...</td>\n",
       "      <td>...</td>\n",
       "      <td>...</td>\n",
       "      <td>...</td>\n",
       "    </tr>\n",
       "    <tr>\n",
       "      <th>4596</th>\n",
       "      <td>0.62</td>\n",
       "      <td>0.00</td>\n",
       "      <td>0.31</td>\n",
       "      <td>0.00</td>\n",
       "      <td>0.00</td>\n",
       "      <td>0.00</td>\n",
       "      <td>0.00</td>\n",
       "      <td>0.00</td>\n",
       "      <td>0.00</td>\n",
       "      <td>0.00</td>\n",
       "      <td>...</td>\n",
       "      <td>0.0</td>\n",
       "      <td>0.0</td>\n",
       "      <td>0.0</td>\n",
       "      <td>0.0</td>\n",
       "      <td>0.00</td>\n",
       "      <td>0.000</td>\n",
       "      <td>0.000</td>\n",
       "      <td>3</td>\n",
       "      <td>88</td>\n",
       "      <td>0</td>\n",
       "    </tr>\n",
       "    <tr>\n",
       "      <th>4597</th>\n",
       "      <td>0.00</td>\n",
       "      <td>0.00</td>\n",
       "      <td>0.00</td>\n",
       "      <td>0.00</td>\n",
       "      <td>0.00</td>\n",
       "      <td>0.00</td>\n",
       "      <td>0.00</td>\n",
       "      <td>0.00</td>\n",
       "      <td>0.00</td>\n",
       "      <td>0.00</td>\n",
       "      <td>...</td>\n",
       "      <td>0.0</td>\n",
       "      <td>0.0</td>\n",
       "      <td>0.0</td>\n",
       "      <td>0.0</td>\n",
       "      <td>0.00</td>\n",
       "      <td>0.353</td>\n",
       "      <td>0.000</td>\n",
       "      <td>4</td>\n",
       "      <td>14</td>\n",
       "      <td>0</td>\n",
       "    </tr>\n",
       "    <tr>\n",
       "      <th>4598</th>\n",
       "      <td>0.30</td>\n",
       "      <td>0.00</td>\n",
       "      <td>0.00</td>\n",
       "      <td>0.00</td>\n",
       "      <td>0.00</td>\n",
       "      <td>0.00</td>\n",
       "      <td>0.00</td>\n",
       "      <td>0.00</td>\n",
       "      <td>0.00</td>\n",
       "      <td>0.00</td>\n",
       "      <td>...</td>\n",
       "      <td>0.0</td>\n",
       "      <td>0.0</td>\n",
       "      <td>0.0</td>\n",
       "      <td>0.0</td>\n",
       "      <td>0.00</td>\n",
       "      <td>0.000</td>\n",
       "      <td>0.000</td>\n",
       "      <td>6</td>\n",
       "      <td>118</td>\n",
       "      <td>0</td>\n",
       "    </tr>\n",
       "    <tr>\n",
       "      <th>4599</th>\n",
       "      <td>0.00</td>\n",
       "      <td>0.32</td>\n",
       "      <td>0.00</td>\n",
       "      <td>0.00</td>\n",
       "      <td>0.00</td>\n",
       "      <td>0.00</td>\n",
       "      <td>0.00</td>\n",
       "      <td>0.00</td>\n",
       "      <td>0.00</td>\n",
       "      <td>0.00</td>\n",
       "      <td>...</td>\n",
       "      <td>0.0</td>\n",
       "      <td>0.0</td>\n",
       "      <td>0.0</td>\n",
       "      <td>0.0</td>\n",
       "      <td>0.00</td>\n",
       "      <td>0.000</td>\n",
       "      <td>0.000</td>\n",
       "      <td>5</td>\n",
       "      <td>78</td>\n",
       "      <td>0</td>\n",
       "    </tr>\n",
       "    <tr>\n",
       "      <th>4600</th>\n",
       "      <td>0.65</td>\n",
       "      <td>0.00</td>\n",
       "      <td>0.00</td>\n",
       "      <td>0.00</td>\n",
       "      <td>0.00</td>\n",
       "      <td>0.00</td>\n",
       "      <td>0.00</td>\n",
       "      <td>0.00</td>\n",
       "      <td>0.00</td>\n",
       "      <td>0.00</td>\n",
       "      <td>...</td>\n",
       "      <td>0.0</td>\n",
       "      <td>0.0</td>\n",
       "      <td>0.0</td>\n",
       "      <td>0.0</td>\n",
       "      <td>0.00</td>\n",
       "      <td>0.125</td>\n",
       "      <td>0.000</td>\n",
       "      <td>5</td>\n",
       "      <td>40</td>\n",
       "      <td>0</td>\n",
       "    </tr>\n",
       "  </tbody>\n",
       "</table>\n",
       "<p>4601 rows × 27 columns</p>\n",
       "</div>"
      ],
      "text/plain": [
       "      word_freq_all  word_freq_our  word_freq_over  word_freq_remove  \\\n",
       "0              0.64           0.32            0.00              0.00   \n",
       "1              0.50           0.14            0.28              0.21   \n",
       "2              0.71           1.23            0.19              0.19   \n",
       "3              0.00           0.63            0.00              0.31   \n",
       "4              0.00           0.63            0.00              0.31   \n",
       "...             ...            ...             ...               ...   \n",
       "4596           0.62           0.00            0.31              0.00   \n",
       "4597           0.00           0.00            0.00              0.00   \n",
       "4598           0.30           0.00            0.00              0.00   \n",
       "4599           0.00           0.32            0.00              0.00   \n",
       "4600           0.65           0.00            0.00              0.00   \n",
       "\n",
       "      word_freq_internet  word_freq_order  word_freq_receive  \\\n",
       "0                   0.00             0.00               0.00   \n",
       "1                   0.07             0.00               0.21   \n",
       "2                   0.12             0.64               0.38   \n",
       "3                   0.63             0.31               0.31   \n",
       "4                   0.63             0.31               0.31   \n",
       "...                  ...              ...                ...   \n",
       "4596                0.00             0.00               0.00   \n",
       "4597                0.00             0.00               0.00   \n",
       "4598                0.00             0.00               0.00   \n",
       "4599                0.00             0.00               0.00   \n",
       "4600                0.00             0.00               0.00   \n",
       "\n",
       "      word_freq_addresses  word_freq_free  word_freq_business  ...  \\\n",
       "0                    0.00            0.32                0.00  ...   \n",
       "1                    0.14            0.14                0.07  ...   \n",
       "2                    1.75            0.06                0.06  ...   \n",
       "3                    0.00            0.31                0.00  ...   \n",
       "4                    0.00            0.31                0.00  ...   \n",
       "...                   ...             ...                 ...  ...   \n",
       "4596                 0.00            0.00                0.00  ...   \n",
       "4597                 0.00            0.00                0.00  ...   \n",
       "4598                 0.00            0.00                0.00  ...   \n",
       "4599                 0.00            0.00                0.00  ...   \n",
       "4600                 0.00            0.00                0.00  ...   \n",
       "\n",
       "      word_freq_hpl  word_freq_george  word_freq_650  word_freq_labs  \\\n",
       "0               0.0               0.0            0.0             0.0   \n",
       "1               0.0               0.0            0.0             0.0   \n",
       "2               0.0               0.0            0.0             0.0   \n",
       "3               0.0               0.0            0.0             0.0   \n",
       "4               0.0               0.0            0.0             0.0   \n",
       "...             ...               ...            ...             ...   \n",
       "4596            0.0               0.0            0.0             0.0   \n",
       "4597            0.0               0.0            0.0             0.0   \n",
       "4598            0.0               0.0            0.0             0.0   \n",
       "4599            0.0               0.0            0.0             0.0   \n",
       "4600            0.0               0.0            0.0             0.0   \n",
       "\n",
       "      word_freq_1999  char_freq_exclaim  char_freq_dollar  \\\n",
       "0               0.00              0.778             0.000   \n",
       "1               0.07              0.372             0.180   \n",
       "2               0.00              0.276             0.184   \n",
       "3               0.00              0.137             0.000   \n",
       "4               0.00              0.135             0.000   \n",
       "...              ...                ...               ...   \n",
       "4596            0.00              0.000             0.000   \n",
       "4597            0.00              0.353             0.000   \n",
       "4598            0.00              0.000             0.000   \n",
       "4599            0.00              0.000             0.000   \n",
       "4600            0.00              0.125             0.000   \n",
       "\n",
       "      capital_run_length_longest  capital_run_length_total  spam  \n",
       "0                             61                       278     1  \n",
       "1                            101                      1028     1  \n",
       "2                            485                      2259     1  \n",
       "3                             40                       191     1  \n",
       "4                             40                       191     1  \n",
       "...                          ...                       ...   ...  \n",
       "4596                           3                        88     0  \n",
       "4597                           4                        14     0  \n",
       "4598                           6                       118     0  \n",
       "4599                           5                        78     0  \n",
       "4600                           5                        40     0  \n",
       "\n",
       "[4601 rows x 27 columns]"
      ]
     },
     "execution_count": 316,
     "metadata": {},
     "output_type": "execute_result"
    }
   ],
   "source": [
    "new_spam = new_data_correlation(spam, 0.15)\n",
    "new_spam"
   ]
  },
  {
   "cell_type": "markdown",
   "metadata": {},
   "source": [
    "L'application de la fonction new_data_correlation avec le seuil de 15% m'a permis d'eliminer 11 variables.\n",
    "Et donc ma nouvelle table analytique comporte 27 colonnes.\n",
    "\n",
    "Les données comportent 1 variable catégorielle et 56 variables continues.    \n",
    "Les données ne comportent pas de valeurs manquantes."
   ]
  },
  {
   "cell_type": "markdown",
   "metadata": {},
   "source": [
    "## split data and create target"
   ]
  },
  {
   "cell_type": "code",
   "execution_count": 317,
   "metadata": {
    "execution": {
     "iopub.execute_input": "2022-10-03T13:35:26.131446Z",
     "iopub.status.busy": "2022-10-03T13:35:26.131154Z",
     "iopub.status.idle": "2022-10-03T13:35:26.162174Z",
     "shell.execute_reply": "2022-10-03T13:35:26.161313Z",
     "shell.execute_reply.started": "2022-10-03T13:35:26.131415Z"
    }
   },
   "outputs": [
    {
     "data": {
      "text/html": [
       "<div>\n",
       "<style scoped>\n",
       "    .dataframe tbody tr th:only-of-type {\n",
       "        vertical-align: middle;\n",
       "    }\n",
       "\n",
       "    .dataframe tbody tr th {\n",
       "        vertical-align: top;\n",
       "    }\n",
       "\n",
       "    .dataframe thead th {\n",
       "        text-align: right;\n",
       "    }\n",
       "</style>\n",
       "<table border=\"1\" class=\"dataframe\">\n",
       "  <thead>\n",
       "    <tr style=\"text-align: right;\">\n",
       "      <th></th>\n",
       "      <th>word_freq_all</th>\n",
       "      <th>word_freq_our</th>\n",
       "      <th>word_freq_over</th>\n",
       "      <th>word_freq_remove</th>\n",
       "      <th>word_freq_internet</th>\n",
       "      <th>word_freq_order</th>\n",
       "      <th>word_freq_receive</th>\n",
       "      <th>word_freq_addresses</th>\n",
       "      <th>word_freq_free</th>\n",
       "      <th>word_freq_business</th>\n",
       "      <th>...</th>\n",
       "      <th>word_freq_hpl</th>\n",
       "      <th>word_freq_george</th>\n",
       "      <th>word_freq_650</th>\n",
       "      <th>word_freq_labs</th>\n",
       "      <th>word_freq_1999</th>\n",
       "      <th>char_freq_exclaim</th>\n",
       "      <th>char_freq_dollar</th>\n",
       "      <th>capital_run_length_longest</th>\n",
       "      <th>capital_run_length_total</th>\n",
       "      <th>spam</th>\n",
       "    </tr>\n",
       "  </thead>\n",
       "  <tbody>\n",
       "    <tr>\n",
       "      <th>160</th>\n",
       "      <td>0.0</td>\n",
       "      <td>0.43</td>\n",
       "      <td>0.0</td>\n",
       "      <td>0.0</td>\n",
       "      <td>0.0</td>\n",
       "      <td>0.0</td>\n",
       "      <td>0.0</td>\n",
       "      <td>0.0</td>\n",
       "      <td>0.43</td>\n",
       "      <td>0.0</td>\n",
       "      <td>...</td>\n",
       "      <td>0.21</td>\n",
       "      <td>0.00</td>\n",
       "      <td>0.00</td>\n",
       "      <td>0.00</td>\n",
       "      <td>0.00</td>\n",
       "      <td>0.146</td>\n",
       "      <td>0.146</td>\n",
       "      <td>99</td>\n",
       "      <td>642</td>\n",
       "      <td>1</td>\n",
       "    </tr>\n",
       "    <tr>\n",
       "      <th>2757</th>\n",
       "      <td>0.0</td>\n",
       "      <td>0.00</td>\n",
       "      <td>0.0</td>\n",
       "      <td>0.0</td>\n",
       "      <td>0.0</td>\n",
       "      <td>0.0</td>\n",
       "      <td>0.0</td>\n",
       "      <td>0.0</td>\n",
       "      <td>0.00</td>\n",
       "      <td>0.0</td>\n",
       "      <td>...</td>\n",
       "      <td>3.52</td>\n",
       "      <td>0.96</td>\n",
       "      <td>0.96</td>\n",
       "      <td>0.32</td>\n",
       "      <td>0.32</td>\n",
       "      <td>0.052</td>\n",
       "      <td>0.000</td>\n",
       "      <td>15</td>\n",
       "      <td>192</td>\n",
       "      <td>0</td>\n",
       "    </tr>\n",
       "    <tr>\n",
       "      <th>1668</th>\n",
       "      <td>0.0</td>\n",
       "      <td>0.00</td>\n",
       "      <td>0.0</td>\n",
       "      <td>0.0</td>\n",
       "      <td>0.0</td>\n",
       "      <td>0.0</td>\n",
       "      <td>0.0</td>\n",
       "      <td>0.0</td>\n",
       "      <td>0.00</td>\n",
       "      <td>0.0</td>\n",
       "      <td>...</td>\n",
       "      <td>0.00</td>\n",
       "      <td>0.00</td>\n",
       "      <td>0.00</td>\n",
       "      <td>0.00</td>\n",
       "      <td>0.00</td>\n",
       "      <td>0.000</td>\n",
       "      <td>0.000</td>\n",
       "      <td>152</td>\n",
       "      <td>292</td>\n",
       "      <td>1</td>\n",
       "    </tr>\n",
       "    <tr>\n",
       "      <th>589</th>\n",
       "      <td>0.0</td>\n",
       "      <td>0.00</td>\n",
       "      <td>0.0</td>\n",
       "      <td>0.0</td>\n",
       "      <td>0.0</td>\n",
       "      <td>0.0</td>\n",
       "      <td>0.0</td>\n",
       "      <td>0.0</td>\n",
       "      <td>0.00</td>\n",
       "      <td>0.0</td>\n",
       "      <td>...</td>\n",
       "      <td>0.00</td>\n",
       "      <td>0.00</td>\n",
       "      <td>0.00</td>\n",
       "      <td>0.00</td>\n",
       "      <td>0.00</td>\n",
       "      <td>0.000</td>\n",
       "      <td>0.000</td>\n",
       "      <td>15</td>\n",
       "      <td>36</td>\n",
       "      <td>1</td>\n",
       "    </tr>\n",
       "    <tr>\n",
       "      <th>4325</th>\n",
       "      <td>0.0</td>\n",
       "      <td>0.00</td>\n",
       "      <td>0.0</td>\n",
       "      <td>0.0</td>\n",
       "      <td>0.0</td>\n",
       "      <td>0.0</td>\n",
       "      <td>0.0</td>\n",
       "      <td>0.0</td>\n",
       "      <td>0.00</td>\n",
       "      <td>0.0</td>\n",
       "      <td>...</td>\n",
       "      <td>0.00</td>\n",
       "      <td>0.00</td>\n",
       "      <td>0.00</td>\n",
       "      <td>0.00</td>\n",
       "      <td>0.00</td>\n",
       "      <td>0.109</td>\n",
       "      <td>0.054</td>\n",
       "      <td>18</td>\n",
       "      <td>136</td>\n",
       "      <td>0</td>\n",
       "    </tr>\n",
       "  </tbody>\n",
       "</table>\n",
       "<p>5 rows × 27 columns</p>\n",
       "</div>"
      ],
      "text/plain": [
       "      word_freq_all  word_freq_our  word_freq_over  word_freq_remove  \\\n",
       "160             0.0           0.43             0.0               0.0   \n",
       "2757            0.0           0.00             0.0               0.0   \n",
       "1668            0.0           0.00             0.0               0.0   \n",
       "589             0.0           0.00             0.0               0.0   \n",
       "4325            0.0           0.00             0.0               0.0   \n",
       "\n",
       "      word_freq_internet  word_freq_order  word_freq_receive  \\\n",
       "160                  0.0              0.0                0.0   \n",
       "2757                 0.0              0.0                0.0   \n",
       "1668                 0.0              0.0                0.0   \n",
       "589                  0.0              0.0                0.0   \n",
       "4325                 0.0              0.0                0.0   \n",
       "\n",
       "      word_freq_addresses  word_freq_free  word_freq_business  ...  \\\n",
       "160                   0.0            0.43                 0.0  ...   \n",
       "2757                  0.0            0.00                 0.0  ...   \n",
       "1668                  0.0            0.00                 0.0  ...   \n",
       "589                   0.0            0.00                 0.0  ...   \n",
       "4325                  0.0            0.00                 0.0  ...   \n",
       "\n",
       "      word_freq_hpl  word_freq_george  word_freq_650  word_freq_labs  \\\n",
       "160            0.21              0.00           0.00            0.00   \n",
       "2757           3.52              0.96           0.96            0.32   \n",
       "1668           0.00              0.00           0.00            0.00   \n",
       "589            0.00              0.00           0.00            0.00   \n",
       "4325           0.00              0.00           0.00            0.00   \n",
       "\n",
       "      word_freq_1999  char_freq_exclaim  char_freq_dollar  \\\n",
       "160             0.00              0.146             0.146   \n",
       "2757            0.32              0.052             0.000   \n",
       "1668            0.00              0.000             0.000   \n",
       "589             0.00              0.000             0.000   \n",
       "4325            0.00              0.109             0.054   \n",
       "\n",
       "      capital_run_length_longest  capital_run_length_total  spam  \n",
       "160                           99                       642     1  \n",
       "2757                          15                       192     0  \n",
       "1668                         152                       292     1  \n",
       "589                           15                        36     1  \n",
       "4325                          18                       136     0  \n",
       "\n",
       "[5 rows x 27 columns]"
      ]
     },
     "execution_count": 317,
     "metadata": {},
     "output_type": "execute_result"
    }
   ],
   "source": [
    "# Diviser le jeu de données en deux parties : formation (75%) et test (25%).\n",
    "spam_train, spam_test = split(new_spam, train_size = 0.75, random_state = 1313) \n",
    "spam_train.head()"
   ]
  },
  {
   "cell_type": "code",
   "execution_count": 318,
   "metadata": {
    "execution": {
     "iopub.execute_input": "2022-10-03T13:35:26.563908Z",
     "iopub.status.busy": "2022-10-03T13:35:26.563333Z",
     "iopub.status.idle": "2022-10-03T13:35:26.571688Z",
     "shell.execute_reply": "2022-10-03T13:35:26.570748Z",
     "shell.execute_reply.started": "2022-10-03T13:35:26.563871Z"
    }
   },
   "outputs": [],
   "source": [
    "# Creer les matrices X et y (matrice des variables et vecteur target, pour l etrain et le test)\n",
    "X_train = spam_train.drop(['spam'], axis = 1)\n",
    "y_train = spam_train['spam']\n",
    "\n",
    "X_test = spam_test.drop(['spam'], axis = 1)\n",
    "y_test = spam_test['spam']"
   ]
  },
  {
   "cell_type": "markdown",
   "metadata": {},
   "source": [
    "## KNN classification"
   ]
  },
  {
   "cell_type": "markdown",
   "metadata": {},
   "source": [
    "KNN (K-Nearest Neighbors) est simple à comprendre et à implémenter et peut fournir des résultats satisfaisants dans de nombreuses applications. Le modèle fonctionne en trouvant les k plus proches voisins d'un nouvel email dans l'ensemble de données d'entraînement et en déterminant la classe la plus fréquente parmi eux pour classer le nouvel email.\n",
    "Cette méthode peut être efficace pour la détection de spam dans les emails car les emails de spam peuvent souvent être groupés ensemble basés sur des similarités telles que des mots clés spécifiques ou des modèles de langage."
   ]
  },
  {
   "cell_type": "code",
   "execution_count": 319,
   "metadata": {
    "execution": {
     "iopub.execute_input": "2022-10-03T13:35:27.980217Z",
     "iopub.status.busy": "2022-10-03T13:35:27.979940Z",
     "iopub.status.idle": "2022-10-03T13:35:28.145413Z",
     "shell.execute_reply": "2022-10-03T13:35:28.144680Z",
     "shell.execute_reply.started": "2022-10-03T13:35:27.980178Z"
    }
   },
   "outputs": [
    {
     "name": "stdout",
     "output_type": "stream",
     "text": [
      "0.8608695652173913\n"
     ]
    },
    {
     "name": "stderr",
     "output_type": "stream",
     "text": [
      "c:\\Users\\21261\\anaconda3\\lib\\site-packages\\sklearn\\neighbors\\_classification.py:228: FutureWarning: Unlike other reduction functions (e.g. `skew`, `kurtosis`), the default behavior of `mode` typically preserves the axis it acts along. In SciPy 1.11.0, this behavior will change: the default value of `keepdims` will become False, the `axis` over which the statistic is taken will be eliminated, and the value None will no longer be accepted. Set `keepdims` to True or False to avoid this warning.\n",
      "  mode, _ = stats.mode(_y[neigh_ind, k], axis=1)\n"
     ]
    }
   ],
   "source": [
    "# Create KNN Classifier model\n",
    "# je teste avec un k = 5 dans ce cas \n",
    "k = 5\n",
    "spam_clf = KNeighborsClassifier(n_neighbors = k)\n",
    "\n",
    "# Train the model \n",
    "spam_clf.fit(X_train, y_train)\n",
    "\n",
    "print(spam_clf.score(X_train, y_train))"
   ]
  },
  {
   "cell_type": "markdown",
   "metadata": {},
   "source": [
    "### Evaluation du Modele"
   ]
  },
  {
   "cell_type": "code",
   "execution_count": 320,
   "metadata": {
    "execution": {
     "iopub.execute_input": "2022-10-03T13:35:29.040506Z",
     "iopub.status.busy": "2022-10-03T13:35:29.040132Z",
     "iopub.status.idle": "2022-10-03T13:35:29.203929Z",
     "shell.execute_reply": "2022-10-03T13:35:29.203173Z",
     "shell.execute_reply.started": "2022-10-03T13:35:29.040466Z"
    }
   },
   "outputs": [
    {
     "name": "stderr",
     "output_type": "stream",
     "text": [
      "c:\\Users\\21261\\anaconda3\\lib\\site-packages\\sklearn\\neighbors\\_classification.py:228: FutureWarning: Unlike other reduction functions (e.g. `skew`, `kurtosis`), the default behavior of `mode` typically preserves the axis it acts along. In SciPy 1.11.0, this behavior will change: the default value of `keepdims` will become False, the `axis` over which the statistic is taken will be eliminated, and the value None will no longer be accepted. Set `keepdims` to True or False to avoid this warning.\n",
      "  mode, _ = stats.mode(_y[neigh_ind, k], axis=1)\n"
     ]
    },
    {
     "name": "stdout",
     "output_type": "stream",
     "text": [
      "          Not-spam  Spam\n",
      "Not-spam      1887   214\n",
      "Spam           266  1083\n",
      "              precision    recall  f1-score   support\n",
      "\n",
      "           0       0.88      0.90      0.89      2101\n",
      "           1       0.84      0.80      0.82      1349\n",
      "\n",
      "    accuracy                           0.86      3450\n",
      "   macro avg       0.86      0.85      0.85      3450\n",
      "weighted avg       0.86      0.86      0.86      3450\n",
      "\n"
     ]
    },
    {
     "name": "stderr",
     "output_type": "stream",
     "text": [
      "c:\\Users\\21261\\anaconda3\\lib\\site-packages\\sklearn\\neighbors\\_classification.py:228: FutureWarning: Unlike other reduction functions (e.g. `skew`, `kurtosis`), the default behavior of `mode` typically preserves the axis it acts along. In SciPy 1.11.0, this behavior will change: the default value of `keepdims` will become False, the `axis` over which the statistic is taken will be eliminated, and the value None will no longer be accepted. Set `keepdims` to True or False to avoid this warning.\n",
      "  mode, _ = stats.mode(_y[neigh_ind, k], axis=1)\n"
     ]
    }
   ],
   "source": [
    "# Confusion matrix\n",
    "cm = confusion_matrix(y_true = y_train, y_pred = spam_clf.predict(X_train))\n",
    "\n",
    "print(pd.DataFrame(cm, index = ['Not-spam', 'Spam'], columns = ['Not-spam', 'Spam']))\n",
    "print(classification_report(y_true = y_train, y_pred = spam_clf.predict(X_train))) "
   ]
  },
  {
   "cell_type": "markdown",
   "metadata": {},
   "source": [
    "La fonction classification_report de scikit-learn est un outil utile pour évaluer les performances d'un modèle de classification en calculant plusieurs métriques clés. \n",
    "Cela inclut la précision, le rappel, la F1-score et le support pour chaque classe. Cela permet de comprendre les forces et les faiblesses du modèle en termes de prédiction pour chaque classe et donne une vue d'ensemble de ses performances globales."
   ]
  },
  {
   "cell_type": "markdown",
   "metadata": {},
   "source": [
    "### Validation Model"
   ]
  },
  {
   "cell_type": "code",
   "execution_count": 321,
   "metadata": {
    "execution": {
     "iopub.execute_input": "2022-10-03T13:35:41.097995Z",
     "iopub.status.busy": "2022-10-03T13:35:41.097688Z",
     "iopub.status.idle": "2022-10-03T13:35:41.215251Z",
     "shell.execute_reply": "2022-10-03T13:35:41.214558Z",
     "shell.execute_reply.started": "2022-10-03T13:35:41.097963Z"
    }
   },
   "outputs": [
    {
     "name": "stdout",
     "output_type": "stream",
     "text": [
      "          Not-spam  Spam\n",
      "Not-spam       594    93\n",
      "Spam           151   313\n",
      "              precision    recall  f1-score   support\n",
      "\n",
      "           0       0.80      0.86      0.83       687\n",
      "           1       0.77      0.67      0.72       464\n",
      "\n",
      "    accuracy                           0.79      1151\n",
      "   macro avg       0.78      0.77      0.77      1151\n",
      "weighted avg       0.79      0.79      0.79      1151\n",
      "\n"
     ]
    },
    {
     "name": "stderr",
     "output_type": "stream",
     "text": [
      "c:\\Users\\21261\\anaconda3\\lib\\site-packages\\sklearn\\neighbors\\_classification.py:228: FutureWarning: Unlike other reduction functions (e.g. `skew`, `kurtosis`), the default behavior of `mode` typically preserves the axis it acts along. In SciPy 1.11.0, this behavior will change: the default value of `keepdims` will become False, the `axis` over which the statistic is taken will be eliminated, and the value None will no longer be accepted. Set `keepdims` to True or False to avoid this warning.\n",
      "  mode, _ = stats.mode(_y[neigh_ind, k], axis=1)\n",
      "c:\\Users\\21261\\anaconda3\\lib\\site-packages\\sklearn\\neighbors\\_classification.py:228: FutureWarning: Unlike other reduction functions (e.g. `skew`, `kurtosis`), the default behavior of `mode` typically preserves the axis it acts along. In SciPy 1.11.0, this behavior will change: the default value of `keepdims` will become False, the `axis` over which the statistic is taken will be eliminated, and the value None will no longer be accepted. Set `keepdims` to True or False to avoid this warning.\n",
      "  mode, _ = stats.mode(_y[neigh_ind, k], axis=1)\n"
     ]
    }
   ],
   "source": [
    "# Confusion matrix\n",
    "cm = confusion_matrix(y_true = y_test, y_pred = spam_clf.predict(X_test))\n",
    "\n",
    "print(pd.DataFrame(cm, index = ['Not-spam', 'Spam'], columns = ['Not-spam', 'Spam']))\n",
    "print(classification_report(y_true = y_test, y_pred = spam_clf.predict(X_test)))"
   ]
  },
  {
   "cell_type": "markdown",
   "metadata": {},
   "source": [
    "### Cosine Distance\n",
    "Dans cette section, je vais essayer de calculer les similaritées avec la fonction cosinuse, pour pouveoir comparer l'impact des distances utilisées."
   ]
  },
  {
   "cell_type": "code",
   "execution_count": 322,
   "metadata": {
    "execution": {
     "iopub.execute_input": "2022-10-03T13:35:41.977749Z",
     "iopub.status.busy": "2022-10-03T13:35:41.977465Z",
     "iopub.status.idle": "2022-10-03T13:35:42.362119Z",
     "shell.execute_reply": "2022-10-03T13:35:42.361325Z",
     "shell.execute_reply.started": "2022-10-03T13:35:41.977716Z"
    }
   },
   "outputs": [
    {
     "name": "stdout",
     "output_type": "stream",
     "text": [
      "0.8730434782608696\n"
     ]
    },
    {
     "name": "stderr",
     "output_type": "stream",
     "text": [
      "c:\\Users\\21261\\anaconda3\\lib\\site-packages\\sklearn\\neighbors\\_classification.py:228: FutureWarning: Unlike other reduction functions (e.g. `skew`, `kurtosis`), the default behavior of `mode` typically preserves the axis it acts along. In SciPy 1.11.0, this behavior will change: the default value of `keepdims` will become False, the `axis` over which the statistic is taken will be eliminated, and the value None will no longer be accepted. Set `keepdims` to True or False to avoid this warning.\n",
      "  mode, _ = stats.mode(_y[neigh_ind, k], axis=1)\n"
     ]
    }
   ],
   "source": [
    "k = 5\n",
    "spam_clf = KNeighborsClassifier(n_neighbors = k, metric = 'cosine')#, algorithm = 'brute')\n",
    "\n",
    "# Fit the model using the training set\n",
    "spam_clf.fit(X_train, y_train) \n",
    "print(spam_clf.score(X_train, y_train) ) "
   ]
  },
  {
   "cell_type": "markdown",
   "metadata": {},
   "source": [
    "### Evaluation Model"
   ]
  },
  {
   "cell_type": "code",
   "execution_count": 323,
   "metadata": {
    "execution": {
     "iopub.execute_input": "2022-10-03T13:35:44.194026Z",
     "iopub.status.busy": "2022-10-03T13:35:44.193415Z",
     "iopub.status.idle": "2022-10-03T13:35:44.533825Z",
     "shell.execute_reply": "2022-10-03T13:35:44.533037Z",
     "shell.execute_reply.started": "2022-10-03T13:35:44.193989Z"
    }
   },
   "outputs": [
    {
     "name": "stderr",
     "output_type": "stream",
     "text": [
      "c:\\Users\\21261\\anaconda3\\lib\\site-packages\\sklearn\\neighbors\\_classification.py:228: FutureWarning: Unlike other reduction functions (e.g. `skew`, `kurtosis`), the default behavior of `mode` typically preserves the axis it acts along. In SciPy 1.11.0, this behavior will change: the default value of `keepdims` will become False, the `axis` over which the statistic is taken will be eliminated, and the value None will no longer be accepted. Set `keepdims` to True or False to avoid this warning.\n",
      "  mode, _ = stats.mode(_y[neigh_ind, k], axis=1)\n"
     ]
    },
    {
     "name": "stdout",
     "output_type": "stream",
     "text": [
      "          Not-spam  Spam\n",
      "Not-spam      1858   243\n",
      "Spam           195  1154\n",
      "              precision    recall  f1-score   support\n",
      "\n",
      "           0       0.91      0.88      0.89      2101\n",
      "           1       0.83      0.86      0.84      1349\n",
      "\n",
      "    accuracy                           0.87      3450\n",
      "   macro avg       0.87      0.87      0.87      3450\n",
      "weighted avg       0.87      0.87      0.87      3450\n",
      "\n"
     ]
    },
    {
     "name": "stderr",
     "output_type": "stream",
     "text": [
      "c:\\Users\\21261\\anaconda3\\lib\\site-packages\\sklearn\\neighbors\\_classification.py:228: FutureWarning: Unlike other reduction functions (e.g. `skew`, `kurtosis`), the default behavior of `mode` typically preserves the axis it acts along. In SciPy 1.11.0, this behavior will change: the default value of `keepdims` will become False, the `axis` over which the statistic is taken will be eliminated, and the value None will no longer be accepted. Set `keepdims` to True or False to avoid this warning.\n",
      "  mode, _ = stats.mode(_y[neigh_ind, k], axis=1)\n"
     ]
    }
   ],
   "source": [
    "# Confusion matrix\n",
    "cm = confusion_matrix(y_true = y_train, y_pred = spam_clf.predict(X_train))\n",
    " \n",
    "print(pd.DataFrame(cm, index = ['Not-spam', 'Spam'], columns = ['Not-spam', 'Spam']))\n",
    "print(classification_report(y_true = y_train, y_pred = spam_clf.predict(X_train)))"
   ]
  },
  {
   "cell_type": "markdown",
   "metadata": {},
   "source": [
    "### Validation Model"
   ]
  },
  {
   "cell_type": "code",
   "execution_count": 324,
   "metadata": {
    "execution": {
     "iopub.execute_input": "2022-10-03T13:35:45.117421Z",
     "iopub.status.busy": "2022-10-03T13:35:45.117122Z",
     "iopub.status.idle": "2022-10-03T13:35:45.310297Z",
     "shell.execute_reply": "2022-10-03T13:35:45.309439Z",
     "shell.execute_reply.started": "2022-10-03T13:35:45.117387Z"
    }
   },
   "outputs": [
    {
     "name": "stdout",
     "output_type": "stream",
     "text": [
      "          Not-spam  Spam\n",
      "Not-spam       553   134\n",
      "Spam           111   353\n",
      "              precision    recall  f1-score   support\n",
      "\n",
      "           0       0.83      0.80      0.82       687\n",
      "           1       0.72      0.76      0.74       464\n",
      "\n",
      "    accuracy                           0.79      1151\n",
      "   macro avg       0.78      0.78      0.78      1151\n",
      "weighted avg       0.79      0.79      0.79      1151\n",
      "\n"
     ]
    },
    {
     "name": "stderr",
     "output_type": "stream",
     "text": [
      "c:\\Users\\21261\\anaconda3\\lib\\site-packages\\sklearn\\neighbors\\_classification.py:228: FutureWarning: Unlike other reduction functions (e.g. `skew`, `kurtosis`), the default behavior of `mode` typically preserves the axis it acts along. In SciPy 1.11.0, this behavior will change: the default value of `keepdims` will become False, the `axis` over which the statistic is taken will be eliminated, and the value None will no longer be accepted. Set `keepdims` to True or False to avoid this warning.\n",
      "  mode, _ = stats.mode(_y[neigh_ind, k], axis=1)\n",
      "c:\\Users\\21261\\anaconda3\\lib\\site-packages\\sklearn\\neighbors\\_classification.py:228: FutureWarning: Unlike other reduction functions (e.g. `skew`, `kurtosis`), the default behavior of `mode` typically preserves the axis it acts along. In SciPy 1.11.0, this behavior will change: the default value of `keepdims` will become False, the `axis` over which the statistic is taken will be eliminated, and the value None will no longer be accepted. Set `keepdims` to True or False to avoid this warning.\n",
      "  mode, _ = stats.mode(_y[neigh_ind, k], axis=1)\n"
     ]
    }
   ],
   "source": [
    "# Confusion matrix\n",
    "cm = confusion_matrix(y_true = y_test, y_pred = spam_clf.predict(X_test))\n",
    "\n",
    "print(pd.DataFrame(cm, index = ['Not-spam', 'Spam'], columns = ['Not-spam', 'Spam'])) \n",
    "print(classification_report(y_true = y_test, y_pred = spam_clf.predict(X_test)))"
   ]
  },
  {
   "cell_type": "markdown",
   "metadata": {},
   "source": [
    "## logistic regression"
   ]
  },
  {
   "cell_type": "markdown",
   "metadata": {},
   "source": [
    "POURQUOI choisir LA REGRESSION LOGISTIQUE ?\n",
    "\n",
    "Simplicité: La régression logistique est un modèle statistique simple et facile à comprendre et à implémenter.\n",
    "\n",
    "Interprétabilité: Les coefficients de la régression logistique peuvent être interprétés comme les odds ratios associés à chaque caractéristique indépendante.\n",
    "\n",
    "Capacité à gérer les caractéristiques continues et catégoriques: La régression logistique peut gérer aussi bien les variables continues que les variables catégoriques.\n",
    "\n",
    "Le score peut varier en fonction de l'échantillonnage de différents ensembles de formation.\n",
    "\n",
    "Ainsi, un meilleur prédicteur pour le score du test sera d'ajuster le modèle plusieurs fois, ce qui est fait avec le mécanisme de validation croisée."
   ]
  },
  {
   "cell_type": "code",
   "execution_count": 325,
   "metadata": {
    "execution": {
     "iopub.execute_input": "2022-10-03T13:35:47.592093Z",
     "iopub.status.busy": "2022-10-03T13:35:47.591826Z",
     "iopub.status.idle": "2022-10-03T13:35:47.709932Z",
     "shell.execute_reply": "2022-10-03T13:35:47.708772Z",
     "shell.execute_reply.started": "2022-10-03T13:35:47.592063Z"
    }
   },
   "outputs": [
    {
     "name": "stdout",
     "output_type": "stream",
     "text": [
      "0.9118840579710145\n"
     ]
    }
   ],
   "source": [
    "# Create Logistic Regression Classifier model\n",
    "spam_clf = LogisticRegression(solver = 'liblinear', max_iter = 12000)\n",
    "\n",
    "# Fit the model using the training set\n",
    "spam_clf.fit(X_train, y_train)\n",
    "\n",
    "print(spam_clf.score(X_train, y_train)) "
   ]
  },
  {
   "cell_type": "markdown",
   "metadata": {},
   "source": [
    "#### cross validation"
   ]
  },
  {
   "cell_type": "code",
   "execution_count": 326,
   "metadata": {
    "execution": {
     "iopub.execute_input": "2022-10-03T13:35:48.402039Z",
     "iopub.status.busy": "2022-10-03T13:35:48.401777Z",
     "iopub.status.idle": "2022-10-03T13:35:48.948652Z",
     "shell.execute_reply": "2022-10-03T13:35:48.947903Z",
     "shell.execute_reply.started": "2022-10-03T13:35:48.402009Z"
    }
   },
   "outputs": [
    {
     "name": "stdout",
     "output_type": "stream",
     "text": [
      "\u001b[1m Scores: \u001b[0m0.904 0.893 0.919 0.901 0.925 0.904 0.901 0.904 0.939 0.901 \n",
      "\u001b[1m Average: \u001b[0m 0.9092753623188405\n"
     ]
    }
   ],
   "source": [
    "k = 10\n",
    "scores = cross_val_score(spam_clf, X_train, y_train, cv = k)\n",
    "\n",
    "print('\\033[1m Scores: \\033[0m' + (k * '{:.3f} ').format(*scores))\n",
    "print('\\033[1m Average: \\033[0m', scores.mean())"
   ]
  },
  {
   "cell_type": "markdown",
   "metadata": {},
   "source": [
    "## Grid Search"
   ]
  },
  {
   "cell_type": "markdown",
   "metadata": {},
   "source": [
    "Un grid search est intéressant pour une classification binaire avec une régression logistique car cela permet de trouver les meilleurs hyperparamètres pour un modèle de régression logistique. \n",
    "\n",
    "La méthode de grid search consiste à définir une grille de valeurs pour les hyperparamètres du modèle et à évaluer les performances du modèle pour chaque combinaison d'hyperparamètres. Ainsi, le grid search peut aider à trouver les hyperparamètres qui donnent les meilleures performances de classification, en minimisant les erreurs d'entraînement et de validation. \n",
    "\n",
    "Cela peut entraîner une amélioration significative de la performance du modèle par rapport à un choix aléatoire ou manuel des hyperparamètres."
   ]
  },
  {
   "cell_type": "code",
   "execution_count": 327,
   "metadata": {
    "execution": {
     "iopub.execute_input": "2022-10-03T13:35:53.736298Z",
     "iopub.status.busy": "2022-10-03T13:35:53.736017Z",
     "iopub.status.idle": "2022-10-03T13:35:53.742116Z",
     "shell.execute_reply": "2022-10-03T13:35:53.741434Z",
     "shell.execute_reply.started": "2022-10-03T13:35:53.736266Z"
    }
   },
   "outputs": [
    {
     "data": {
      "text/plain": [
       "{'C': 1.0,\n",
       " 'class_weight': None,\n",
       " 'dual': False,\n",
       " 'fit_intercept': True,\n",
       " 'intercept_scaling': 1,\n",
       " 'l1_ratio': None,\n",
       " 'max_iter': 12000,\n",
       " 'multi_class': 'auto',\n",
       " 'n_jobs': None,\n",
       " 'penalty': 'l2',\n",
       " 'random_state': None,\n",
       " 'solver': 'liblinear',\n",
       " 'tol': 0.0001,\n",
       " 'verbose': 0,\n",
       " 'warm_start': False}"
      ]
     },
     "execution_count": 327,
     "metadata": {},
     "output_type": "execute_result"
    }
   ],
   "source": [
    "# Explore the hyperparameters by calling the get_params() method\n",
    "spam_clf.get_params()"
   ]
  },
  {
   "cell_type": "code",
   "execution_count": 328,
   "metadata": {
    "execution": {
     "iopub.execute_input": "2022-10-03T13:35:56.664768Z",
     "iopub.status.busy": "2022-10-03T13:35:56.664498Z",
     "iopub.status.idle": "2022-10-03T13:35:58.471442Z",
     "shell.execute_reply": "2022-10-03T13:35:58.470664Z",
     "shell.execute_reply.started": "2022-10-03T13:35:56.664738Z"
    }
   },
   "outputs": [
    {
     "name": "stdout",
     "output_type": "stream",
     "text": [
      "\u001b[1m Best model: \u001b[0m LogisticRegression(C=1, max_iter=12000, solver='liblinear')\n",
      "\u001b[1m Best parameters: \u001b[0m {'C': 1, 'fit_intercept': True}\n",
      "\u001b[1m Best score: \u001b[0m 0.9098550724637682\n"
     ]
    }
   ],
   "source": [
    "# Create Grid Search\n",
    "clf_gs = GridSearchCV(spam_clf, param_grid = {'C': [0.01, 0.1, 1, 10, 100], \n",
    "                                           'fit_intercept': [True, False]},\n",
    "                                           cv = 2)\n",
    "# Fit the model using the training set\n",
    "clf_gs.fit(X_train, y_train)\n",
    "\n",
    "print('\\033[1m Best model: \\033[0m', clf_gs.best_estimator_)\n",
    "print('\\033[1m Best parameters: \\033[0m', clf_gs.best_params_)\n",
    "print('\\033[1m Best score: \\033[0m', clf_gs.best_score_)"
   ]
  },
  {
   "cell_type": "markdown",
   "metadata": {},
   "source": [
    "## Ensemble methods"
   ]
  },
  {
   "cell_type": "markdown",
   "metadata": {},
   "source": [
    "*  **Avergaring methods:**\n",
    "    *    Voting\n",
    "    *    Bagging\n",
    "        \n",
    "        \n",
    "*  **Boosting methods:**\n",
    "    *    AdaBoost\n",
    "    *    Gradient boosting"
   ]
  },
  {
   "cell_type": "markdown",
   "metadata": {},
   "source": [
    "## Voting"
   ]
  },
  {
   "cell_type": "markdown",
   "metadata": {},
   "source": [
    "Les méthodes de vote en classification binaire permettent de combiner les résultats de plusieurs classificateurs pour obtenir une classification finale.\n",
    " \n",
    "Elles peuvent améliorer la précision et la stabilité des résultats en minimisant les erreurs individuelles de chaque classificateur."
   ]
  },
  {
   "cell_type": "code",
   "execution_count": 329,
   "metadata": {
    "execution": {
     "iopub.execute_input": "2022-10-03T13:36:02.529093Z",
     "iopub.status.busy": "2022-10-03T13:36:02.528828Z",
     "iopub.status.idle": "2022-10-03T13:36:04.485865Z",
     "shell.execute_reply": "2022-10-03T13:36:04.485056Z",
     "shell.execute_reply.started": "2022-10-03T13:36:02.529063Z"
    }
   },
   "outputs": [
    {
     "name": "stdout",
     "output_type": "stream",
     "text": [
      "\u001b[1m LR  Classifier: \u001b[0m \n",
      "         \ttrain accuracy: 0.91\n",
      "         \ttest accuracy: 0.90\n",
      "\u001b[1m DT  Classifier: \u001b[0m \n",
      "         \ttrain accuracy: 0.92\n",
      "         \ttest accuracy: 0.90\n",
      "\u001b[1m SVM Classifier: \u001b[0m \n",
      "         \ttrain accuracy: 0.72\n",
      "         \ttest accuracy: 0.71\n"
     ]
    }
   ],
   "source": [
    "# Considérons 3 classifieurs différents : Régression logistique, arbre de décision, machine à vecteur de support.\n",
    "clf1 = LogisticRegression(solver='liblinear')\n",
    "clf2 = DecisionTreeClassifier(max_depth = 5)\n",
    "clf3 = SVC()\n",
    "\n",
    "classifiers = [('LR', clf1), ('DT', clf2), ('SVM', clf3)]\n",
    "\n",
    "results = y_train.to_frame()\n",
    "for clf_name, clf in classifiers:\n",
    "    clf.fit(X_train, y_train)\n",
    "    results[clf_name] = clf.predict(X_train)\n",
    "    print('\\033[1m {:3} Classifier: \\033[0m \\n \\\n",
    "        \\ttrain accuracy: {:.2f}\\n \\\n",
    "        \\ttest accuracy: {:.2f}'\\\n",
    "         .format(clf_name,\n",
    "                 clf.score(X_train, y_train),\n",
    "                 clf.score(X_test, y_test)))"
   ]
  },
  {
   "cell_type": "code",
   "execution_count": 330,
   "metadata": {
    "execution": {
     "iopub.execute_input": "2022-10-03T13:36:05.840874Z",
     "iopub.status.busy": "2022-10-03T13:36:05.840610Z",
     "iopub.status.idle": "2022-10-03T13:36:07.410850Z",
     "shell.execute_reply": "2022-10-03T13:36:07.410044Z",
     "shell.execute_reply.started": "2022-10-03T13:36:05.840844Z"
    }
   },
   "outputs": [
    {
     "name": "stdout",
     "output_type": "stream",
     "text": [
      "\u001b[1m Voting Classifier: \u001b[0m \n",
      "         \ttrain accuracy: 0.91\n",
      "         \ttest accuracy: 0.89\n"
     ]
    }
   ],
   "source": [
    "# Create Voting Classifier model\n",
    "# dans cette section, je cree mon modele de classification basé sur le vote\n",
    "clf_voting = VotingClassifier(estimators = classifiers, voting = 'hard')\n",
    "clf_voting.fit(X_train, y_train)\n",
    "\n",
    "print('\\033[1m {:3} Classifier: \\033[0m \\n \\\n",
    "        \\ttrain accuracy: {:.2f}\\n \\\n",
    "        \\ttest accuracy: {:.2f}'\\\n",
    "         .format('Voting',\n",
    "                 clf_voting.score(X_train, y_train),\n",
    "                 clf_voting.score(X_test, y_test)))"
   ]
  },
  {
   "cell_type": "markdown",
   "metadata": {},
   "source": [
    "## Bagging (Bootstrap Aggregation)"
   ]
  },
  {
   "cell_type": "markdown",
   "metadata": {},
   "source": [
    "La méthode de Bagging (agrégation par bootstrap) peut être utilisée dans la classification binaire pour réduire la variance dans les résultats des modèles en générant plusieurs modèles de formation différents à partir d'échantillons bootstrappés de l'ensemble de données d'origine."
   ]
  },
  {
   "cell_type": "markdown",
   "metadata": {},
   "source": [
    "### Decision Tree as a base model"
   ]
  },
  {
   "cell_type": "code",
   "execution_count": 331,
   "metadata": {
    "execution": {
     "iopub.execute_input": "2022-10-03T13:36:09.162651Z",
     "iopub.status.busy": "2022-10-03T13:36:09.161970Z",
     "iopub.status.idle": "2022-10-03T13:36:12.225418Z",
     "shell.execute_reply": "2022-10-03T13:36:12.224425Z",
     "shell.execute_reply.started": "2022-10-03T13:36:09.162612Z"
    }
   },
   "outputs": [
    {
     "name": "stdout",
     "output_type": "stream",
     "text": [
      "\u001b[1m DT Bagging Classifier: \u001b[0m \n",
      "     \ttrain accuracy: 0.94\n",
      "     \ttest accuracy: 0.92\n"
     ]
    }
   ],
   "source": [
    "# Create Decision Tree Classifier as a base model\n",
    "clf_base = DecisionTreeClassifier(max_depth = 5)\n",
    "\n",
    "# Create Bagging Classifier model\n",
    "clf_bagging = BaggingClassifier(base_estimator = clf_base, n_estimators = 250)\n",
    "\n",
    "# Fit the model using the training set\n",
    "clf_bagging.fit(X_train, y_train)\n",
    "\n",
    "print('\\033[1m {:3} Classifier: \\033[0m \\n \\\n",
    "    \\ttrain accuracy: {:.2f}\\n \\\n",
    "    \\ttest accuracy: {:.2f}'\\\n",
    "     .format('DT Bagging',\n",
    "             clf_bagging.score(X_train, y_train),\n",
    "             clf_bagging.score(X_test, y_test)))"
   ]
  },
  {
   "cell_type": "markdown",
   "metadata": {},
   "source": [
    "### Logistic Regression as a base model"
   ]
  },
  {
   "cell_type": "code",
   "execution_count": 332,
   "metadata": {
    "execution": {
     "iopub.execute_input": "2022-10-03T13:36:12.464513Z",
     "iopub.status.busy": "2022-10-03T13:36:12.457203Z",
     "iopub.status.idle": "2022-10-03T13:36:22.665283Z",
     "shell.execute_reply": "2022-10-03T13:36:22.664534Z",
     "shell.execute_reply.started": "2022-10-03T13:36:12.464474Z"
    }
   },
   "outputs": [
    {
     "name": "stdout",
     "output_type": "stream",
     "text": [
      "\u001b[1m LR Bagging Classifier: \u001b[0m \n",
      "     \ttrain accuracy: 0.92\n",
      "     \ttest accuracy: 0.90\n"
     ]
    }
   ],
   "source": [
    "# Create Logistic Regression as a base model\n",
    "clf_base = LogisticRegression(solver = 'liblinear', max_iter = 12000)\n",
    "\n",
    "# Create Bagging Classifier model\n",
    "clf_bagging = BaggingClassifier(base_estimator = clf_base,\n",
    "                                n_estimators = 200)\n",
    "\n",
    "# Fit the model using the training set\n",
    "clf_bagging.fit(X_train, y_train)\n",
    "\n",
    "print('\\033[1m {:3} Classifier: \\033[0m \\n \\\n",
    "    \\ttrain accuracy: {:.2f}\\n \\\n",
    "    \\ttest accuracy: {:.2f}'\\\n",
    "     .format('LR Bagging',\n",
    "             clf_bagging.score(X_train, y_train),\n",
    "             clf_bagging.score(X_test, y_test)))"
   ]
  },
  {
   "cell_type": "markdown",
   "metadata": {},
   "source": [
    "## AdaBoost"
   ]
  },
  {
   "cell_type": "code",
   "execution_count": 333,
   "metadata": {
    "execution": {
     "iopub.execute_input": "2022-10-03T13:36:22.868565Z",
     "iopub.status.busy": "2022-10-03T13:36:22.868142Z",
     "iopub.status.idle": "2022-10-03T13:36:25.931958Z",
     "shell.execute_reply": "2022-10-03T13:36:25.931071Z",
     "shell.execute_reply.started": "2022-10-03T13:36:22.868528Z"
    }
   },
   "outputs": [
    {
     "name": "stdout",
     "output_type": "stream",
     "text": [
      "\u001b[1m DT ADA Boosting Classifier: \u001b[0m \n",
      "     \ttrain accuracy: 1.00\n",
      "     \ttest accuracy: 0.94\n"
     ]
    }
   ],
   "source": [
    "# Create Decision Tree Classifier\n",
    "clf_base = DecisionTreeClassifier(max_depth = 5)\n",
    "\n",
    "# Create AdaBoost Classifier method\n",
    "clf_adaboost = AdaBoostClassifier(base_estimator = clf_base,\n",
    "                                  n_estimators = 250,\n",
    "                                  learning_rate = 0.05)\n",
    "\n",
    "# Fit the model using the training set\n",
    "clf_adaboost.fit(X_train, y_train)\n",
    "\n",
    "print('\\033[1m {:3} Classifier: \\033[0m \\n \\\n",
    "    \\ttrain accuracy: {:.2f}\\n \\\n",
    "    \\ttest accuracy: {:.2f}'\\\n",
    "     .format('DT ADA Boosting',\n",
    "             clf_adaboost.score(X_train, y_train),\n",
    "             clf_adaboost.score(X_test, y_test)))"
   ]
  },
  {
   "cell_type": "markdown",
   "metadata": {},
   "source": [
    "## Gradient Boosting"
   ]
  },
  {
   "cell_type": "code",
   "execution_count": 334,
   "metadata": {
    "execution": {
     "iopub.execute_input": "2022-10-03T13:36:25.933546Z",
     "iopub.status.busy": "2022-10-03T13:36:25.933191Z",
     "iopub.status.idle": "2022-10-03T13:36:27.959029Z",
     "shell.execute_reply": "2022-10-03T13:36:27.958079Z",
     "shell.execute_reply.started": "2022-10-03T13:36:25.933505Z"
    }
   },
   "outputs": [
    {
     "name": "stdout",
     "output_type": "stream",
     "text": [
      "\u001b[1m DT Gradient Boosting Classifier: \u001b[0m \n",
      "     \ttrain accuracy: 0.98\n",
      "     \ttest accuracy: 0.94\n"
     ]
    }
   ],
   "source": [
    "# Create Gradient Boosting Classifier\n",
    "clf_GB = GradientBoostingClassifier(max_depth = 5,\n",
    "                                    n_estimators = 250,\n",
    "                                    learning_rate = 0.05)\n",
    "\n",
    "# Fit the model using the training set\n",
    "clf_GB.fit(X_train, y_train)\n",
    "\n",
    "print('\\033[1m {:3} Classifier: \\033[0m \\n \\\n",
    "    \\ttrain accuracy: {:.2f}\\n \\\n",
    "    \\ttest accuracy: {:.2f}'\\\n",
    "     .format('DT Gradient Boosting',\n",
    "             clf_GB.score(X_train, y_train),\n",
    "             clf_GB.score(X_test, y_test)))"
   ]
  },
  {
   "cell_type": "markdown",
   "metadata": {},
   "source": [
    "Pour cette approche de machine learning, en testant l'accuracy sur le test set, on conclus que les modeles de boosting, à savoir adaBoost et gradientBoosting performent assez bien, avec une accuracy sur le train set de 94%"
   ]
  },
  {
   "cell_type": "code",
   "execution_count": null,
   "metadata": {},
   "outputs": [],
   "source": []
  },
  {
   "cell_type": "markdown",
   "metadata": {},
   "source": [
    "# Deep Learning Approach"
   ]
  },
  {
   "cell_type": "markdown",
   "metadata": {},
   "source": [
    "## Binary Classification with Neural Networks"
   ]
  },
  {
   "cell_type": "markdown",
   "metadata": {},
   "source": [
    "### https://www.atmosera.com/blog/binary-classification-with-neural-networks/"
   ]
  },
  {
   "cell_type": "markdown",
   "metadata": {},
   "source": [
    "Etant la premiere partie de ce notebook est bien commentée, j'essayrai d'allez un peu plus vite dans cette deuxième partie."
   ]
  },
  {
   "cell_type": "code",
   "execution_count": 335,
   "metadata": {},
   "outputs": [],
   "source": [
    "# importation des librairies\n",
    "from keras.models import Sequential\n",
    "from keras.layers import Dense\n",
    "from keras.layers import Dropout"
   ]
  },
  {
   "cell_type": "markdown",
   "metadata": {},
   "source": [
    "Pour l'approche de deeplearning, je vais commencer par une architecture de réseau de neurones assez simple, avecc deux couches dances."
   ]
  },
  {
   "cell_type": "code",
   "execution_count": 336,
   "metadata": {},
   "outputs": [
    {
     "name": "stdout",
     "output_type": "stream",
     "text": [
      "Model: \"sequential_29\"\n",
      "_________________________________________________________________\n",
      " Layer (type)                Output Shape              Param #   \n",
      "=================================================================\n",
      " dense_86 (Dense)            (None, 128)               3456      \n",
      "                                                                 \n",
      " dense_87 (Dense)            (None, 1)                 129       \n",
      "                                                                 \n",
      "=================================================================\n",
      "Total params: 3,585\n",
      "Trainable params: 3,585\n",
      "Non-trainable params: 0\n",
      "_________________________________________________________________\n"
     ]
    }
   ],
   "source": [
    "model = Sequential() \n",
    "model.add(Dense(128, activation='relu', input_dim=26))\n",
    "model.add(Dense(1, activation='sigmoid')) \n",
    "model.compile(loss='binary_crossentropy', optimizer='adam', metrics=['accuracy']) \n",
    "model.summary()"
   ]
  },
  {
   "cell_type": "code",
   "execution_count": 337,
   "metadata": {},
   "outputs": [
    {
     "name": "stdout",
     "output_type": "stream",
     "text": [
      "Epoch 1/30\n",
      "690/690 [==============================] - 1s 1ms/step - loss: 1.0622 - accuracy: 0.7742 - val_loss: 0.4770 - val_accuracy: 0.8532\n",
      "Epoch 2/30\n",
      "690/690 [==============================] - 1s 1ms/step - loss: 1.1222 - accuracy: 0.8441 - val_loss: 0.5879 - val_accuracy: 0.8488\n",
      "Epoch 3/30\n",
      "690/690 [==============================] - 1s 1ms/step - loss: 1.2040 - accuracy: 0.8438 - val_loss: 0.3388 - val_accuracy: 0.8862\n",
      "Epoch 4/30\n",
      "690/690 [==============================] - 1s 1ms/step - loss: 0.7215 - accuracy: 0.8745 - val_loss: 0.3232 - val_accuracy: 0.8957\n",
      "Epoch 5/30\n",
      "690/690 [==============================] - 1s 1ms/step - loss: 1.0536 - accuracy: 0.8525 - val_loss: 0.4863 - val_accuracy: 0.8888\n",
      "Epoch 6/30\n",
      "690/690 [==============================] - 1s 1ms/step - loss: 1.2903 - accuracy: 0.8641 - val_loss: 0.3610 - val_accuracy: 0.8975\n",
      "Epoch 7/30\n",
      "690/690 [==============================] - 1s 1ms/step - loss: 0.7291 - accuracy: 0.8864 - val_loss: 0.2802 - val_accuracy: 0.9131\n",
      "Epoch 8/30\n",
      "690/690 [==============================] - 1s 1ms/step - loss: 0.9754 - accuracy: 0.8704 - val_loss: 0.4280 - val_accuracy: 0.8844\n",
      "Epoch 9/30\n",
      "690/690 [==============================] - 1s 1ms/step - loss: 0.7930 - accuracy: 0.8794 - val_loss: 1.6945 - val_accuracy: 0.7950\n",
      "Epoch 10/30\n",
      "690/690 [==============================] - 1s 1ms/step - loss: 1.0415 - accuracy: 0.8733 - val_loss: 0.4266 - val_accuracy: 0.9018\n",
      "Epoch 11/30\n",
      "690/690 [==============================] - 1s 1ms/step - loss: 1.0964 - accuracy: 0.8841 - val_loss: 0.3934 - val_accuracy: 0.9088\n",
      "Epoch 12/30\n",
      "690/690 [==============================] - 1s 1ms/step - loss: 0.9709 - accuracy: 0.8899 - val_loss: 0.2958 - val_accuracy: 0.9183\n",
      "Epoch 13/30\n",
      "690/690 [==============================] - 1s 1ms/step - loss: 0.5128 - accuracy: 0.9061 - val_loss: 0.7701 - val_accuracy: 0.8653\n",
      "Epoch 14/30\n",
      "690/690 [==============================] - 1s 1ms/step - loss: 0.5604 - accuracy: 0.8959 - val_loss: 0.2988 - val_accuracy: 0.9105\n",
      "Epoch 15/30\n",
      "690/690 [==============================] - 1s 1ms/step - loss: 0.8915 - accuracy: 0.8864 - val_loss: 0.4073 - val_accuracy: 0.8844\n",
      "Epoch 16/30\n",
      "690/690 [==============================] - 1s 1ms/step - loss: 0.7783 - accuracy: 0.8954 - val_loss: 0.6565 - val_accuracy: 0.8931\n",
      "Epoch 17/30\n",
      "690/690 [==============================] - 1s 1ms/step - loss: 0.5340 - accuracy: 0.9049 - val_loss: 0.3718 - val_accuracy: 0.9062\n",
      "Epoch 18/30\n",
      "690/690 [==============================] - 1s 1ms/step - loss: 0.4739 - accuracy: 0.9003 - val_loss: 0.5132 - val_accuracy: 0.8931\n",
      "Epoch 19/30\n",
      "690/690 [==============================] - 1s 1ms/step - loss: 0.7264 - accuracy: 0.9012 - val_loss: 0.3613 - val_accuracy: 0.9010\n",
      "Epoch 20/30\n",
      "690/690 [==============================] - 1s 1ms/step - loss: 0.4574 - accuracy: 0.9078 - val_loss: 0.3597 - val_accuracy: 0.9036\n",
      "Epoch 21/30\n",
      "690/690 [==============================] - 1s 1ms/step - loss: 0.4641 - accuracy: 0.9017 - val_loss: 0.3963 - val_accuracy: 0.9027\n",
      "Epoch 22/30\n",
      "690/690 [==============================] - 1s 1ms/step - loss: 0.5827 - accuracy: 0.8962 - val_loss: 0.2716 - val_accuracy: 0.9175\n",
      "Epoch 23/30\n",
      "690/690 [==============================] - 1s 1ms/step - loss: 0.4307 - accuracy: 0.9064 - val_loss: 0.3346 - val_accuracy: 0.9044\n",
      "Epoch 24/30\n",
      "690/690 [==============================] - 1s 1ms/step - loss: 0.6351 - accuracy: 0.9058 - val_loss: 0.3638 - val_accuracy: 0.9088\n",
      "Epoch 25/30\n",
      "690/690 [==============================] - 1s 1ms/step - loss: 0.4634 - accuracy: 0.9017 - val_loss: 1.0244 - val_accuracy: 0.8097\n",
      "Epoch 26/30\n",
      "690/690 [==============================] - 1s 1ms/step - loss: 0.7056 - accuracy: 0.8965 - val_loss: 0.3564 - val_accuracy: 0.8844\n",
      "Epoch 27/30\n",
      "690/690 [==============================] - 1s 1ms/step - loss: 0.4603 - accuracy: 0.9093 - val_loss: 0.4737 - val_accuracy: 0.8688\n",
      "Epoch 28/30\n",
      "690/690 [==============================] - 1s 1ms/step - loss: 0.4215 - accuracy: 0.9067 - val_loss: 0.5033 - val_accuracy: 0.8636\n",
      "Epoch 29/30\n",
      "690/690 [==============================] - 1s 1ms/step - loss: 0.6045 - accuracy: 0.8988 - val_loss: 0.2835 - val_accuracy: 0.9140\n",
      "Epoch 30/30\n",
      "690/690 [==============================] - 1s 1ms/step - loss: 0.3656 - accuracy: 0.9174 - val_loss: 1.9935 - val_accuracy: 0.8367\n"
     ]
    }
   ],
   "source": [
    "hist = model.fit(X_train, y_train, validation_data=(X_test, y_test), epochs=30, batch_size=5)"
   ]
  },
  {
   "cell_type": "markdown",
   "metadata": {},
   "source": [
    "le code de cette nous permet de visualiser l'accuracy sur le training set et le test set durant l'entrainement de notre modele."
   ]
  },
  {
   "cell_type": "code",
   "execution_count": 338,
   "metadata": {},
   "outputs": [
    {
     "data": {
      "text/plain": [
       "[]"
      ]
     },
     "execution_count": 338,
     "metadata": {},
     "output_type": "execute_result"
    },
    {
     "data": {
      "image/png": "[encoded data removed]",
      "text/plain": [
       "<Figure size 640x480 with 1 Axes>"
      ]
     },
     "metadata": {},
     "output_type": "display_data"
    }
   ],
   "source": [
    "import matplotlib.pyplot as plt\n",
    "%matplotlib inline\n",
    "import seaborn as sns\n",
    "sns.set()\n",
    " \n",
    "acc = hist.history['accuracy']\n",
    "val = hist.history['val_accuracy']\n",
    "epochs = range(1, len(acc) + 1)\n",
    " \n",
    "plt.plot(epochs, acc, '-', label='Training accuracy')\n",
    "plt.plot(epochs, val, ':', label='Validation accuracy')\n",
    "plt.title('Training and Validation Accuracy')\n",
    "plt.xlabel('Epoch')\n",
    "plt.ylabel('Accuracy')\n",
    "plt.legend(loc='lower right')\n",
    "plt.plot()"
   ]
  },
  {
   "cell_type": "markdown",
   "metadata": {},
   "source": [
    "Pour visualiser les résultats de ma prédiction, j'utilise la matrice de corrélation pour voir les faux/vrais positifs et les faux/vrais négatifs "
   ]
  },
  {
   "cell_type": "code",
   "execution_count": 339,
   "metadata": {},
   "outputs": [
    {
     "name": "stdout",
     "output_type": "stream",
     "text": [
      "WARNING:tensorflow:5 out of the last 46 calls to <function Model.make_predict_function.<locals>.predict_function at 0x000001739D6AD430> triggered tf.function retracing. Tracing is expensive and the excessive number of tracings could be due to (1) creating @tf.function repeatedly in a loop, (2) passing tensors with different shapes, (3) passing Python objects instead of tensors. For (1), please define your @tf.function outside of the loop. For (2), @tf.function has reduce_retracing=True option that can avoid unnecessary retracing. For (3), please refer to https://www.tensorflow.org/guide/function#controlling_retracing and https://www.tensorflow.org/api_docs/python/tf/function for  more details.\n",
      "36/36 [==============================] - 0s 659us/step\n"
     ]
    },
    {
     "data": {
      "text/plain": [
       "Text(110.44999999999997, 0.5, 'Actual label')"
      ]
     },
     "execution_count": 339,
     "metadata": {},
     "output_type": "execute_result"
    },
    {
     "data": {
      "image/png": "[encoded data removed]",
      "text/plain": [
       "<Figure size 640x480 with 1 Axes>"
      ]
     },
     "metadata": {},
     "output_type": "display_data"
    }
   ],
   "source": [
    "from sklearn.metrics import confusion_matrix\n",
    " \n",
    "y_predicted = model.predict(X_test) > 0.5\n",
    "mat = confusion_matrix(y_test, y_predicted)\n",
    "labels = ['natural', 'spam']\n",
    " \n",
    "sns.heatmap(mat, square=True, annot=True, fmt='d', cbar=False, cmap='Blues',\n",
    "            xticklabels=labels, yticklabels=labels)\n",
    " \n",
    "plt.xlabel('Predicted label')\n",
    "plt.ylabel('Actual label')"
   ]
  },
  {
   "cell_type": "markdown",
   "metadata": {},
   "source": [
    "On constate que mon modele a réussi à detecter 422 mail spam parmi 493 vrai spam, ce qui est considérablement performant."
   ]
  },
  {
   "cell_type": "markdown",
   "metadata": {},
   "source": [
    "### test du meme model avec une data normalisée"
   ]
  },
  {
   "cell_type": "markdown",
   "metadata": {},
   "source": [
    "Dans cette partie, je vais tester le meme modèle, mais sur une data normalisée"
   ]
  },
  {
   "cell_type": "code",
   "execution_count": 340,
   "metadata": {},
   "outputs": [],
   "source": [
    "# normalisation du train set\n",
    "X_train = (X_train - X_train.mean()) / X_train.std()\n",
    "X_test = (X_test - X_test.mean()) / X_test.std()\n"
   ]
  },
  {
   "cell_type": "code",
   "execution_count": 341,
   "metadata": {},
   "outputs": [
    {
     "name": "stdout",
     "output_type": "stream",
     "text": [
      "Model: \"sequential_30\"\n",
      "_________________________________________________________________\n",
      " Layer (type)                Output Shape              Param #   \n",
      "=================================================================\n",
      " dense_88 (Dense)            (None, 128)               3456      \n",
      "                                                                 \n",
      " dense_89 (Dense)            (None, 1)                 129       \n",
      "                                                                 \n",
      "=================================================================\n",
      "Total params: 3,585\n",
      "Trainable params: 3,585\n",
      "Non-trainable params: 0\n",
      "_________________________________________________________________\n",
      "Epoch 1/30\n",
      "690/690 [==============================] - 1s 1ms/step - loss: 0.2961 - accuracy: 0.8986 - val_loss: 0.2359 - val_accuracy: 0.9253\n",
      "Epoch 2/30\n",
      "690/690 [==============================] - 1s 1ms/step - loss: 0.2177 - accuracy: 0.9229 - val_loss: 0.2237 - val_accuracy: 0.9253\n",
      "Epoch 3/30\n",
      "690/690 [==============================] - 1s 1ms/step - loss: 0.1933 - accuracy: 0.9275 - val_loss: 0.2164 - val_accuracy: 0.9270\n",
      "Epoch 4/30\n",
      "690/690 [==============================] - 1s 1ms/step - loss: 0.1827 - accuracy: 0.9328 - val_loss: 0.2192 - val_accuracy: 0.9244\n",
      "Epoch 5/30\n",
      "690/690 [==============================] - 1s 1ms/step - loss: 0.1755 - accuracy: 0.9339 - val_loss: 0.2113 - val_accuracy: 0.9244\n",
      "Epoch 6/30\n",
      "690/690 [==============================] - 1s 1ms/step - loss: 0.1667 - accuracy: 0.9371 - val_loss: 0.2158 - val_accuracy: 0.9209\n",
      "Epoch 7/30\n",
      "690/690 [==============================] - 1s 1ms/step - loss: 0.1638 - accuracy: 0.9412 - val_loss: 0.2142 - val_accuracy: 0.9235\n",
      "Epoch 8/30\n",
      "690/690 [==============================] - 1s 1ms/step - loss: 0.1592 - accuracy: 0.9449 - val_loss: 0.2170 - val_accuracy: 0.9218\n",
      "Epoch 9/30\n",
      "690/690 [==============================] - 1s 1ms/step - loss: 0.1555 - accuracy: 0.9441 - val_loss: 0.2090 - val_accuracy: 0.9288\n",
      "Epoch 10/30\n",
      "690/690 [==============================] - 1s 1ms/step - loss: 0.1510 - accuracy: 0.9438 - val_loss: 0.2076 - val_accuracy: 0.9253\n",
      "Epoch 11/30\n",
      "690/690 [==============================] - 1s 1ms/step - loss: 0.1459 - accuracy: 0.9470 - val_loss: 0.2223 - val_accuracy: 0.9183\n",
      "Epoch 12/30\n",
      "690/690 [==============================] - 1s 1ms/step - loss: 0.1445 - accuracy: 0.9499 - val_loss: 0.2202 - val_accuracy: 0.9218\n",
      "Epoch 13/30\n",
      "690/690 [==============================] - 1s 1ms/step - loss: 0.1397 - accuracy: 0.9516 - val_loss: 0.2232 - val_accuracy: 0.9209\n",
      "Epoch 14/30\n",
      "690/690 [==============================] - 1s 1ms/step - loss: 0.1377 - accuracy: 0.9539 - val_loss: 0.2230 - val_accuracy: 0.9218\n",
      "Epoch 15/30\n",
      "690/690 [==============================] - 1s 1ms/step - loss: 0.1342 - accuracy: 0.9557 - val_loss: 0.2215 - val_accuracy: 0.9235\n",
      "Epoch 16/30\n",
      "690/690 [==============================] - 1s 1ms/step - loss: 0.1332 - accuracy: 0.9545 - val_loss: 0.2320 - val_accuracy: 0.9183\n",
      "Epoch 17/30\n",
      "690/690 [==============================] - 1s 1ms/step - loss: 0.1286 - accuracy: 0.9545 - val_loss: 0.2281 - val_accuracy: 0.9192\n",
      "Epoch 18/30\n",
      "690/690 [==============================] - 1s 1ms/step - loss: 0.1284 - accuracy: 0.9574 - val_loss: 0.2356 - val_accuracy: 0.9253\n",
      "Epoch 19/30\n",
      "690/690 [==============================] - 1s 1ms/step - loss: 0.1281 - accuracy: 0.9562 - val_loss: 0.2416 - val_accuracy: 0.9218\n",
      "Epoch 20/30\n",
      "690/690 [==============================] - 1s 1ms/step - loss: 0.1230 - accuracy: 0.9574 - val_loss: 0.2417 - val_accuracy: 0.9235\n",
      "Epoch 21/30\n",
      "690/690 [==============================] - 1s 1ms/step - loss: 0.1217 - accuracy: 0.9626 - val_loss: 0.2428 - val_accuracy: 0.9253\n",
      "Epoch 22/30\n",
      "690/690 [==============================] - 1s 1ms/step - loss: 0.1192 - accuracy: 0.9614 - val_loss: 0.2519 - val_accuracy: 0.9201\n",
      "Epoch 23/30\n",
      "690/690 [==============================] - 1s 1ms/step - loss: 0.1176 - accuracy: 0.9612 - val_loss: 0.2394 - val_accuracy: 0.9253\n",
      "Epoch 24/30\n",
      "690/690 [==============================] - 1s 1ms/step - loss: 0.1179 - accuracy: 0.9606 - val_loss: 0.2489 - val_accuracy: 0.9288\n",
      "Epoch 25/30\n",
      "690/690 [==============================] - 1s 1ms/step - loss: 0.1177 - accuracy: 0.9606 - val_loss: 0.2470 - val_accuracy: 0.9244\n",
      "Epoch 26/30\n",
      "690/690 [==============================] - 1s 1ms/step - loss: 0.1127 - accuracy: 0.9620 - val_loss: 0.2495 - val_accuracy: 0.9279\n",
      "Epoch 27/30\n",
      "690/690 [==============================] - 1s 1ms/step - loss: 0.1126 - accuracy: 0.9626 - val_loss: 0.2430 - val_accuracy: 0.9183\n",
      "Epoch 28/30\n",
      "690/690 [==============================] - 1s 1ms/step - loss: 0.1106 - accuracy: 0.9646 - val_loss: 0.2666 - val_accuracy: 0.9244\n",
      "Epoch 29/30\n",
      "690/690 [==============================] - 1s 1ms/step - loss: 0.1088 - accuracy: 0.9649 - val_loss: 0.2582 - val_accuracy: 0.9262\n",
      "Epoch 30/30\n",
      "690/690 [==============================] - 1s 1ms/step - loss: 0.1083 - accuracy: 0.9635 - val_loss: 0.2668 - val_accuracy: 0.9218\n"
     ]
    }
   ],
   "source": [
    "model = Sequential() \n",
    "model.add(Dense(128, activation='relu', input_dim=26))\n",
    "model.add(Dense(1, activation='sigmoid')) \n",
    "model.compile(loss='binary_crossentropy', optimizer='adam', metrics=['accuracy']) \n",
    "model.summary()\n",
    "hist = model.fit(X_train, y_train, validation_data=(X_test, y_test), epochs=30, batch_size=5)"
   ]
  },
  {
   "cell_type": "code",
   "execution_count": 342,
   "metadata": {},
   "outputs": [
    {
     "data": {
      "text/plain": [
       "[]"
      ]
     },
     "execution_count": 342,
     "metadata": {},
     "output_type": "execute_result"
    },
    {
     "data": {
      "image/png": "[encoded data removed]",
      "text/plain": [
       "<Figure size 640x480 with 1 Axes>"
      ]
     },
     "metadata": {},
     "output_type": "display_data"
    }
   ],
   "source": [
    "import matplotlib.pyplot as plt\n",
    "%matplotlib inline\n",
    "import seaborn as sns\n",
    "sns.set()\n",
    " \n",
    "acc = hist.history['accuracy']\n",
    "val = hist.history['val_accuracy']\n",
    "epochs = range(1, len(acc) + 1)\n",
    " \n",
    "plt.plot(epochs, acc, '-', label='Training accuracy')\n",
    "plt.plot(epochs, val, ':', label='Validation accuracy')\n",
    "plt.title('Training and Validation Accuracy')\n",
    "plt.xlabel('Epoch')\n",
    "plt.ylabel('Accuracy')\n",
    "plt.legend(loc='lower right')\n",
    "plt.plot()"
   ]
  },
  {
   "cell_type": "code",
   "execution_count": 343,
   "metadata": {},
   "outputs": [
    {
     "name": "stdout",
     "output_type": "stream",
     "text": [
      "36/36 [==============================] - 0s 657us/step\n"
     ]
    },
    {
     "data": {
      "text/plain": [
       "Text(110.44999999999997, 0.5, 'Actual label')"
      ]
     },
     "execution_count": 343,
     "metadata": {},
     "output_type": "execute_result"
    },
    {
     "data": {
      "image/png": "[encoded data removed]",
      "text/plain": [
       "<Figure size 640x480 with 1 Axes>"
      ]
     },
     "metadata": {},
     "output_type": "display_data"
    }
   ],
   "source": [
    "from sklearn.metrics import confusion_matrix\n",
    " \n",
    "y_predicted = model.predict(X_test) > 0.5\n",
    "mat = confusion_matrix(y_test, y_predicted)\n",
    "labels = ['natural', 'spam']\n",
    " \n",
    "sns.heatmap(mat, square=True, annot=True, fmt='d', cbar=False, cmap='Blues',\n",
    "            xticklabels=labels, yticklabels=labels)\n",
    " \n",
    "plt.xlabel('Predicted label')\n",
    "plt.ylabel('Actual label')"
   ]
  },
  {
   "cell_type": "markdown",
   "metadata": {},
   "source": [
    "# @@@@@ OZONE_COMPLET TASK  @@@@@"
   ]
  },
  {
   "cell_type": "code",
   "execution_count": 344,
   "metadata": {},
   "outputs": [],
   "source": [
    "# import librairies\n",
    "import matplotlib.pyplot as plt\n",
    "import seaborn as sns"
   ]
  },
  {
   "cell_type": "code",
   "execution_count": 345,
   "metadata": {},
   "outputs": [],
   "source": [
    "DF = pd.read_csv(\"ozone_complet.csv\", sep = \";\" )"
   ]
  },
  {
   "cell_type": "markdown",
   "metadata": {},
   "source": [
    "etablir la matrice de corrélation pour evaluer la corrélation entre les variables "
   ]
  },
  {
   "cell_type": "code",
   "execution_count": 346,
   "metadata": {},
   "outputs": [
    {
     "data": {
      "image/png": "[encoded data removed]",
      "text/plain": [
       "<Figure size 800x600 with 2 Axes>"
      ]
     },
     "metadata": {},
     "output_type": "display_data"
    }
   ],
   "source": [
    "corr_df = DF.corr(method='pearson')\n",
    "\n",
    "plt.figure(figsize=(8, 6))\n",
    "sns.heatmap(corr_df)\n",
    "plt.show()\n"
   ]
  },
  {
   "cell_type": "markdown",
   "metadata": {},
   "source": [
    "Dans la méme optique que la première partie, j'utilise "
   ]
  },
  {
   "cell_type": "code",
   "execution_count": 347,
   "metadata": {},
   "outputs": [],
   "source": [
    "#Correlation Matrix\n",
    "def new_data_correlation(data, s, target):\n",
    "    A = data.corr()\n",
    "    correlation_table = pd.DataFrame(A[target]).reset_index()\n",
    "    selected_columns = correlation_table[abs(correlation_table[target]) >= s]\n",
    "    return data[selected_columns[\"index\"].tolist()]"
   ]
  },
  {
   "cell_type": "markdown",
   "metadata": {},
   "source": [
    "Je commence par testet un table analytique avec les colonnes dans la corrélation dépasse le seuil défini : 15%"
   ]
  },
  {
   "cell_type": "code",
   "execution_count": 348,
   "metadata": {},
   "outputs": [],
   "source": [
    "ozone = new_data_correlation(DF, 0.15,'maxO3')"
   ]
  },
  {
   "cell_type": "code",
   "execution_count": 349,
   "metadata": {},
   "outputs": [
    {
     "data": {
      "text/html": [
       "<div>\n",
       "<style scoped>\n",
       "    .dataframe tbody tr th:only-of-type {\n",
       "        vertical-align: middle;\n",
       "    }\n",
       "\n",
       "    .dataframe tbody tr th {\n",
       "        vertical-align: top;\n",
       "    }\n",
       "\n",
       "    .dataframe thead th {\n",
       "        text-align: right;\n",
       "    }\n",
       "</style>\n",
       "<table border=\"1\" class=\"dataframe\">\n",
       "  <thead>\n",
       "    <tr style=\"text-align: right;\">\n",
       "      <th></th>\n",
       "      <th>maxO3</th>\n",
       "      <th>T9</th>\n",
       "      <th>T12</th>\n",
       "      <th>T15</th>\n",
       "      <th>T18</th>\n",
       "      <th>Ne6</th>\n",
       "      <th>Ne9</th>\n",
       "      <th>Ne12</th>\n",
       "      <th>Ne15</th>\n",
       "      <th>Ne18</th>\n",
       "      <th>Vvit6</th>\n",
       "      <th>Vdir9</th>\n",
       "      <th>Vvit9</th>\n",
       "      <th>Vdir12</th>\n",
       "      <th>Vdir15</th>\n",
       "      <th>Vdir18</th>\n",
       "      <th>Vx</th>\n",
       "      <th>maxO3v</th>\n",
       "    </tr>\n",
       "  </thead>\n",
       "  <tbody>\n",
       "    <tr>\n",
       "      <th>19950401</th>\n",
       "      <td>47.6</td>\n",
       "      <td>11.6</td>\n",
       "      <td>13.3</td>\n",
       "      <td>13.6</td>\n",
       "      <td>12.2</td>\n",
       "      <td>8.0</td>\n",
       "      <td>8.0</td>\n",
       "      <td>8.0</td>\n",
       "      <td>8.0</td>\n",
       "      <td>8.0</td>\n",
       "      <td>2.0</td>\n",
       "      <td>290.0</td>\n",
       "      <td>4.0</td>\n",
       "      <td>300.0</td>\n",
       "      <td>340.0</td>\n",
       "      <td>20.0</td>\n",
       "      <td>-3.4641</td>\n",
       "      <td>62.2</td>\n",
       "    </tr>\n",
       "    <tr>\n",
       "      <th>19950402</th>\n",
       "      <td>56.2</td>\n",
       "      <td>9.4</td>\n",
       "      <td>13.8</td>\n",
       "      <td>17.4</td>\n",
       "      <td>16.3</td>\n",
       "      <td>8.0</td>\n",
       "      <td>8.0</td>\n",
       "      <td>7.0</td>\n",
       "      <td>0.0</td>\n",
       "      <td>0.0</td>\n",
       "      <td>2.0</td>\n",
       "      <td>160.0</td>\n",
       "      <td>2.0</td>\n",
       "      <td>180.0</td>\n",
       "      <td>110.0</td>\n",
       "      <td>350.0</td>\n",
       "      <td>0.0000</td>\n",
       "      <td>47.6</td>\n",
       "    </tr>\n",
       "    <tr>\n",
       "      <th>19950403</th>\n",
       "      <td>61.8</td>\n",
       "      <td>8.0</td>\n",
       "      <td>16.8</td>\n",
       "      <td>21.5</td>\n",
       "      <td>20.2</td>\n",
       "      <td>4.0</td>\n",
       "      <td>5.0</td>\n",
       "      <td>2.0</td>\n",
       "      <td>2.0</td>\n",
       "      <td>3.0</td>\n",
       "      <td>2.0</td>\n",
       "      <td>20.0</td>\n",
       "      <td>2.0</td>\n",
       "      <td>340.0</td>\n",
       "      <td>170.0</td>\n",
       "      <td>170.0</td>\n",
       "      <td>-0.3420</td>\n",
       "      <td>56.2</td>\n",
       "    </tr>\n",
       "    <tr>\n",
       "      <th>19950404</th>\n",
       "      <td>50.8</td>\n",
       "      <td>10.5</td>\n",
       "      <td>11.4</td>\n",
       "      <td>12.2</td>\n",
       "      <td>11.4</td>\n",
       "      <td>8.0</td>\n",
       "      <td>7.0</td>\n",
       "      <td>7.0</td>\n",
       "      <td>7.0</td>\n",
       "      <td>8.0</td>\n",
       "      <td>3.0</td>\n",
       "      <td>10.0</td>\n",
       "      <td>4.0</td>\n",
       "      <td>350.0</td>\n",
       "      <td>350.0</td>\n",
       "      <td>350.0</td>\n",
       "      <td>-0.5209</td>\n",
       "      <td>61.8</td>\n",
       "    </tr>\n",
       "    <tr>\n",
       "      <th>19950405</th>\n",
       "      <td>59.8</td>\n",
       "      <td>10.8</td>\n",
       "      <td>13.8</td>\n",
       "      <td>14.3</td>\n",
       "      <td>13.3</td>\n",
       "      <td>8.0</td>\n",
       "      <td>7.0</td>\n",
       "      <td>8.0</td>\n",
       "      <td>8.0</td>\n",
       "      <td>7.0</td>\n",
       "      <td>2.0</td>\n",
       "      <td>340.0</td>\n",
       "      <td>2.0</td>\n",
       "      <td>280.0</td>\n",
       "      <td>320.0</td>\n",
       "      <td>350.0</td>\n",
       "      <td>-0.9848</td>\n",
       "      <td>50.8</td>\n",
       "    </tr>\n",
       "  </tbody>\n",
       "</table>\n",
       "</div>"
      ],
      "text/plain": [
       "          maxO3    T9   T12   T15   T18  Ne6  Ne9  Ne12  Ne15  Ne18  Vvit6  \\\n",
       "19950401   47.6  11.6  13.3  13.6  12.2  8.0  8.0   8.0   8.0   8.0    2.0   \n",
       "19950402   56.2   9.4  13.8  17.4  16.3  8.0  8.0   7.0   0.0   0.0    2.0   \n",
       "19950403   61.8   8.0  16.8  21.5  20.2  4.0  5.0   2.0   2.0   3.0    2.0   \n",
       "19950404   50.8  10.5  11.4  12.2  11.4  8.0  7.0   7.0   7.0   8.0    3.0   \n",
       "19950405   59.8  10.8  13.8  14.3  13.3  8.0  7.0   8.0   8.0   7.0    2.0   \n",
       "\n",
       "          Vdir9  Vvit9  Vdir12  Vdir15  Vdir18      Vx  maxO3v  \n",
       "19950401  290.0    4.0   300.0   340.0    20.0 -3.4641    62.2  \n",
       "19950402  160.0    2.0   180.0   110.0   350.0  0.0000    47.6  \n",
       "19950403   20.0    2.0   340.0   170.0   170.0 -0.3420    56.2  \n",
       "19950404   10.0    4.0   350.0   350.0   350.0 -0.5209    61.8  \n",
       "19950405  340.0    2.0   280.0   320.0   350.0 -0.9848    50.8  "
      ]
     },
     "execution_count": 349,
     "metadata": {},
     "output_type": "execute_result"
    }
   ],
   "source": [
    "ozone.head()"
   ]
  },
  {
   "cell_type": "code",
   "execution_count": 350,
   "metadata": {},
   "outputs": [],
   "source": [
    "ozone = ozone.dropna()"
   ]
  },
  {
   "cell_type": "code",
   "execution_count": 351,
   "metadata": {},
   "outputs": [
    {
     "data": {
      "text/html": [
       "<div>\n",
       "<style scoped>\n",
       "    .dataframe tbody tr th:only-of-type {\n",
       "        vertical-align: middle;\n",
       "    }\n",
       "\n",
       "    .dataframe tbody tr th {\n",
       "        vertical-align: top;\n",
       "    }\n",
       "\n",
       "    .dataframe thead th {\n",
       "        text-align: right;\n",
       "    }\n",
       "</style>\n",
       "<table border=\"1\" class=\"dataframe\">\n",
       "  <thead>\n",
       "    <tr style=\"text-align: right;\">\n",
       "      <th></th>\n",
       "      <th>maxO3</th>\n",
       "      <th>T9</th>\n",
       "      <th>T12</th>\n",
       "      <th>T15</th>\n",
       "      <th>T18</th>\n",
       "      <th>Ne6</th>\n",
       "      <th>Ne9</th>\n",
       "      <th>Ne12</th>\n",
       "      <th>Ne15</th>\n",
       "      <th>Ne18</th>\n",
       "      <th>Vvit6</th>\n",
       "      <th>Vdir9</th>\n",
       "      <th>Vvit9</th>\n",
       "      <th>Vdir12</th>\n",
       "      <th>Vdir15</th>\n",
       "      <th>Vdir18</th>\n",
       "      <th>Vx</th>\n",
       "      <th>maxO3v</th>\n",
       "    </tr>\n",
       "  </thead>\n",
       "  <tbody>\n",
       "    <tr>\n",
       "      <th>19950401</th>\n",
       "      <td>47.6</td>\n",
       "      <td>11.6</td>\n",
       "      <td>13.3</td>\n",
       "      <td>13.6</td>\n",
       "      <td>12.2</td>\n",
       "      <td>8.0</td>\n",
       "      <td>8.0</td>\n",
       "      <td>8.0</td>\n",
       "      <td>8.0</td>\n",
       "      <td>8.0</td>\n",
       "      <td>2.0</td>\n",
       "      <td>290.0</td>\n",
       "      <td>4.0</td>\n",
       "      <td>300.0</td>\n",
       "      <td>340.0</td>\n",
       "      <td>20.0</td>\n",
       "      <td>-3.4641</td>\n",
       "      <td>62.2</td>\n",
       "    </tr>\n",
       "    <tr>\n",
       "      <th>19950402</th>\n",
       "      <td>56.2</td>\n",
       "      <td>9.4</td>\n",
       "      <td>13.8</td>\n",
       "      <td>17.4</td>\n",
       "      <td>16.3</td>\n",
       "      <td>8.0</td>\n",
       "      <td>8.0</td>\n",
       "      <td>7.0</td>\n",
       "      <td>0.0</td>\n",
       "      <td>0.0</td>\n",
       "      <td>2.0</td>\n",
       "      <td>160.0</td>\n",
       "      <td>2.0</td>\n",
       "      <td>180.0</td>\n",
       "      <td>110.0</td>\n",
       "      <td>350.0</td>\n",
       "      <td>0.0000</td>\n",
       "      <td>47.6</td>\n",
       "    </tr>\n",
       "    <tr>\n",
       "      <th>19950403</th>\n",
       "      <td>61.8</td>\n",
       "      <td>8.0</td>\n",
       "      <td>16.8</td>\n",
       "      <td>21.5</td>\n",
       "      <td>20.2</td>\n",
       "      <td>4.0</td>\n",
       "      <td>5.0</td>\n",
       "      <td>2.0</td>\n",
       "      <td>2.0</td>\n",
       "      <td>3.0</td>\n",
       "      <td>2.0</td>\n",
       "      <td>20.0</td>\n",
       "      <td>2.0</td>\n",
       "      <td>340.0</td>\n",
       "      <td>170.0</td>\n",
       "      <td>170.0</td>\n",
       "      <td>-0.3420</td>\n",
       "      <td>56.2</td>\n",
       "    </tr>\n",
       "    <tr>\n",
       "      <th>19950404</th>\n",
       "      <td>50.8</td>\n",
       "      <td>10.5</td>\n",
       "      <td>11.4</td>\n",
       "      <td>12.2</td>\n",
       "      <td>11.4</td>\n",
       "      <td>8.0</td>\n",
       "      <td>7.0</td>\n",
       "      <td>7.0</td>\n",
       "      <td>7.0</td>\n",
       "      <td>8.0</td>\n",
       "      <td>3.0</td>\n",
       "      <td>10.0</td>\n",
       "      <td>4.0</td>\n",
       "      <td>350.0</td>\n",
       "      <td>350.0</td>\n",
       "      <td>350.0</td>\n",
       "      <td>-0.5209</td>\n",
       "      <td>61.8</td>\n",
       "    </tr>\n",
       "    <tr>\n",
       "      <th>19950405</th>\n",
       "      <td>59.8</td>\n",
       "      <td>10.8</td>\n",
       "      <td>13.8</td>\n",
       "      <td>14.3</td>\n",
       "      <td>13.3</td>\n",
       "      <td>8.0</td>\n",
       "      <td>7.0</td>\n",
       "      <td>8.0</td>\n",
       "      <td>8.0</td>\n",
       "      <td>7.0</td>\n",
       "      <td>2.0</td>\n",
       "      <td>340.0</td>\n",
       "      <td>2.0</td>\n",
       "      <td>280.0</td>\n",
       "      <td>320.0</td>\n",
       "      <td>350.0</td>\n",
       "      <td>-0.9848</td>\n",
       "      <td>50.8</td>\n",
       "    </tr>\n",
       "  </tbody>\n",
       "</table>\n",
       "</div>"
      ],
      "text/plain": [
       "          maxO3    T9   T12   T15   T18  Ne6  Ne9  Ne12  Ne15  Ne18  Vvit6  \\\n",
       "19950401   47.6  11.6  13.3  13.6  12.2  8.0  8.0   8.0   8.0   8.0    2.0   \n",
       "19950402   56.2   9.4  13.8  17.4  16.3  8.0  8.0   7.0   0.0   0.0    2.0   \n",
       "19950403   61.8   8.0  16.8  21.5  20.2  4.0  5.0   2.0   2.0   3.0    2.0   \n",
       "19950404   50.8  10.5  11.4  12.2  11.4  8.0  7.0   7.0   7.0   8.0    3.0   \n",
       "19950405   59.8  10.8  13.8  14.3  13.3  8.0  7.0   8.0   8.0   7.0    2.0   \n",
       "\n",
       "          Vdir9  Vvit9  Vdir12  Vdir15  Vdir18      Vx  maxO3v  \n",
       "19950401  290.0    4.0   300.0   340.0    20.0 -3.4641    62.2  \n",
       "19950402  160.0    2.0   180.0   110.0   350.0  0.0000    47.6  \n",
       "19950403   20.0    2.0   340.0   170.0   170.0 -0.3420    56.2  \n",
       "19950404   10.0    4.0   350.0   350.0   350.0 -0.5209    61.8  \n",
       "19950405  340.0    2.0   280.0   320.0   350.0 -0.9848    50.8  "
      ]
     },
     "execution_count": 351,
     "metadata": {},
     "output_type": "execute_result"
    }
   ],
   "source": [
    "ozone.head()"
   ]
  },
  {
   "cell_type": "code",
   "execution_count": 352,
   "metadata": {},
   "outputs": [],
   "source": [
    "ozone_train, ozone_test = split(ozone, train_size = 0.75, random_state = 500) "
   ]
  },
  {
   "cell_type": "code",
   "execution_count": 353,
   "metadata": {},
   "outputs": [],
   "source": [
    "X_train = ozone_train.drop(['maxO3'], axis = 1)\n",
    "y_train = ozone_train['maxO3']\n",
    "\n",
    "X_test = ozone_test.drop(['maxO3'], axis = 1)\n",
    "y_test = ozone_test['maxO3']"
   ]
  },
  {
   "cell_type": "code",
   "execution_count": 354,
   "metadata": {},
   "outputs": [],
   "source": [
    "# meanx = X_ozone.mean()\n",
    "# stdx  = X_ozone.std()\n",
    "# X_norm = (X_ozone - meanx) / stdx\n",
    "\n",
    "# meany = y_ozone.mean()\n",
    "# stdy  = y_ozone.std()\n",
    "# y_norm = (y_ozone - meany) / stdy"
   ]
  },
  {
   "cell_type": "markdown",
   "metadata": {},
   "source": [
    "## Approche de machine learning"
   ]
  },
  {
   "cell_type": "markdown",
   "metadata": {},
   "source": [
    "### regression lasso"
   ]
  },
  {
   "cell_type": "code",
   "execution_count": 355,
   "metadata": {},
   "outputs": [
    {
     "name": "stdout",
     "output_type": "stream",
     "text": [
      "R2 0.5805461778868638\n"
     ]
    }
   ],
   "source": [
    "from sklearn.linear_model import Lasso\n",
    "from sklearn.metrics import r2_score\n",
    "parameters = {'alpha': 0.1,\n",
    "              'tol': 0.1\n",
    "              }\n",
    "model = Lasso(**parameters)\n",
    "model.fit(X_train, y_train)\n",
    "y_pred = model.predict(X_test)\n",
    "score = r2_score(y_test, y_pred)\n",
    "print(\"R2 {}\".format(score))"
   ]
  },
  {
   "cell_type": "markdown",
   "metadata": {},
   "source": [
    "### regression Ridge:\n"
   ]
  },
  {
   "cell_type": "code",
   "execution_count": 356,
   "metadata": {},
   "outputs": [
    {
     "name": "stdout",
     "output_type": "stream",
     "text": [
      "R2 0.5809165897064508\n"
     ]
    }
   ],
   "source": [
    "from sklearn.linear_model import Ridge\n",
    "from sklearn.metrics import r2_score\n",
    "parameters = {'alpha': 0.1\n",
    "              }\n",
    "model = Ridge(**parameters)\n",
    "model.fit(X_train, y_train)\n",
    "y_pred = model.predict(X_test)\n",
    "score = r2_score(y_test, y_pred)\n",
    "print(\"R2 {}\".format(score))"
   ]
  },
  {
   "cell_type": "markdown",
   "metadata": {},
   "source": [
    "### regression Elastic-Net:"
   ]
  },
  {
   "cell_type": "code",
   "execution_count": 357,
   "metadata": {},
   "outputs": [
    {
     "name": "stdout",
     "output_type": "stream",
     "text": [
      "R2 0.5811460927526134\n"
     ]
    }
   ],
   "source": [
    "from sklearn.linear_model import ElasticNet\n",
    "from sklearn.metrics import r2_score\n",
    "parameters = {'alpha': 0.1,\n",
    "              'l1_ratio': 0.1\n",
    "              }\n",
    "model = ElasticNet(**parameters)\n",
    "model.fit(X_train, y_train)\n",
    "y_pred = model.predict(X_test)\n",
    "score = r2_score(y_test, y_pred)\n",
    "print(\"R2 {}\".format(score))"
   ]
  },
  {
   "cell_type": "markdown",
   "metadata": {},
   "source": [
    "## Approche de Deep Learning"
   ]
  },
  {
   "cell_type": "code",
   "execution_count": 358,
   "metadata": {},
   "outputs": [],
   "source": [
    "from tensorflow import keras\n",
    "from keras.callbacks import ModelCheckpoint"
   ]
  },
  {
   "cell_type": "markdown",
   "metadata": {},
   "source": [
    "Dans cette cellule, j'ecris une fonction qui calcule le score chi2, pour afficher l'erreur sous forme de pourcentage"
   ]
  },
  {
   "cell_type": "code",
   "execution_count": 359,
   "metadata": {},
   "outputs": [],
   "source": [
    "from keras import backend as K\n",
    "\n",
    "def coeff_determination(y_true, y_pred):\n",
    "\n",
    "    SS_res =  K.sum(K.square( y_true-y_pred ))\n",
    "\n",
    "    SS_tot = K.sum(K.square( y_true - K.mean(y_true) ) )\n",
    "\n",
    "    return ( 1 - SS_res/(SS_tot + K.epsilon()) )\n"
   ]
  },
  {
   "cell_type": "markdown",
   "metadata": {},
   "source": [
    "Etblissement de l'architecture :"
   ]
  },
  {
   "cell_type": "code",
   "execution_count": 360,
   "metadata": {},
   "outputs": [],
   "source": [
    "X_train = X_train.to_numpy()\n",
    "y_train = y_train.to_numpy()\n",
    "\n",
    "X_test = X_test.to_numpy()\n",
    "y_test = y_test.to_numpy()"
   ]
  },
  {
   "cell_type": "code",
   "execution_count": 361,
   "metadata": {},
   "outputs": [
    {
     "name": "stdout",
     "output_type": "stream",
     "text": [
      "Model: \"sequential_31\"\n",
      "_________________________________________________________________\n",
      " Layer (type)                Output Shape              Param #   \n",
      "=================================================================\n",
      " dense_90 (Dense)            (None, 128)               2304      \n",
      "                                                                 \n",
      " dense_91 (Dense)            (None, 256)               33024     \n",
      "                                                                 \n",
      " dense_92 (Dense)            (None, 128)               32896     \n",
      "                                                                 \n",
      " dense_93 (Dense)            (None, 1)                 129       \n",
      "                                                                 \n",
      "=================================================================\n",
      "Total params: 68,353\n",
      "Trainable params: 68,353\n",
      "Non-trainable params: 0\n",
      "_________________________________________________________________\n"
     ]
    }
   ],
   "source": [
    "NN_model = Sequential()\n",
    "\n",
    "# The Input Layer :\n",
    "NN_model.add(Dense(128, kernel_initializer='normal',input_dim = X_train.shape[1], activation='relu'))\n",
    "\n",
    "# The Hidden Layers :\n",
    "NN_model.add(Dense(256, kernel_initializer='normal',activation='relu'))\n",
    "NN_model.add(Dense(128, kernel_initializer='normal',activation='relu'))\n",
    "\n",
    "# The Output Layer :\n",
    "NN_model.add(Dense(1, kernel_initializer='normal',activation='linear'))\n",
    "\n",
    "\n",
    "# Compile the network :\n",
    "NN_model.compile(loss='mean_squared_error', optimizer='adam', metrics=[\"mae\"])  # metrics=[coeff_determination]\n",
    "NN_model.summary()"
   ]
  },
  {
   "cell_type": "code",
   "execution_count": 362,
   "metadata": {},
   "outputs": [],
   "source": [
    "checkpoint_name = 'Weights-best_model.hdf5' \n",
    "checkpoint = ModelCheckpoint(checkpoint_name, monitor='val_loss', verbose = 1, save_best_only = True, mode ='auto')\n",
    "callbacks_list = [checkpoint]"
   ]
  },
  {
   "cell_type": "code",
   "execution_count": 363,
   "metadata": {},
   "outputs": [
    {
     "name": "stdout",
     "output_type": "stream",
     "text": [
      "Epoch 1/100\n",
      "40/52 [======================>.......] - ETA: 0s - loss: 2171.4102 - mae: 36.4202 \n",
      "Epoch 1: val_loss improved from inf to 380.46829, saving model to Weights-best_model.hdf5\n",
      "52/52 [==============================] - 1s 4ms/step - loss: 1803.8119 - mae: 32.2582 - val_loss: 380.4683 - val_mae: 14.7333\n",
      "Epoch 2/100\n",
      "41/52 [======================>.......] - ETA: 0s - loss: 305.1091 - mae: 13.5827\n",
      "Epoch 2: val_loss improved from 380.46829 to 228.31378, saving model to Weights-best_model.hdf5\n",
      "52/52 [==============================] - 0s 2ms/step - loss: 294.8819 - mae: 13.4197 - val_loss: 228.3138 - val_mae: 11.9740\n",
      "Epoch 3/100\n",
      "43/52 [=======================>......] - ETA: 0s - loss: 272.6137 - mae: 13.1255\n",
      "Epoch 3: val_loss improved from 228.31378 to 226.70506, saving model to Weights-best_model.hdf5\n",
      "52/52 [==============================] - 0s 2ms/step - loss: 268.0078 - mae: 13.0210 - val_loss: 226.7051 - val_mae: 11.8890\n",
      "Epoch 4/100\n",
      "42/52 [=======================>......] - ETA: 0s - loss: 259.1297 - mae: 12.5806\n",
      "Epoch 4: val_loss did not improve from 226.70506\n",
      "52/52 [==============================] - 0s 2ms/step - loss: 256.2088 - mae: 12.5400 - val_loss: 241.3233 - val_mae: 12.3117\n",
      "Epoch 5/100\n",
      "42/52 [=======================>......] - ETA: 0s - loss: 221.3076 - mae: 11.6634\n",
      "Epoch 5: val_loss did not improve from 226.70506\n",
      "52/52 [==============================] - 0s 2ms/step - loss: 228.9836 - mae: 11.8499 - val_loss: 294.9430 - val_mae: 14.0145\n",
      "Epoch 6/100\n",
      "42/52 [=======================>......] - ETA: 0s - loss: 249.8076 - mae: 12.2761\n",
      "Epoch 6: val_loss did not improve from 226.70506\n",
      "52/52 [==============================] - 0s 2ms/step - loss: 242.5230 - mae: 12.0645 - val_loss: 237.2555 - val_mae: 12.2520\n",
      "Epoch 7/100\n",
      "42/52 [=======================>......] - ETA: 0s - loss: 218.4349 - mae: 11.5662\n",
      "Epoch 7: val_loss did not improve from 226.70506\n",
      "52/52 [==============================] - 0s 2ms/step - loss: 220.5783 - mae: 11.6099 - val_loss: 285.5161 - val_mae: 13.2304\n",
      "Epoch 8/100\n",
      "40/52 [======================>.......] - ETA: 0s - loss: 241.0673 - mae: 12.0459\n",
      "Epoch 8: val_loss improved from 226.70506 to 219.52010, saving model to Weights-best_model.hdf5\n",
      "52/52 [==============================] - 0s 2ms/step - loss: 239.8064 - mae: 12.1393 - val_loss: 219.5201 - val_mae: 11.7810\n",
      "Epoch 9/100\n",
      "42/52 [=======================>......] - ETA: 0s - loss: 225.0076 - mae: 11.8637\n",
      "Epoch 9: val_loss improved from 219.52010 to 216.51640, saving model to Weights-best_model.hdf5\n",
      "52/52 [==============================] - 0s 2ms/step - loss: 218.4600 - mae: 11.6748 - val_loss: 216.5164 - val_mae: 11.8270\n",
      "Epoch 10/100\n",
      "40/52 [======================>.......] - ETA: 0s - loss: 218.8682 - mae: 11.6383\n",
      "Epoch 10: val_loss did not improve from 216.51640\n",
      "52/52 [==============================] - 0s 2ms/step - loss: 214.8611 - mae: 11.4998 - val_loss: 259.8109 - val_mae: 12.6388\n",
      "Epoch 11/100\n",
      "42/52 [=======================>......] - ETA: 0s - loss: 211.9225 - mae: 11.4676\n",
      "Epoch 11: val_loss did not improve from 216.51640\n",
      "52/52 [==============================] - 0s 2ms/step - loss: 213.9762 - mae: 11.5177 - val_loss: 225.6192 - val_mae: 12.0988\n",
      "Epoch 12/100\n",
      "42/52 [=======================>......] - ETA: 0s - loss: 215.2139 - mae: 11.6729\n",
      "Epoch 12: val_loss did not improve from 216.51640\n",
      "52/52 [==============================] - 0s 2ms/step - loss: 221.1487 - mae: 11.7969 - val_loss: 265.9976 - val_mae: 13.2498\n",
      "Epoch 13/100\n",
      "43/52 [=======================>......] - ETA: 0s - loss: 223.5101 - mae: 11.7399\n",
      "Epoch 13: val_loss did not improve from 216.51640\n",
      "52/52 [==============================] - 0s 2ms/step - loss: 225.0041 - mae: 11.7755 - val_loss: 231.1689 - val_mae: 12.1076\n",
      "Epoch 14/100\n",
      "41/52 [======================>.......] - ETA: 0s - loss: 245.7812 - mae: 12.3670\n",
      "Epoch 14: val_loss improved from 216.51640 to 215.85249, saving model to Weights-best_model.hdf5\n",
      "52/52 [==============================] - 0s 2ms/step - loss: 258.4403 - mae: 12.6084 - val_loss: 215.8525 - val_mae: 11.9816\n",
      "Epoch 15/100\n",
      "42/52 [=======================>......] - ETA: 0s - loss: 258.6179 - mae: 12.5574\n",
      "Epoch 15: val_loss did not improve from 215.85249\n",
      "52/52 [==============================] - 0s 2ms/step - loss: 245.9135 - mae: 12.2918 - val_loss: 219.9707 - val_mae: 11.9126\n",
      "Epoch 16/100\n",
      "42/52 [=======================>......] - ETA: 0s - loss: 210.0243 - mae: 11.3551\n",
      "Epoch 16: val_loss did not improve from 215.85249\n",
      "52/52 [==============================] - 0s 2ms/step - loss: 213.8091 - mae: 11.5134 - val_loss: 244.4119 - val_mae: 12.3114\n",
      "Epoch 17/100\n",
      "42/52 [=======================>......] - ETA: 0s - loss: 221.3584 - mae: 11.8131\n",
      "Epoch 17: val_loss improved from 215.85249 to 212.47003, saving model to Weights-best_model.hdf5\n",
      "52/52 [==============================] - 0s 2ms/step - loss: 220.6532 - mae: 11.7392 - val_loss: 212.4700 - val_mae: 11.6724\n",
      "Epoch 18/100\n",
      "43/52 [=======================>......] - ETA: 0s - loss: 231.1915 - mae: 12.0765\n",
      "Epoch 18: val_loss did not improve from 212.47003\n",
      "52/52 [==============================] - 0s 2ms/step - loss: 225.7593 - mae: 11.9164 - val_loss: 279.2204 - val_mae: 13.2319\n",
      "Epoch 19/100\n",
      "43/52 [=======================>......] - ETA: 0s - loss: 205.1283 - mae: 11.3252\n",
      "Epoch 19: val_loss did not improve from 212.47003\n",
      "52/52 [==============================] - 0s 2ms/step - loss: 218.6950 - mae: 11.6154 - val_loss: 226.3487 - val_mae: 12.0607\n",
      "Epoch 20/100\n",
      "39/52 [=====================>........] - ETA: 0s - loss: 245.8263 - mae: 12.4604\n",
      "Epoch 20: val_loss did not improve from 212.47003\n",
      "52/52 [==============================] - 0s 2ms/step - loss: 234.9606 - mae: 12.1410 - val_loss: 250.3847 - val_mae: 12.5498\n",
      "Epoch 21/100\n",
      "43/52 [=======================>......] - ETA: 0s - loss: 206.8966 - mae: 11.4253\n",
      "Epoch 21: val_loss did not improve from 212.47003\n",
      "52/52 [==============================] - 0s 2ms/step - loss: 212.1450 - mae: 11.5514 - val_loss: 263.2586 - val_mae: 12.9050\n",
      "Epoch 22/100\n",
      "42/52 [=======================>......] - ETA: 0s - loss: 203.9857 - mae: 11.2510\n",
      "Epoch 22: val_loss did not improve from 212.47003\n",
      "52/52 [==============================] - 0s 2ms/step - loss: 202.9867 - mae: 11.2316 - val_loss: 230.9038 - val_mae: 12.1273\n",
      "Epoch 23/100\n",
      "42/52 [=======================>......] - ETA: 0s - loss: 191.1220 - mae: 11.0376\n",
      "Epoch 23: val_loss improved from 212.47003 to 208.61690, saving model to Weights-best_model.hdf5\n",
      "52/52 [==============================] - 0s 2ms/step - loss: 205.1336 - mae: 11.2850 - val_loss: 208.6169 - val_mae: 11.5988\n",
      "Epoch 24/100\n",
      "41/52 [======================>.......] - ETA: 0s - loss: 224.9033 - mae: 11.9039\n",
      "Epoch 24: val_loss did not improve from 208.61690\n",
      "52/52 [==============================] - 0s 2ms/step - loss: 223.0850 - mae: 11.7962 - val_loss: 262.6800 - val_mae: 12.8075\n",
      "Epoch 25/100\n",
      "41/52 [======================>.......] - ETA: 0s - loss: 217.4774 - mae: 11.5590\n",
      "Epoch 25: val_loss did not improve from 208.61690\n",
      "52/52 [==============================] - 0s 2ms/step - loss: 212.1627 - mae: 11.4714 - val_loss: 216.0545 - val_mae: 11.7405\n",
      "Epoch 26/100\n",
      "41/52 [======================>.......] - ETA: 0s - loss: 201.5972 - mae: 11.3145\n",
      "Epoch 26: val_loss did not improve from 208.61690\n",
      "52/52 [==============================] - 0s 2ms/step - loss: 196.4389 - mae: 11.1278 - val_loss: 219.5359 - val_mae: 11.7907\n",
      "Epoch 27/100\n",
      "42/52 [=======================>......] - ETA: 0s - loss: 195.7903 - mae: 11.1134\n",
      "Epoch 27: val_loss did not improve from 208.61690\n",
      "52/52 [==============================] - 0s 2ms/step - loss: 192.6996 - mae: 11.0143 - val_loss: 212.2837 - val_mae: 11.7480\n",
      "Epoch 28/100\n",
      "42/52 [=======================>......] - ETA: 0s - loss: 192.9842 - mae: 10.9721\n",
      "Epoch 28: val_loss did not improve from 208.61690\n",
      "52/52 [==============================] - 0s 2ms/step - loss: 194.7576 - mae: 11.0021 - val_loss: 219.6982 - val_mae: 11.9708\n",
      "Epoch 29/100\n",
      "43/52 [=======================>......] - ETA: 0s - loss: 208.4590 - mae: 11.2607\n",
      "Epoch 29: val_loss improved from 208.61690 to 201.23703, saving model to Weights-best_model.hdf5\n",
      "52/52 [==============================] - 0s 2ms/step - loss: 212.5625 - mae: 11.3992 - val_loss: 201.2370 - val_mae: 11.3488\n",
      "Epoch 30/100\n",
      "42/52 [=======================>......] - ETA: 0s - loss: 199.8609 - mae: 11.2571\n",
      "Epoch 30: val_loss did not improve from 201.23703\n",
      "52/52 [==============================] - 0s 2ms/step - loss: 199.6166 - mae: 11.2080 - val_loss: 210.5620 - val_mae: 11.5218\n",
      "Epoch 31/100\n",
      "42/52 [=======================>......] - ETA: 0s - loss: 195.6896 - mae: 11.0451\n",
      "Epoch 31: val_loss did not improve from 201.23703\n",
      "52/52 [==============================] - 0s 2ms/step - loss: 193.4722 - mae: 10.9041 - val_loss: 210.5915 - val_mae: 11.4431\n",
      "Epoch 32/100\n",
      "42/52 [=======================>......] - ETA: 0s - loss: 202.0552 - mae: 11.2093\n",
      "Epoch 32: val_loss did not improve from 201.23703\n",
      "52/52 [==============================] - 0s 2ms/step - loss: 199.3516 - mae: 11.0943 - val_loss: 331.4258 - val_mae: 14.3132\n",
      "Epoch 33/100\n",
      "42/52 [=======================>......] - ETA: 0s - loss: 218.0633 - mae: 11.4833\n",
      "Epoch 33: val_loss did not improve from 201.23703\n",
      "52/52 [==============================] - 0s 2ms/step - loss: 213.9921 - mae: 11.4425 - val_loss: 220.5387 - val_mae: 11.7060\n",
      "Epoch 34/100\n",
      "43/52 [=======================>......] - ETA: 0s - loss: 190.4552 - mae: 10.8370\n",
      "Epoch 34: val_loss did not improve from 201.23703\n",
      "52/52 [==============================] - 0s 2ms/step - loss: 188.8119 - mae: 10.7852 - val_loss: 230.8416 - val_mae: 11.9518\n",
      "Epoch 35/100\n",
      "43/52 [=======================>......] - ETA: 0s - loss: 197.6662 - mae: 11.0187\n",
      "Epoch 35: val_loss did not improve from 201.23703\n",
      "52/52 [==============================] - 0s 2ms/step - loss: 201.0754 - mae: 11.1668 - val_loss: 207.0595 - val_mae: 11.3417\n",
      "Epoch 36/100\n",
      "42/52 [=======================>......] - ETA: 0s - loss: 199.9063 - mae: 11.0874\n",
      "Epoch 36: val_loss did not improve from 201.23703\n",
      "52/52 [==============================] - 0s 2ms/step - loss: 200.6859 - mae: 11.0392 - val_loss: 217.2719 - val_mae: 11.7513\n",
      "Epoch 37/100\n",
      "41/52 [======================>.......] - ETA: 0s - loss: 187.9787 - mae: 10.6264\n",
      "Epoch 37: val_loss improved from 201.23703 to 198.25256, saving model to Weights-best_model.hdf5\n",
      "52/52 [==============================] - 0s 2ms/step - loss: 189.0695 - mae: 10.7342 - val_loss: 198.2526 - val_mae: 11.3182\n",
      "Epoch 38/100\n",
      "42/52 [=======================>......] - ETA: 0s - loss: 206.3270 - mae: 11.2139\n",
      "Epoch 38: val_loss did not improve from 198.25256\n",
      "52/52 [==============================] - 0s 2ms/step - loss: 206.9643 - mae: 11.2593 - val_loss: 208.0688 - val_mae: 11.4365\n",
      "Epoch 39/100\n",
      "41/52 [======================>.......] - ETA: 0s - loss: 182.7862 - mae: 10.7629\n",
      "Epoch 39: val_loss did not improve from 198.25256\n",
      "52/52 [==============================] - 0s 2ms/step - loss: 185.9532 - mae: 10.7478 - val_loss: 239.0403 - val_mae: 12.1053\n",
      "Epoch 40/100\n",
      "42/52 [=======================>......] - ETA: 0s - loss: 192.1948 - mae: 10.8629\n",
      "Epoch 40: val_loss did not improve from 198.25256\n",
      "52/52 [==============================] - 0s 2ms/step - loss: 192.1882 - mae: 10.9093 - val_loss: 215.3945 - val_mae: 11.5935\n",
      "Epoch 41/100\n",
      "42/52 [=======================>......] - ETA: 0s - loss: 216.7030 - mae: 11.6647\n",
      "Epoch 41: val_loss did not improve from 198.25256\n",
      "52/52 [==============================] - 0s 2ms/step - loss: 211.5963 - mae: 11.5252 - val_loss: 237.2663 - val_mae: 11.9606\n",
      "Epoch 42/100\n",
      "40/52 [======================>.......] - ETA: 0s - loss: 186.0952 - mae: 10.6186\n",
      "Epoch 42: val_loss improved from 198.25256 to 194.02844, saving model to Weights-best_model.hdf5\n",
      "52/52 [==============================] - 0s 2ms/step - loss: 185.1253 - mae: 10.5898 - val_loss: 194.0284 - val_mae: 11.1657\n",
      "Epoch 43/100\n",
      "41/52 [======================>.......] - ETA: 0s - loss: 200.9940 - mae: 11.0651\n",
      "Epoch 43: val_loss improved from 194.02844 to 192.11172, saving model to Weights-best_model.hdf5\n",
      "52/52 [==============================] - 0s 2ms/step - loss: 202.3635 - mae: 11.0888 - val_loss: 192.1117 - val_mae: 11.1689\n",
      "Epoch 44/100\n",
      "42/52 [=======================>......] - ETA: 0s - loss: 180.6145 - mae: 10.5628\n",
      "Epoch 44: val_loss did not improve from 192.11172\n",
      "52/52 [==============================] - 0s 2ms/step - loss: 180.9119 - mae: 10.5858 - val_loss: 265.6846 - val_mae: 12.7106\n",
      "Epoch 45/100\n",
      "42/52 [=======================>......] - ETA: 0s - loss: 191.6564 - mae: 11.0828\n",
      "Epoch 45: val_loss did not improve from 192.11172\n",
      "52/52 [==============================] - 0s 2ms/step - loss: 192.7942 - mae: 11.0363 - val_loss: 202.1721 - val_mae: 11.1996\n",
      "Epoch 46/100\n",
      "43/52 [=======================>......] - ETA: 0s - loss: 175.0061 - mae: 10.2631\n",
      "Epoch 46: val_loss did not improve from 192.11172\n",
      "52/52 [==============================] - 0s 2ms/step - loss: 178.1892 - mae: 10.4087 - val_loss: 265.6754 - val_mae: 13.3360\n",
      "Epoch 47/100\n",
      "41/52 [======================>.......] - ETA: 0s - loss: 198.6222 - mae: 11.1293\n",
      "Epoch 47: val_loss did not improve from 192.11172\n",
      "52/52 [==============================] - 0s 2ms/step - loss: 196.1448 - mae: 11.0343 - val_loss: 197.4718 - val_mae: 11.1629\n",
      "Epoch 48/100\n",
      "42/52 [=======================>......] - ETA: 0s - loss: 173.4433 - mae: 10.3073\n",
      "Epoch 48: val_loss did not improve from 192.11172\n",
      "52/52 [==============================] - 0s 2ms/step - loss: 171.3835 - mae: 10.2488 - val_loss: 209.1274 - val_mae: 11.4121\n",
      "Epoch 49/100\n",
      "42/52 [=======================>......] - ETA: 0s - loss: 175.8146 - mae: 10.3869\n",
      "Epoch 49: val_loss did not improve from 192.11172\n",
      "52/52 [==============================] - 0s 2ms/step - loss: 182.7685 - mae: 10.5773 - val_loss: 198.4455 - val_mae: 11.2402\n",
      "Epoch 50/100\n",
      "42/52 [=======================>......] - ETA: 0s - loss: 160.5799 - mae: 10.0673\n",
      "Epoch 50: val_loss did not improve from 192.11172\n",
      "52/52 [==============================] - 0s 2ms/step - loss: 171.8039 - mae: 10.3450 - val_loss: 238.9835 - val_mae: 12.0414\n",
      "Epoch 51/100\n",
      "42/52 [=======================>......] - ETA: 0s - loss: 185.9414 - mae: 10.7123\n",
      "Epoch 51: val_loss did not improve from 192.11172\n",
      "52/52 [==============================] - 0s 2ms/step - loss: 187.3700 - mae: 10.7501 - val_loss: 198.4617 - val_mae: 11.1931\n",
      "Epoch 52/100\n",
      "41/52 [======================>.......] - ETA: 0s - loss: 186.0638 - mae: 10.7044\n",
      "Epoch 52: val_loss did not improve from 192.11172\n",
      "52/52 [==============================] - 0s 2ms/step - loss: 185.2615 - mae: 10.6839 - val_loss: 223.5479 - val_mae: 11.7207\n",
      "Epoch 53/100\n",
      "41/52 [======================>.......] - ETA: 0s - loss: 173.9109 - mae: 10.4417\n",
      "Epoch 53: val_loss did not improve from 192.11172\n",
      "52/52 [==============================] - 0s 2ms/step - loss: 170.0774 - mae: 10.2992 - val_loss: 209.8533 - val_mae: 11.6585\n",
      "Epoch 54/100\n",
      "42/52 [=======================>......] - ETA: 0s - loss: 175.1649 - mae: 10.2210\n",
      "Epoch 54: val_loss did not improve from 192.11172\n",
      "52/52 [==============================] - 0s 2ms/step - loss: 175.0087 - mae: 10.2347 - val_loss: 195.5587 - val_mae: 11.1304\n",
      "Epoch 55/100\n",
      "42/52 [=======================>......] - ETA: 0s - loss: 187.1896 - mae: 10.6467\n",
      "Epoch 55: val_loss did not improve from 192.11172\n",
      "52/52 [==============================] - 0s 2ms/step - loss: 194.1106 - mae: 10.7976 - val_loss: 238.7931 - val_mae: 12.5546\n",
      "Epoch 56/100\n",
      "42/52 [=======================>......] - ETA: 0s - loss: 179.8443 - mae: 10.5839\n",
      "Epoch 56: val_loss did not improve from 192.11172\n",
      "52/52 [==============================] - 0s 2ms/step - loss: 180.2382 - mae: 10.5342 - val_loss: 200.8744 - val_mae: 11.0505\n",
      "Epoch 57/100\n",
      "41/52 [======================>.......] - ETA: 0s - loss: 167.9571 - mae: 10.2028\n",
      "Epoch 57: val_loss did not improve from 192.11172\n",
      "52/52 [==============================] - 0s 2ms/step - loss: 170.2031 - mae: 10.2142 - val_loss: 221.6716 - val_mae: 12.1071\n",
      "Epoch 58/100\n",
      "43/52 [=======================>......] - ETA: 0s - loss: 224.9468 - mae: 11.9127\n",
      "Epoch 58: val_loss did not improve from 192.11172\n",
      "52/52 [==============================] - 0s 2ms/step - loss: 215.0999 - mae: 11.6029 - val_loss: 208.5607 - val_mae: 11.3770\n",
      "Epoch 59/100\n",
      "41/52 [======================>.......] - ETA: 0s - loss: 191.9854 - mae: 10.8417\n",
      "Epoch 59: val_loss did not improve from 192.11172\n",
      "52/52 [==============================] - 0s 2ms/step - loss: 188.7749 - mae: 10.7133 - val_loss: 202.8550 - val_mae: 11.1907\n",
      "Epoch 60/100\n",
      "43/52 [=======================>......] - ETA: 0s - loss: 163.3943 - mae: 9.9893 \n",
      "Epoch 60: val_loss did not improve from 192.11172\n",
      "52/52 [==============================] - 0s 2ms/step - loss: 164.9978 - mae: 10.0351 - val_loss: 211.2005 - val_mae: 11.7386\n",
      "Epoch 61/100\n",
      "29/52 [===============>..............] - ETA: 0s - loss: 162.5890 - mae: 9.9531\n",
      "Epoch 61: val_loss did not improve from 192.11172\n",
      "52/52 [==============================] - 0s 2ms/step - loss: 167.0102 - mae: 10.0696 - val_loss: 211.5616 - val_mae: 11.5953\n",
      "Epoch 62/100\n",
      "42/52 [=======================>......] - ETA: 0s - loss: 164.2705 - mae: 9.9785\n",
      "Epoch 62: val_loss did not improve from 192.11172\n",
      "52/52 [==============================] - 0s 2ms/step - loss: 172.9477 - mae: 10.2172 - val_loss: 238.5320 - val_mae: 12.3835\n",
      "Epoch 63/100\n",
      "40/52 [======================>.......] - ETA: 0s - loss: 175.3172 - mae: 10.3987\n",
      "Epoch 63: val_loss did not improve from 192.11172\n",
      "52/52 [==============================] - 0s 2ms/step - loss: 173.4290 - mae: 10.3797 - val_loss: 214.1013 - val_mae: 11.4353\n",
      "Epoch 64/100\n",
      "43/52 [=======================>......] - ETA: 0s - loss: 169.8184 - mae: 10.2717\n",
      "Epoch 64: val_loss did not improve from 192.11172\n",
      "52/52 [==============================] - 0s 2ms/step - loss: 167.0443 - mae: 10.1875 - val_loss: 208.0688 - val_mae: 11.2498\n",
      "Epoch 65/100\n",
      "41/52 [======================>.......] - ETA: 0s - loss: 170.3497 - mae: 10.2198\n",
      "Epoch 65: val_loss did not improve from 192.11172\n",
      "52/52 [==============================] - 0s 2ms/step - loss: 165.1178 - mae: 10.0899 - val_loss: 206.8970 - val_mae: 11.3096\n",
      "Epoch 66/100\n",
      "43/52 [=======================>......] - ETA: 0s - loss: 160.3618 - mae: 9.8812 \n",
      "Epoch 66: val_loss did not improve from 192.11172\n",
      "52/52 [==============================] - 0s 2ms/step - loss: 159.3314 - mae: 9.8430 - val_loss: 200.5338 - val_mae: 11.1227\n",
      "Epoch 67/100\n",
      "43/52 [=======================>......] - ETA: 0s - loss: 149.7290 - mae: 9.5417\n",
      "Epoch 67: val_loss did not improve from 192.11172\n",
      "52/52 [==============================] - 0s 2ms/step - loss: 154.3610 - mae: 9.7059 - val_loss: 211.2432 - val_mae: 11.4621\n",
      "Epoch 68/100\n",
      "43/52 [=======================>......] - ETA: 0s - loss: 159.6777 - mae: 9.8225\n",
      "Epoch 68: val_loss did not improve from 192.11172\n",
      "52/52 [==============================] - 0s 2ms/step - loss: 159.7301 - mae: 9.8508 - val_loss: 228.5374 - val_mae: 11.6868\n",
      "Epoch 69/100\n",
      "41/52 [======================>.......] - ETA: 0s - loss: 155.1180 - mae: 9.7118\n",
      "Epoch 69: val_loss did not improve from 192.11172\n",
      "52/52 [==============================] - 0s 2ms/step - loss: 158.0685 - mae: 9.7692 - val_loss: 216.0725 - val_mae: 11.2921\n",
      "Epoch 70/100\n",
      "42/52 [=======================>......] - ETA: 0s - loss: 153.1906 - mae: 9.5846\n",
      "Epoch 70: val_loss did not improve from 192.11172\n",
      "52/52 [==============================] - 0s 2ms/step - loss: 158.7538 - mae: 9.7970 - val_loss: 219.6561 - val_mae: 11.8307\n",
      "Epoch 71/100\n",
      "43/52 [=======================>......] - ETA: 0s - loss: 154.2379 - mae: 9.6887\n",
      "Epoch 71: val_loss did not improve from 192.11172\n",
      "52/52 [==============================] - 0s 2ms/step - loss: 156.2869 - mae: 9.7467 - val_loss: 220.5915 - val_mae: 11.5042\n",
      "Epoch 72/100\n",
      "42/52 [=======================>......] - ETA: 0s - loss: 167.2236 - mae: 10.0618\n",
      "Epoch 72: val_loss did not improve from 192.11172\n",
      "52/52 [==============================] - 0s 2ms/step - loss: 171.1170 - mae: 10.1608 - val_loss: 242.7259 - val_mae: 11.9899\n",
      "Epoch 73/100\n",
      "42/52 [=======================>......] - ETA: 0s - loss: 190.0867 - mae: 10.7315\n",
      "Epoch 73: val_loss did not improve from 192.11172\n",
      "52/52 [==============================] - 0s 2ms/step - loss: 188.9468 - mae: 10.7956 - val_loss: 220.3802 - val_mae: 11.8360\n",
      "Epoch 74/100\n",
      "42/52 [=======================>......] - ETA: 0s - loss: 179.7307 - mae: 10.3748\n",
      "Epoch 74: val_loss did not improve from 192.11172\n",
      "52/52 [==============================] - 0s 2ms/step - loss: 175.8390 - mae: 10.2139 - val_loss: 238.9601 - val_mae: 12.0218\n",
      "Epoch 75/100\n",
      "41/52 [======================>.......] - ETA: 0s - loss: 169.8361 - mae: 10.0711\n",
      "Epoch 75: val_loss improved from 192.11172 to 191.66005, saving model to Weights-best_model.hdf5\n",
      "52/52 [==============================] - 0s 2ms/step - loss: 166.8809 - mae: 10.0011 - val_loss: 191.6600 - val_mae: 10.8964\n",
      "Epoch 76/100\n",
      "43/52 [=======================>......] - ETA: 0s - loss: 157.9628 - mae: 9.8737 \n",
      "Epoch 76: val_loss did not improve from 191.66005\n",
      "52/52 [==============================] - 0s 2ms/step - loss: 154.7833 - mae: 9.7704 - val_loss: 210.8250 - val_mae: 11.2619\n",
      "Epoch 77/100\n",
      "42/52 [=======================>......] - ETA: 0s - loss: 160.6165 - mae: 9.9698 \n",
      "Epoch 77: val_loss did not improve from 191.66005\n",
      "52/52 [==============================] - 0s 2ms/step - loss: 161.9521 - mae: 9.9781 - val_loss: 312.8039 - val_mae: 13.8355\n",
      "Epoch 78/100\n",
      "42/52 [=======================>......] - ETA: 0s - loss: 165.6315 - mae: 10.1940\n",
      "Epoch 78: val_loss did not improve from 191.66005\n",
      "52/52 [==============================] - 0s 2ms/step - loss: 166.6473 - mae: 10.1553 - val_loss: 202.3359 - val_mae: 11.1001\n",
      "Epoch 79/100\n",
      "42/52 [=======================>......] - ETA: 0s - loss: 166.9895 - mae: 10.0210\n",
      "Epoch 79: val_loss did not improve from 191.66005\n",
      "52/52 [==============================] - 0s 2ms/step - loss: 163.1092 - mae: 9.9523 - val_loss: 199.6109 - val_mae: 10.9986\n",
      "Epoch 80/100\n",
      "43/52 [=======================>......] - ETA: 0s - loss: 153.7932 - mae: 9.6334 \n",
      "Epoch 80: val_loss did not improve from 191.66005\n",
      "52/52 [==============================] - 0s 2ms/step - loss: 151.6329 - mae: 9.6089 - val_loss: 199.4367 - val_mae: 11.1941\n",
      "Epoch 81/100\n",
      "43/52 [=======================>......] - ETA: 0s - loss: 154.0431 - mae: 9.6644\n",
      "Epoch 81: val_loss did not improve from 191.66005\n",
      "52/52 [==============================] - 0s 2ms/step - loss: 157.4442 - mae: 9.7461 - val_loss: 205.5977 - val_mae: 11.2199\n",
      "Epoch 82/100\n",
      "42/52 [=======================>......] - ETA: 0s - loss: 158.4321 - mae: 9.7850 \n",
      "Epoch 82: val_loss did not improve from 191.66005\n",
      "52/52 [==============================] - 0s 2ms/step - loss: 155.2159 - mae: 9.6800 - val_loss: 207.8130 - val_mae: 11.2875\n",
      "Epoch 83/100\n",
      "43/52 [=======================>......] - ETA: 0s - loss: 150.6766 - mae: 9.6721\n",
      "Epoch 83: val_loss did not improve from 191.66005\n",
      "52/52 [==============================] - 0s 2ms/step - loss: 150.2165 - mae: 9.6374 - val_loss: 206.9491 - val_mae: 11.4176\n",
      "Epoch 84/100\n",
      "43/52 [=======================>......] - ETA: 0s - loss: 153.4279 - mae: 9.6853\n",
      "Epoch 84: val_loss did not improve from 191.66005\n",
      "52/52 [==============================] - 0s 2ms/step - loss: 151.3469 - mae: 9.6052 - val_loss: 213.7734 - val_mae: 11.5363\n",
      "Epoch 85/100\n",
      "42/52 [=======================>......] - ETA: 0s - loss: 154.6644 - mae: 9.7396 \n",
      "Epoch 85: val_loss did not improve from 191.66005\n",
      "52/52 [==============================] - 0s 2ms/step - loss: 156.4825 - mae: 9.7836 - val_loss: 205.6840 - val_mae: 11.4550\n",
      "Epoch 86/100\n",
      "43/52 [=======================>......] - ETA: 0s - loss: 148.7418 - mae: 9.5990\n",
      "Epoch 86: val_loss did not improve from 191.66005\n",
      "52/52 [==============================] - 0s 2ms/step - loss: 155.3106 - mae: 9.7181 - val_loss: 201.9734 - val_mae: 11.0559\n",
      "Epoch 87/100\n",
      "42/52 [=======================>......] - ETA: 0s - loss: 147.3051 - mae: 9.5745\n",
      "Epoch 87: val_loss did not improve from 191.66005\n",
      "52/52 [==============================] - 0s 2ms/step - loss: 150.8925 - mae: 9.6223 - val_loss: 325.9264 - val_mae: 14.1492\n",
      "Epoch 88/100\n",
      "42/52 [=======================>......] - ETA: 0s - loss: 156.5323 - mae: 9.7287 \n",
      "Epoch 88: val_loss did not improve from 191.66005\n",
      "52/52 [==============================] - 0s 2ms/step - loss: 153.7093 - mae: 9.6784 - val_loss: 208.8071 - val_mae: 11.2381\n",
      "Epoch 89/100\n",
      "42/52 [=======================>......] - ETA: 0s - loss: 146.3214 - mae: 9.3232\n",
      "Epoch 89: val_loss did not improve from 191.66005\n",
      "52/52 [==============================] - 0s 2ms/step - loss: 144.3194 - mae: 9.2915 - val_loss: 208.3406 - val_mae: 11.2952\n",
      "Epoch 90/100\n",
      "29/52 [===============>..............] - ETA: 0s - loss: 144.6276 - mae: 9.4115 \n",
      "Epoch 90: val_loss did not improve from 191.66005\n",
      "52/52 [==============================] - 0s 2ms/step - loss: 148.9940 - mae: 9.4822 - val_loss: 215.8678 - val_mae: 11.3484\n",
      "Epoch 91/100\n",
      "42/52 [=======================>......] - ETA: 0s - loss: 154.5277 - mae: 9.7172 \n",
      "Epoch 91: val_loss did not improve from 191.66005\n",
      "52/52 [==============================] - 0s 2ms/step - loss: 153.6476 - mae: 9.6603 - val_loss: 204.5102 - val_mae: 11.0431\n",
      "Epoch 92/100\n",
      "42/52 [=======================>......] - ETA: 0s - loss: 162.4275 - mae: 10.1012\n",
      "Epoch 92: val_loss did not improve from 191.66005\n",
      "52/52 [==============================] - 0s 2ms/step - loss: 162.7218 - mae: 10.0546 - val_loss: 200.5761 - val_mae: 11.0744\n",
      "Epoch 93/100\n",
      "42/52 [=======================>......] - ETA: 0s - loss: 148.1640 - mae: 9.6726\n",
      "Epoch 93: val_loss did not improve from 191.66005\n",
      "52/52 [==============================] - 0s 2ms/step - loss: 155.0708 - mae: 9.8047 - val_loss: 232.4627 - val_mae: 12.2349\n",
      "Epoch 94/100\n",
      "42/52 [=======================>......] - ETA: 0s - loss: 148.4573 - mae: 9.4542 \n",
      "Epoch 94: val_loss did not improve from 191.66005\n",
      "52/52 [==============================] - 0s 2ms/step - loss: 147.4672 - mae: 9.4526 - val_loss: 232.4318 - val_mae: 11.7337\n",
      "Epoch 95/100\n",
      "42/52 [=======================>......] - ETA: 0s - loss: 155.7505 - mae: 9.7110\n",
      "Epoch 95: val_loss did not improve from 191.66005\n",
      "52/52 [==============================] - 0s 2ms/step - loss: 153.4923 - mae: 9.6852 - val_loss: 247.1052 - val_mae: 12.6227\n",
      "Epoch 96/100\n",
      "43/52 [=======================>......] - ETA: 0s - loss: 164.5638 - mae: 10.0413\n",
      "Epoch 96: val_loss did not improve from 191.66005\n",
      "52/52 [==============================] - 0s 2ms/step - loss: 158.8856 - mae: 9.9093 - val_loss: 211.3773 - val_mae: 11.3806\n",
      "Epoch 97/100\n",
      "43/52 [=======================>......] - ETA: 0s - loss: 149.0295 - mae: 9.4256\n",
      "Epoch 97: val_loss did not improve from 191.66005\n",
      "52/52 [==============================] - 0s 2ms/step - loss: 144.4487 - mae: 9.3545 - val_loss: 210.0631 - val_mae: 11.5336\n",
      "Epoch 98/100\n",
      "43/52 [=======================>......] - ETA: 0s - loss: 143.4532 - mae: 9.3594\n",
      "Epoch 98: val_loss did not improve from 191.66005\n",
      "52/52 [==============================] - 0s 2ms/step - loss: 144.0423 - mae: 9.3836 - val_loss: 206.4736 - val_mae: 11.3050\n",
      "Epoch 99/100\n",
      "43/52 [=======================>......] - ETA: 0s - loss: 151.4736 - mae: 9.6395\n",
      "Epoch 99: val_loss did not improve from 191.66005\n",
      "52/52 [==============================] - 0s 2ms/step - loss: 147.1664 - mae: 9.5523 - val_loss: 241.3958 - val_mae: 11.9638\n",
      "Epoch 100/100\n",
      "41/52 [======================>.......] - ETA: 0s - loss: 152.3708 - mae: 9.7579\n",
      "Epoch 100: val_loss did not improve from 191.66005\n",
      "52/52 [==============================] - 0s 2ms/step - loss: 150.0965 - mae: 9.6769 - val_loss: 215.7215 - val_mae: 11.3531\n"
     ]
    },
    {
     "data": {
      "text/plain": [
       "<keras.callbacks.History at 0x173a5408790>"
      ]
     },
     "execution_count": 363,
     "metadata": {},
     "output_type": "execute_result"
    }
   ],
   "source": [
    "NN_model.fit(X_train, y_train, epochs=100, batch_size=20, validation_data = (X_test, y_test ), callbacks = callbacks_list)"
   ]
  },
  {
   "cell_type": "markdown",
   "metadata": {},
   "source": [
    "le code de cette nous permet de visualiser l'accuracy sur le training set et le test set durant l'entrainement de notre modele.\n"
   ]
  },
  {
   "cell_type": "code",
   "execution_count": 364,
   "metadata": {},
   "outputs": [
    {
     "data": {
      "text/plain": [
       "[]"
      ]
     },
     "execution_count": 364,
     "metadata": {},
     "output_type": "execute_result"
    },
    {
     "data": {
      "image/png": "[encoded data removed]",
      "text/plain": [
       "<Figure size 640x480 with 1 Axes>"
      ]
     },
     "metadata": {},
     "output_type": "display_data"
    }
   ],
   "source": [
    "import matplotlib.pyplot as plt\n",
    "%matplotlib inline\n",
    "import seaborn as sns\n",
    "sns.set()\n",
    " \n",
    "acc = hist.history['accuracy']\n",
    "val = hist.history['val_accuracy']\n",
    "epochs = range(1, len(acc) + 1)\n",
    " \n",
    "plt.plot(epochs, acc, '-', label='Training accuracy')\n",
    "plt.plot(epochs, val, ':', label='Validation accuracy')\n",
    "plt.title('Training and Validation Accuracy')\n",
    "plt.xlabel('Epoch')\n",
    "plt.ylabel('Accuracy')\n",
    "plt.legend(loc='lower right')\n",
    "plt.plot()"
   ]
  },
  {
   "cell_type": "markdown",
   "metadata": {},
   "source": [
    "## Approche avec un LSTM"
   ]
  },
  {
   "cell_type": "code",
   "execution_count": 365,
   "metadata": {},
   "outputs": [],
   "source": [
    "import tensorflow as tf\n",
    "from tensorflow.keras.preprocessing.sequence import TimeseriesGenerator"
   ]
  },
  {
   "cell_type": "markdown",
   "metadata": {},
   "source": [
    "### normalisation"
   ]
  },
  {
   "cell_type": "code",
   "execution_count": 366,
   "metadata": {},
   "outputs": [],
   "source": [
    "# normalise\n",
    "# mean = DF.mean()\n",
    "# std  = DF.std()\n",
    "# DF = (DF - mean) / std\n",
    "\n",
    "#split\n",
    "ozone_train, ozone_test = split(DF, train_size = 0.7, random_state = 10) \n",
    "\n",
    "X_train = ozone_train.drop(columns = [\"maxO3\"], axis = 1) \n",
    "X_test = ozone_test.drop(columns = [\"maxO3\"], axis = 1) \n",
    "y_train = ozone_train[\"maxO3\"] \n",
    "y_test = ozone_test[\"maxO3\"] \n",
    "\n",
    "\n",
    "#convert to numpy\n",
    "ozone_train = ozone_train.to_numpy()\n",
    "ozone_test  = ozone_test.to_numpy()\n",
    "\n",
    "X_train = X_train.to_numpy()\n",
    "X_test = X_test.to_numpy()\n",
    "\n",
    "y_train = y_train.to_numpy()\n",
    "y_test = y_test.to_numpy()\n"
   ]
  },
  {
   "cell_type": "code",
   "execution_count": 367,
   "metadata": {},
   "outputs": [],
   "source": [
    "# teste sur la data normalisée : \n",
    "\n",
    "# ozone_train = (ozone_train - ozone_train.mean()) / ozone_train.std()\n",
    "# ozone_test = (ozone_test - ozone_test.mean()) / ozone_test.std()\n",
    "\n",
    "# X_train = (X_train - X_train.mean()) / X_train.std()\n",
    "# X_test = (X_test - X_test.mean()) / X_test.std()\n",
    "\n",
    "# y_train = (y_train - y_train.mean()) / y_train.std()\n",
    "# y_test = (y_test - y_test.mean()) / y_test.std()"
   ]
  },
  {
   "cell_type": "markdown",
   "metadata": {},
   "source": [
    "### modélisation"
   ]
  },
  {
   "cell_type": "code",
   "execution_count": 368,
   "metadata": {},
   "outputs": [],
   "source": [
    "# parametres : \n",
    "sequence_len = 7\n",
    "batch_size = 10\n",
    "features_len = 23\n",
    "epochs = 50\n",
    "\n",
    "# ---- Train generator\n",
    "train_generator = TimeseriesGenerator(ozone_train, y_train, length=sequence_len,  batch_size = batch_size)\n",
    "test_generator  = TimeseriesGenerator(ozone_test,  y_test,  length=sequence_len,  batch_size = batch_size)"
   ]
  },
  {
   "cell_type": "code",
   "execution_count": 369,
   "metadata": {},
   "outputs": [
    {
     "data": {
      "text/plain": [
       "(array([[[ 81.8   ,   4.2   ,  10.5   , ...,   3.    ,   3.4641,\n",
       "               nan],\n",
       "         [ 76.8   ,   5.4   ,  11.4   , ...,   9.    ,   6.8937,\n",
       "           62.2   ],\n",
       "         [111.4   ,  12.9   ,  21.6   , ...,   4.    ,   3.9392,\n",
       "           84.2   ],\n",
       "         ...,\n",
       "         [ 75.    ,  16.2   ,  16.6   , ...,   5.    ,  -6.0622,\n",
       "           75.2   ],\n",
       "         [ 82.    ,  13.    ,  17.    , ...,   5.    ,  -3.0642,\n",
       "           95.    ],\n",
       "         [108.    ,  20.7   ,  24.    , ...,   5.    ,  -3.8567,\n",
       "          146.    ]],\n",
       " \n",
       "        [[ 76.8   ,   5.4   ,  11.4   , ...,   9.    ,   6.8937,\n",
       "           62.2   ],\n",
       "         [111.4   ,  12.9   ,  21.6   , ...,   4.    ,   3.9392,\n",
       "           84.2   ],\n",
       "         [ 60.6   ,  10.2   ,  15.9   , ...,   6.    ,   1.0419,\n",
       "           81.2   ],\n",
       "         ...,\n",
       "         [ 82.    ,  13.    ,  17.    , ...,   5.    ,  -3.0642,\n",
       "           95.    ],\n",
       "         [108.    ,  20.7   ,  24.    , ...,   5.    ,  -3.8567,\n",
       "          146.    ],\n",
       "         [ 94.8   ,  14.7   ,  17.7   , ...,   7.    ,   2.3941,\n",
       "           64.6   ]],\n",
       " \n",
       "        [[111.4   ,  12.9   ,  21.6   , ...,   4.    ,   3.9392,\n",
       "           84.2   ],\n",
       "         [ 60.6   ,  10.2   ,  15.9   , ...,   6.    ,   1.0419,\n",
       "           81.2   ],\n",
       "         [ 75.    ,  16.2   ,  16.6   , ...,   5.    ,  -6.0622,\n",
       "           75.2   ],\n",
       "         ...,\n",
       "         [108.    ,  20.7   ,  24.    , ...,   5.    ,  -3.8567,\n",
       "          146.    ],\n",
       "         [ 94.8   ,  14.7   ,  17.7   , ...,   7.    ,   2.3941,\n",
       "           64.6   ],\n",
       "         [ 61.    ,  10.    ,  16.3   , ...,   4.    ,  -0.342 ,\n",
       "           69.    ]],\n",
       " \n",
       "        ...,\n",
       " \n",
       "        [[ 94.8   ,  14.7   ,  17.7   , ...,   7.    ,   2.3941,\n",
       "           64.6   ],\n",
       "         [ 61.    ,  10.    ,  16.3   , ...,   4.    ,  -0.342 ,\n",
       "           69.    ],\n",
       "         [110.    ,  11.5   ,  14.3   , ...,   4.    ,  -1.7321,\n",
       "           63.    ],\n",
       "         ...,\n",
       "         [ 95.2   ,  16.9   ,  20.4   , ...,   6.    ,   3.0642,\n",
       "           93.    ],\n",
       "         [ 94.    ,   8.8   ,  15.8   , ...,   3.    ,   0.5209,\n",
       "           94.    ],\n",
       "         [130.    ,  13.3   ,  17.8   , ...,   4.    ,  -1.3681,\n",
       "          143.    ]],\n",
       " \n",
       "        [[ 61.    ,  10.    ,  16.3   , ...,   4.    ,  -0.342 ,\n",
       "           69.    ],\n",
       "         [110.    ,  11.5   ,  14.3   , ...,   4.    ,  -1.7321,\n",
       "           63.    ],\n",
       "         [ 64.4   ,   8.    ,   8.7   , ...,   7.    ,   1.3892,\n",
       "           58.2   ],\n",
       "         ...,\n",
       "         [ 94.    ,   8.8   ,  15.8   , ...,   3.    ,   0.5209,\n",
       "           94.    ],\n",
       "         [130.    ,  13.3   ,  17.8   , ...,   4.    ,  -1.3681,\n",
       "          143.    ],\n",
       "         [ 57.2   ,  13.1   ,  15.1   , ...,   6.    ,   2.5   ,\n",
       "           78.8   ]],\n",
       " \n",
       "        [[110.    ,  11.5   ,  14.3   , ...,   4.    ,  -1.7321,\n",
       "           63.    ],\n",
       "         [ 64.4   ,   8.    ,   8.7   , ...,   7.    ,   1.3892,\n",
       "           58.2   ],\n",
       "         [ 95.2   ,  16.9   ,  20.4   , ...,   6.    ,   3.0642,\n",
       "           93.    ],\n",
       "         ...,\n",
       "         [130.    ,  13.3   ,  17.8   , ...,   4.    ,  -1.3681,\n",
       "          143.    ],\n",
       "         [ 57.2   ,  13.1   ,  15.1   , ...,   6.    ,   2.5   ,\n",
       "           78.8   ],\n",
       "         [ 89.    ,  16.6   ,  21.1   , ...,   3.    ,  -2.0521,\n",
       "           97.    ]]]),\n",
       " array([ 94.8,  61. , 110. ,  64.4,  95.2,  94. , 130. ,  57.2,  89. ,\n",
       "        102. ]))"
      ]
     },
     "execution_count": 369,
     "metadata": {},
     "output_type": "execute_result"
    }
   ],
   "source": [
    "train_generator[0]"
   ]
  },
  {
   "cell_type": "code",
   "execution_count": 370,
   "metadata": {},
   "outputs": [
    {
     "name": "stdout",
     "output_type": "stream",
     "text": [
      "Nombre de train batchs disponibles :  102\n",
      "batch x shape :  (10, 7, 23)\n",
      "batch y shape :  (10,)\n"
     ]
    }
   ],
   "source": [
    "x,y=train_generator[0]\n",
    "print(f'Nombre de train batchs disponibles : ', len(train_generator))\n",
    "print('batch x shape : ',x.shape)\n",
    "print('batch y shape : ',y.shape)"
   ]
  },
  {
   "cell_type": "markdown",
   "metadata": {},
   "source": [
    "### model : "
   ]
  },
  {
   "cell_type": "code",
   "execution_count": 371,
   "metadata": {},
   "outputs": [],
   "source": [
    "# pour visualisation\n",
    "import matplotlib.pyplot as plt\n",
    "%matplotlib inline\n",
    "import seaborn as sns\n",
    "sns.set()"
   ]
  },
  {
   "cell_type": "code",
   "execution_count": 372,
   "metadata": {},
   "outputs": [
    {
     "name": "stdout",
     "output_type": "stream",
     "text": [
      "Model: \"sequential_32\"\n",
      "_________________________________________________________________\n",
      " Layer (type)                Output Shape              Param #   \n",
      "=================================================================\n",
      " dense_94 (Dense)            (None, 7, 100)            2400      \n",
      "                                                                 \n",
      " lstm_5 (LSTM)               (None, 100)               80400     \n",
      "                                                                 \n",
      " dense_95 (Dense)            (None, 100)               10100     \n",
      "                                                                 \n",
      " dense_96 (Dense)            (None, 1)                 101       \n",
      "                                                                 \n",
      "=================================================================\n",
      "Total params: 93,001\n",
      "Trainable params: 93,001\n",
      "Non-trainable params: 0\n",
      "_________________________________________________________________\n",
      "None\n",
      "Epoch 1/50\n",
      "102/102 [==============================] - 2s 7ms/step - loss: nan - mse: nan - val_loss: nan - val_mse: nan\n",
      "Epoch 2/50\n",
      "102/102 [==============================] - 0s 4ms/step - loss: nan - mse: nan - val_loss: nan - val_mse: nan\n",
      "Epoch 3/50\n",
      "102/102 [==============================] - 0s 4ms/step - loss: nan - mse: nan - val_loss: nan - val_mse: nan\n",
      "Epoch 4/50\n",
      "102/102 [==============================] - 0s 4ms/step - loss: nan - mse: nan - val_loss: nan - val_mse: nan\n",
      "Epoch 5/50\n",
      "102/102 [==============================] - 0s 4ms/step - loss: nan - mse: nan - val_loss: nan - val_mse: nan\n",
      "Epoch 6/50\n",
      "102/102 [==============================] - 0s 4ms/step - loss: nan - mse: nan - val_loss: nan - val_mse: nan\n",
      "Epoch 7/50\n",
      "102/102 [==============================] - 0s 4ms/step - loss: nan - mse: nan - val_loss: nan - val_mse: nan\n",
      "Epoch 8/50\n",
      "102/102 [==============================] - 0s 4ms/step - loss: nan - mse: nan - val_loss: nan - val_mse: nan\n",
      "Epoch 9/50\n",
      "102/102 [==============================] - 0s 4ms/step - loss: nan - mse: nan - val_loss: nan - val_mse: nan\n",
      "Epoch 10/50\n",
      "102/102 [==============================] - 0s 4ms/step - loss: nan - mse: nan - val_loss: nan - val_mse: nan\n",
      "Epoch 11/50\n",
      "102/102 [==============================] - 0s 4ms/step - loss: nan - mse: nan - val_loss: nan - val_mse: nan\n",
      "Epoch 12/50\n",
      "102/102 [==============================] - 0s 4ms/step - loss: nan - mse: nan - val_loss: nan - val_mse: nan\n",
      "Epoch 13/50\n",
      "102/102 [==============================] - 0s 4ms/step - loss: nan - mse: nan - val_loss: nan - val_mse: nan\n",
      "Epoch 14/50\n",
      "102/102 [==============================] - 0s 4ms/step - loss: nan - mse: nan - val_loss: nan - val_mse: nan\n",
      "Epoch 15/50\n",
      "102/102 [==============================] - 0s 4ms/step - loss: nan - mse: nan - val_loss: nan - val_mse: nan\n",
      "Epoch 16/50\n",
      "102/102 [==============================] - 0s 4ms/step - loss: nan - mse: nan - val_loss: nan - val_mse: nan\n",
      "Epoch 17/50\n",
      "102/102 [==============================] - 0s 4ms/step - loss: nan - mse: nan - val_loss: nan - val_mse: nan\n",
      "Epoch 18/50\n",
      "102/102 [==============================] - 0s 4ms/step - loss: nan - mse: nan - val_loss: nan - val_mse: nan\n",
      "Epoch 19/50\n",
      "102/102 [==============================] - 0s 4ms/step - loss: nan - mse: nan - val_loss: nan - val_mse: nan\n",
      "Epoch 20/50\n",
      "102/102 [==============================] - 0s 4ms/step - loss: nan - mse: nan - val_loss: nan - val_mse: nan\n",
      "Epoch 21/50\n",
      "102/102 [==============================] - 0s 4ms/step - loss: nan - mse: nan - val_loss: nan - val_mse: nan\n",
      "Epoch 22/50\n",
      "102/102 [==============================] - 0s 4ms/step - loss: nan - mse: nan - val_loss: nan - val_mse: nan\n",
      "Epoch 23/50\n",
      "102/102 [==============================] - 0s 4ms/step - loss: nan - mse: nan - val_loss: nan - val_mse: nan\n",
      "Epoch 24/50\n",
      "102/102 [==============================] - 0s 4ms/step - loss: nan - mse: nan - val_loss: nan - val_mse: nan\n",
      "Epoch 25/50\n",
      "102/102 [==============================] - 0s 4ms/step - loss: nan - mse: nan - val_loss: nan - val_mse: nan\n",
      "Epoch 26/50\n",
      "102/102 [==============================] - 0s 4ms/step - loss: nan - mse: nan - val_loss: nan - val_mse: nan\n",
      "Epoch 27/50\n",
      "102/102 [==============================] - 0s 4ms/step - loss: nan - mse: nan - val_loss: nan - val_mse: nan\n",
      "Epoch 28/50\n",
      "102/102 [==============================] - 0s 4ms/step - loss: nan - mse: nan - val_loss: nan - val_mse: nan\n",
      "Epoch 29/50\n",
      "102/102 [==============================] - 0s 4ms/step - loss: nan - mse: nan - val_loss: nan - val_mse: nan\n",
      "Epoch 30/50\n",
      "102/102 [==============================] - 0s 4ms/step - loss: nan - mse: nan - val_loss: nan - val_mse: nan\n",
      "Epoch 31/50\n",
      "102/102 [==============================] - 0s 4ms/step - loss: nan - mse: nan - val_loss: nan - val_mse: nan\n",
      "Epoch 32/50\n",
      "102/102 [==============================] - 0s 4ms/step - loss: nan - mse: nan - val_loss: nan - val_mse: nan\n",
      "Epoch 33/50\n",
      "102/102 [==============================] - 0s 4ms/step - loss: nan - mse: nan - val_loss: nan - val_mse: nan\n",
      "Epoch 34/50\n",
      "102/102 [==============================] - 0s 4ms/step - loss: nan - mse: nan - val_loss: nan - val_mse: nan\n",
      "Epoch 35/50\n",
      "102/102 [==============================] - 0s 4ms/step - loss: nan - mse: nan - val_loss: nan - val_mse: nan\n",
      "Epoch 36/50\n",
      "102/102 [==============================] - 0s 4ms/step - loss: nan - mse: nan - val_loss: nan - val_mse: nan\n",
      "Epoch 37/50\n",
      "102/102 [==============================] - 0s 4ms/step - loss: nan - mse: nan - val_loss: nan - val_mse: nan\n",
      "Epoch 38/50\n",
      "102/102 [==============================] - 0s 4ms/step - loss: nan - mse: nan - val_loss: nan - val_mse: nan\n",
      "Epoch 39/50\n",
      "102/102 [==============================] - 0s 4ms/step - loss: nan - mse: nan - val_loss: nan - val_mse: nan\n",
      "Epoch 40/50\n",
      "102/102 [==============================] - 0s 4ms/step - loss: nan - mse: nan - val_loss: nan - val_mse: nan\n",
      "Epoch 41/50\n",
      "102/102 [==============================] - 0s 4ms/step - loss: nan - mse: nan - val_loss: nan - val_mse: nan\n",
      "Epoch 42/50\n",
      "102/102 [==============================] - 0s 4ms/step - loss: nan - mse: nan - val_loss: nan - val_mse: nan\n",
      "Epoch 43/50\n",
      "102/102 [==============================] - 0s 4ms/step - loss: nan - mse: nan - val_loss: nan - val_mse: nan\n",
      "Epoch 44/50\n",
      "102/102 [==============================] - 0s 4ms/step - loss: nan - mse: nan - val_loss: nan - val_mse: nan\n",
      "Epoch 45/50\n",
      "102/102 [==============================] - 0s 5ms/step - loss: nan - mse: nan - val_loss: nan - val_mse: nan\n",
      "Epoch 46/50\n",
      "102/102 [==============================] - 0s 4ms/step - loss: nan - mse: nan - val_loss: nan - val_mse: nan\n",
      "Epoch 47/50\n",
      "102/102 [==============================] - 0s 4ms/step - loss: nan - mse: nan - val_loss: nan - val_mse: nan\n",
      "Epoch 48/50\n",
      "102/102 [==============================] - 0s 4ms/step - loss: nan - mse: nan - val_loss: nan - val_mse: nan\n",
      "Epoch 49/50\n",
      "102/102 [==============================] - 0s 4ms/step - loss: nan - mse: nan - val_loss: nan - val_mse: nan\n",
      "Epoch 50/50\n",
      "102/102 [==============================] - 0s 4ms/step - loss: nan - mse: nan - val_loss: nan - val_mse: nan\n"
     ]
    },
    {
     "data": {
      "text/plain": [
       "[]"
      ]
     },
     "execution_count": 372,
     "metadata": {},
     "output_type": "execute_result"
    },
    {
     "data": {
      "image/png": "[encoded data removed]",
      "text/plain": [
       "<Figure size 640x480 with 1 Axes>"
      ]
     },
     "metadata": {},
     "output_type": "display_data"
    }
   ],
   "source": [
    "model = keras.models.Sequential()\n",
    "model.add( keras.layers.InputLayer(input_shape=(sequence_len, ozone_train.shape[1])) )\n",
    "model.add( keras.layers.Dense(100, activation='relu') )\n",
    "\n",
    "model.add( keras.layers.LSTM(100, activation='relu') )\n",
    "#model.add( keras.layers.Dropout(0.2) )\n",
    "model.add( keras.layers.Dense(100, activation='relu') )\n",
    "model.add( keras.layers.Dense(1) )\n",
    "\n",
    "print(model.summary())\n",
    "\n",
    "#callback\n",
    "save_dir = 'best_model.h5'\n",
    "bestmodel_callback = tf.keras.callbacks.ModelCheckpoint(filepath=save_dir,  save_best_only=True)\n",
    "\n",
    "# compile \n",
    "model.compile(optimizer='adam', \n",
    "              loss='mse', \n",
    "              metrics   = [\"mse\"] )\n",
    "\n",
    "#fit\n",
    "history = model.fit(train_generator, epochs = 50, validation_data = test_generator, callbacks = [bestmodel_callback])\n",
    "\n",
    "\n",
    "# plot the loss \n",
    "# plt.plot(history.history['loss'])\n",
    "# plt.plot(history.history['val_loss'])\n",
    "# plt.title('model loss')\n",
    "# plt.ylabel('loss')\n",
    "# plt.xlabel('epoch')\n",
    "# plt.legend(['train', 'test'], loc='upper right')\n",
    "# plt.show()\n",
    "\n",
    "\n",
    " \n",
    "acc = hist.history['accuracy']\n",
    "val = hist.history['val_accuracy']\n",
    "epochs = range(1, len(acc) + 1)\n",
    " \n",
    "plt.plot(epochs, acc, '-', label='Training accuracy')\n",
    "plt.plot(epochs, val, ':', label='Validation accuracy')\n",
    "plt.title('Training and Validation Accuracy')\n",
    "plt.xlabel('Epoch')\n",
    "plt.ylabel('Accuracy')\n",
    "plt.legend(loc='lower right')\n",
    "plt.plot()"
   ]
  },
  {
   "cell_type": "markdown",
   "metadata": {},
   "source": [
    "## test d'un RNN simple"
   ]
  },
  {
   "cell_type": "code",
   "execution_count": 378,
   "metadata": {},
   "outputs": [
    {
     "name": "stdout",
     "output_type": "stream",
     "text": [
      "Model: \"sequential_38\"\n",
      "_________________________________________________________________\n",
      " Layer (type)                Output Shape              Param #   \n",
      "=================================================================\n",
      " simple_rnn_7 (SimpleRNN)    (None, 16)                624       \n",
      "                                                                 \n",
      " dense_102 (Dense)           (None, 1)                 17        \n",
      "                                                                 \n",
      "=================================================================\n",
      "Total params: 641\n",
      "Trainable params: 641\n",
      "Non-trainable params: 0\n",
      "_________________________________________________________________\n",
      "None\n",
      "Epoch 1/500\n",
      "102/102 [==============================] - 1s 4ms/step - loss: nan - mse: nan - val_loss: nan - val_mse: nan\n",
      "Epoch 2/500\n",
      "102/102 [==============================] - 0s 2ms/step - loss: nan - mse: nan - val_loss: nan - val_mse: nan\n",
      "Epoch 3/500\n",
      "102/102 [==============================] - 0s 2ms/step - loss: nan - mse: nan - val_loss: nan - val_mse: nan\n",
      "Epoch 4/500\n",
      "102/102 [==============================] - 0s 2ms/step - loss: nan - mse: nan - val_loss: nan - val_mse: nan\n",
      "Epoch 5/500\n",
      "102/102 [==============================] - 0s 2ms/step - loss: nan - mse: nan - val_loss: nan - val_mse: nan\n",
      "Epoch 6/500\n",
      "102/102 [==============================] - 0s 2ms/step - loss: nan - mse: nan - val_loss: nan - val_mse: nan\n",
      "Epoch 7/500\n",
      "102/102 [==============================] - 0s 2ms/step - loss: nan - mse: nan - val_loss: nan - val_mse: nan\n",
      "Epoch 8/500\n",
      "102/102 [==============================] - 0s 2ms/step - loss: nan - mse: nan - val_loss: nan - val_mse: nan\n",
      "Epoch 9/500\n",
      "102/102 [==============================] - 0s 2ms/step - loss: nan - mse: nan - val_loss: nan - val_mse: nan\n",
      "Epoch 10/500\n",
      "102/102 [==============================] - 0s 2ms/step - loss: nan - mse: nan - val_loss: nan - val_mse: nan\n",
      "Epoch 11/500\n",
      "102/102 [==============================] - 0s 2ms/step - loss: nan - mse: nan - val_loss: nan - val_mse: nan\n",
      "Epoch 12/500\n",
      "102/102 [==============================] - 0s 2ms/step - loss: nan - mse: nan - val_loss: nan - val_mse: nan\n",
      "Epoch 13/500\n",
      "102/102 [==============================] - 0s 2ms/step - loss: nan - mse: nan - val_loss: nan - val_mse: nan\n",
      "Epoch 14/500\n",
      "102/102 [==============================] - 0s 2ms/step - loss: nan - mse: nan - val_loss: nan - val_mse: nan\n",
      "Epoch 15/500\n",
      "102/102 [==============================] - 0s 2ms/step - loss: nan - mse: nan - val_loss: nan - val_mse: nan\n",
      "Epoch 16/500\n",
      "102/102 [==============================] - 0s 2ms/step - loss: nan - mse: nan - val_loss: nan - val_mse: nan\n",
      "Epoch 17/500\n",
      "102/102 [==============================] - 0s 2ms/step - loss: nan - mse: nan - val_loss: nan - val_mse: nan\n",
      "Epoch 18/500\n",
      "102/102 [==============================] - 0s 2ms/step - loss: nan - mse: nan - val_loss: nan - val_mse: nan\n",
      "Epoch 19/500\n",
      "102/102 [==============================] - 0s 2ms/step - loss: nan - mse: nan - val_loss: nan - val_mse: nan\n",
      "Epoch 20/500\n",
      "102/102 [==============================] - 0s 2ms/step - loss: nan - mse: nan - val_loss: nan - val_mse: nan\n",
      "Epoch 21/500\n",
      "102/102 [==============================] - 0s 3ms/step - loss: nan - mse: nan - val_loss: nan - val_mse: nan\n",
      "Epoch 22/500\n",
      "102/102 [==============================] - 0s 2ms/step - loss: nan - mse: nan - val_loss: nan - val_mse: nan\n",
      "Epoch 23/500\n",
      "102/102 [==============================] - 0s 3ms/step - loss: nan - mse: nan - val_loss: nan - val_mse: nan\n",
      "Epoch 24/500\n",
      "102/102 [==============================] - 0s 2ms/step - loss: nan - mse: nan - val_loss: nan - val_mse: nan\n",
      "Epoch 25/500\n",
      "102/102 [==============================] - 0s 2ms/step - loss: nan - mse: nan - val_loss: nan - val_mse: nan\n",
      "Epoch 26/500\n",
      "102/102 [==============================] - 0s 2ms/step - loss: nan - mse: nan - val_loss: nan - val_mse: nan\n",
      "Epoch 27/500\n",
      "102/102 [==============================] - 0s 2ms/step - loss: nan - mse: nan - val_loss: nan - val_mse: nan\n",
      "Epoch 28/500\n",
      "102/102 [==============================] - 0s 2ms/step - loss: nan - mse: nan - val_loss: nan - val_mse: nan\n",
      "Epoch 29/500\n",
      "102/102 [==============================] - 0s 2ms/step - loss: nan - mse: nan - val_loss: nan - val_mse: nan\n",
      "Epoch 30/500\n",
      "102/102 [==============================] - 0s 2ms/step - loss: nan - mse: nan - val_loss: nan - val_mse: nan\n",
      "Epoch 31/500\n",
      "102/102 [==============================] - 0s 2ms/step - loss: nan - mse: nan - val_loss: nan - val_mse: nan\n",
      "Epoch 32/500\n",
      "102/102 [==============================] - 0s 2ms/step - loss: nan - mse: nan - val_loss: nan - val_mse: nan\n",
      "Epoch 33/500\n",
      "102/102 [==============================] - 0s 2ms/step - loss: nan - mse: nan - val_loss: nan - val_mse: nan\n",
      "Epoch 34/500\n",
      "102/102 [==============================] - 0s 2ms/step - loss: nan - mse: nan - val_loss: nan - val_mse: nan\n",
      "Epoch 35/500\n",
      "102/102 [==============================] - 0s 2ms/step - loss: nan - mse: nan - val_loss: nan - val_mse: nan\n",
      "Epoch 36/500\n",
      "102/102 [==============================] - 0s 2ms/step - loss: nan - mse: nan - val_loss: nan - val_mse: nan\n",
      "Epoch 37/500\n",
      "102/102 [==============================] - 0s 2ms/step - loss: nan - mse: nan - val_loss: nan - val_mse: nan\n",
      "Epoch 38/500\n",
      "102/102 [==============================] - 0s 2ms/step - loss: nan - mse: nan - val_loss: nan - val_mse: nan\n",
      "Epoch 39/500\n",
      "102/102 [==============================] - 0s 2ms/step - loss: nan - mse: nan - val_loss: nan - val_mse: nan\n",
      "Epoch 40/500\n",
      "102/102 [==============================] - 0s 2ms/step - loss: nan - mse: nan - val_loss: nan - val_mse: nan\n",
      "Epoch 41/500\n",
      "102/102 [==============================] - 0s 2ms/step - loss: nan - mse: nan - val_loss: nan - val_mse: nan\n",
      "Epoch 42/500\n",
      "102/102 [==============================] - 0s 2ms/step - loss: nan - mse: nan - val_loss: nan - val_mse: nan\n",
      "Epoch 43/500\n",
      "102/102 [==============================] - 0s 2ms/step - loss: nan - mse: nan - val_loss: nan - val_mse: nan\n",
      "Epoch 44/500\n",
      "102/102 [==============================] - 0s 2ms/step - loss: nan - mse: nan - val_loss: nan - val_mse: nan\n",
      "Epoch 45/500\n",
      "102/102 [==============================] - 0s 2ms/step - loss: nan - mse: nan - val_loss: nan - val_mse: nan\n",
      "Epoch 46/500\n",
      "102/102 [==============================] - 0s 2ms/step - loss: nan - mse: nan - val_loss: nan - val_mse: nan\n",
      "Epoch 47/500\n",
      "102/102 [==============================] - 0s 2ms/step - loss: nan - mse: nan - val_loss: nan - val_mse: nan\n",
      "Epoch 48/500\n",
      "102/102 [==============================] - 0s 2ms/step - loss: nan - mse: nan - val_loss: nan - val_mse: nan\n",
      "Epoch 49/500\n",
      "102/102 [==============================] - 0s 2ms/step - loss: nan - mse: nan - val_loss: nan - val_mse: nan\n",
      "Epoch 50/500\n",
      "102/102 [==============================] - 0s 2ms/step - loss: nan - mse: nan - val_loss: nan - val_mse: nan\n",
      "Epoch 51/500\n",
      "102/102 [==============================] - 0s 3ms/step - loss: nan - mse: nan - val_loss: nan - val_mse: nan\n",
      "Epoch 52/500\n",
      "102/102 [==============================] - 0s 3ms/step - loss: nan - mse: nan - val_loss: nan - val_mse: nan\n",
      "Epoch 53/500\n",
      "102/102 [==============================] - 0s 2ms/step - loss: nan - mse: nan - val_loss: nan - val_mse: nan\n",
      "Epoch 54/500\n",
      "102/102 [==============================] - 0s 2ms/step - loss: nan - mse: nan - val_loss: nan - val_mse: nan\n",
      "Epoch 55/500\n",
      "102/102 [==============================] - 0s 2ms/step - loss: nan - mse: nan - val_loss: nan - val_mse: nan\n",
      "Epoch 56/500\n",
      "102/102 [==============================] - 0s 2ms/step - loss: nan - mse: nan - val_loss: nan - val_mse: nan\n",
      "Epoch 57/500\n",
      "102/102 [==============================] - 0s 2ms/step - loss: nan - mse: nan - val_loss: nan - val_mse: nan\n",
      "Epoch 58/500\n",
      "102/102 [==============================] - 0s 2ms/step - loss: nan - mse: nan - val_loss: nan - val_mse: nan\n",
      "Epoch 59/500\n",
      "102/102 [==============================] - 0s 2ms/step - loss: nan - mse: nan - val_loss: nan - val_mse: nan\n",
      "Epoch 60/500\n",
      "102/102 [==============================] - 0s 2ms/step - loss: nan - mse: nan - val_loss: nan - val_mse: nan\n",
      "Epoch 61/500\n",
      "102/102 [==============================] - 0s 2ms/step - loss: nan - mse: nan - val_loss: nan - val_mse: nan\n",
      "Epoch 62/500\n",
      "102/102 [==============================] - 0s 2ms/step - loss: nan - mse: nan - val_loss: nan - val_mse: nan\n",
      "Epoch 63/500\n",
      "102/102 [==============================] - 0s 2ms/step - loss: nan - mse: nan - val_loss: nan - val_mse: nan\n",
      "Epoch 64/500\n",
      "102/102 [==============================] - 0s 2ms/step - loss: nan - mse: nan - val_loss: nan - val_mse: nan\n",
      "Epoch 65/500\n",
      "102/102 [==============================] - 0s 3ms/step - loss: nan - mse: nan - val_loss: nan - val_mse: nan\n",
      "Epoch 66/500\n",
      "102/102 [==============================] - 0s 2ms/step - loss: nan - mse: nan - val_loss: nan - val_mse: nan\n",
      "Epoch 67/500\n",
      "102/102 [==============================] - 0s 2ms/step - loss: nan - mse: nan - val_loss: nan - val_mse: nan\n",
      "Epoch 68/500\n",
      "102/102 [==============================] - 0s 2ms/step - loss: nan - mse: nan - val_loss: nan - val_mse: nan\n",
      "Epoch 69/500\n",
      "102/102 [==============================] - 0s 2ms/step - loss: nan - mse: nan - val_loss: nan - val_mse: nan\n",
      "Epoch 70/500\n",
      "102/102 [==============================] - 0s 2ms/step - loss: nan - mse: nan - val_loss: nan - val_mse: nan\n",
      "Epoch 71/500\n",
      "102/102 [==============================] - 0s 3ms/step - loss: nan - mse: nan - val_loss: nan - val_mse: nan\n",
      "Epoch 72/500\n",
      "102/102 [==============================] - 0s 2ms/step - loss: nan - mse: nan - val_loss: nan - val_mse: nan\n",
      "Epoch 73/500\n",
      "102/102 [==============================] - 0s 2ms/step - loss: nan - mse: nan - val_loss: nan - val_mse: nan\n",
      "Epoch 74/500\n",
      "102/102 [==============================] - 0s 2ms/step - loss: nan - mse: nan - val_loss: nan - val_mse: nan\n",
      "Epoch 75/500\n",
      "102/102 [==============================] - 0s 2ms/step - loss: nan - mse: nan - val_loss: nan - val_mse: nan\n",
      "Epoch 76/500\n",
      "102/102 [==============================] - 0s 2ms/step - loss: nan - mse: nan - val_loss: nan - val_mse: nan\n",
      "Epoch 77/500\n",
      "102/102 [==============================] - 0s 2ms/step - loss: nan - mse: nan - val_loss: nan - val_mse: nan\n",
      "Epoch 78/500\n",
      "102/102 [==============================] - 0s 2ms/step - loss: nan - mse: nan - val_loss: nan - val_mse: nan\n",
      "Epoch 79/500\n",
      "102/102 [==============================] - 0s 2ms/step - loss: nan - mse: nan - val_loss: nan - val_mse: nan\n",
      "Epoch 80/500\n",
      "102/102 [==============================] - 0s 2ms/step - loss: nan - mse: nan - val_loss: nan - val_mse: nan\n",
      "Epoch 81/500\n",
      "102/102 [==============================] - 0s 2ms/step - loss: nan - mse: nan - val_loss: nan - val_mse: nan\n",
      "Epoch 82/500\n",
      "102/102 [==============================] - 0s 2ms/step - loss: nan - mse: nan - val_loss: nan - val_mse: nan\n",
      "Epoch 83/500\n",
      "102/102 [==============================] - 0s 2ms/step - loss: nan - mse: nan - val_loss: nan - val_mse: nan\n",
      "Epoch 84/500\n",
      "102/102 [==============================] - 0s 2ms/step - loss: nan - mse: nan - val_loss: nan - val_mse: nan\n",
      "Epoch 85/500\n",
      "102/102 [==============================] - 0s 2ms/step - loss: nan - mse: nan - val_loss: nan - val_mse: nan\n",
      "Epoch 86/500\n",
      "102/102 [==============================] - 0s 2ms/step - loss: nan - mse: nan - val_loss: nan - val_mse: nan\n",
      "Epoch 87/500\n",
      "102/102 [==============================] - 0s 2ms/step - loss: nan - mse: nan - val_loss: nan - val_mse: nan\n",
      "Epoch 88/500\n",
      "102/102 [==============================] - 0s 2ms/step - loss: nan - mse: nan - val_loss: nan - val_mse: nan\n",
      "Epoch 89/500\n",
      "102/102 [==============================] - 0s 2ms/step - loss: nan - mse: nan - val_loss: nan - val_mse: nan\n",
      "Epoch 90/500\n",
      "102/102 [==============================] - 0s 2ms/step - loss: nan - mse: nan - val_loss: nan - val_mse: nan\n",
      "Epoch 91/500\n",
      "102/102 [==============================] - 0s 2ms/step - loss: nan - mse: nan - val_loss: nan - val_mse: nan\n",
      "Epoch 92/500\n",
      "102/102 [==============================] - 0s 2ms/step - loss: nan - mse: nan - val_loss: nan - val_mse: nan\n",
      "Epoch 93/500\n",
      "102/102 [==============================] - 0s 2ms/step - loss: nan - mse: nan - val_loss: nan - val_mse: nan\n",
      "Epoch 94/500\n",
      "102/102 [==============================] - 0s 2ms/step - loss: nan - mse: nan - val_loss: nan - val_mse: nan\n",
      "Epoch 95/500\n",
      "102/102 [==============================] - 0s 3ms/step - loss: nan - mse: nan - val_loss: nan - val_mse: nan\n",
      "Epoch 96/500\n",
      "102/102 [==============================] - 0s 2ms/step - loss: nan - mse: nan - val_loss: nan - val_mse: nan\n",
      "Epoch 97/500\n",
      "102/102 [==============================] - 0s 2ms/step - loss: nan - mse: nan - val_loss: nan - val_mse: nan\n",
      "Epoch 98/500\n",
      "102/102 [==============================] - 0s 2ms/step - loss: nan - mse: nan - val_loss: nan - val_mse: nan\n",
      "Epoch 99/500\n",
      "102/102 [==============================] - 0s 2ms/step - loss: nan - mse: nan - val_loss: nan - val_mse: nan\n",
      "Epoch 100/500\n",
      "102/102 [==============================] - 0s 2ms/step - loss: nan - mse: nan - val_loss: nan - val_mse: nan\n",
      "Epoch 101/500\n",
      "102/102 [==============================] - 0s 2ms/step - loss: nan - mse: nan - val_loss: nan - val_mse: nan\n",
      "Epoch 102/500\n",
      "102/102 [==============================] - 0s 2ms/step - loss: nan - mse: nan - val_loss: nan - val_mse: nan\n",
      "Epoch 103/500\n",
      "102/102 [==============================] - 0s 2ms/step - loss: nan - mse: nan - val_loss: nan - val_mse: nan\n",
      "Epoch 104/500\n",
      "102/102 [==============================] - 0s 3ms/step - loss: nan - mse: nan - val_loss: nan - val_mse: nan\n",
      "Epoch 105/500\n",
      "102/102 [==============================] - 0s 3ms/step - loss: nan - mse: nan - val_loss: nan - val_mse: nan\n",
      "Epoch 106/500\n",
      "102/102 [==============================] - 0s 3ms/step - loss: nan - mse: nan - val_loss: nan - val_mse: nan\n",
      "Epoch 107/500\n",
      "102/102 [==============================] - 0s 2ms/step - loss: nan - mse: nan - val_loss: nan - val_mse: nan\n",
      "Epoch 108/500\n",
      "102/102 [==============================] - 0s 2ms/step - loss: nan - mse: nan - val_loss: nan - val_mse: nan\n",
      "Epoch 109/500\n",
      "102/102 [==============================] - 0s 2ms/step - loss: nan - mse: nan - val_loss: nan - val_mse: nan\n",
      "Epoch 110/500\n",
      "102/102 [==============================] - 0s 3ms/step - loss: nan - mse: nan - val_loss: nan - val_mse: nan\n",
      "Epoch 111/500\n",
      "102/102 [==============================] - 0s 3ms/step - loss: nan - mse: nan - val_loss: nan - val_mse: nan\n",
      "Epoch 112/500\n",
      "102/102 [==============================] - 0s 3ms/step - loss: nan - mse: nan - val_loss: nan - val_mse: nan\n",
      "Epoch 113/500\n",
      "102/102 [==============================] - 0s 2ms/step - loss: nan - mse: nan - val_loss: nan - val_mse: nan\n",
      "Epoch 114/500\n",
      "102/102 [==============================] - 0s 2ms/step - loss: nan - mse: nan - val_loss: nan - val_mse: nan\n",
      "Epoch 115/500\n",
      "102/102 [==============================] - 0s 2ms/step - loss: nan - mse: nan - val_loss: nan - val_mse: nan\n",
      "Epoch 116/500\n",
      "  1/102 [..............................] - ETA: 1s - loss: nan - mse: nan"
     ]
    },
    {
     "ename": "KeyboardInterrupt",
     "evalue": "",
     "output_type": "error",
     "traceback": [
      "\u001b[1;31m---------------------------------------------------------------------------\u001b[0m",
      "\u001b[1;31mKeyboardInterrupt\u001b[0m                         Traceback (most recent call last)",
      "\u001b[1;32m~\\AppData\\Local\\Temp\\ipykernel_14952\\2380208441.py\u001b[0m in \u001b[0;36m<module>\u001b[1;34m\u001b[0m\n\u001b[0;32m     17\u001b[0m \u001b[1;33m\u001b[0m\u001b[0m\n\u001b[0;32m     18\u001b[0m \u001b[1;31m#fit\u001b[0m\u001b[1;33m\u001b[0m\u001b[1;33m\u001b[0m\u001b[0m\n\u001b[1;32m---> 19\u001b[1;33m \u001b[0mhistory\u001b[0m \u001b[1;33m=\u001b[0m \u001b[0mmodel\u001b[0m\u001b[1;33m.\u001b[0m\u001b[0mfit\u001b[0m\u001b[1;33m(\u001b[0m\u001b[0mtrain_generator\u001b[0m\u001b[1;33m,\u001b[0m \u001b[0mepochs\u001b[0m \u001b[1;33m=\u001b[0m \u001b[1;36m500\u001b[0m\u001b[1;33m,\u001b[0m \u001b[0mvalidation_data\u001b[0m \u001b[1;33m=\u001b[0m \u001b[0mtest_generator\u001b[0m\u001b[1;33m,\u001b[0m \u001b[0mcallbacks\u001b[0m \u001b[1;33m=\u001b[0m \u001b[0mbestmodel_callback\u001b[0m\u001b[1;33m)\u001b[0m\u001b[1;33m\u001b[0m\u001b[1;33m\u001b[0m\u001b[0m\n\u001b[0m\u001b[0;32m     20\u001b[0m \u001b[1;33m\u001b[0m\u001b[0m\n\u001b[0;32m     21\u001b[0m \u001b[1;33m\u001b[0m\u001b[0m\n",
      "\u001b[1;32mc:\\Users\\21261\\anaconda3\\lib\\site-packages\\keras\\utils\\traceback_utils.py\u001b[0m in \u001b[0;36merror_handler\u001b[1;34m(*args, **kwargs)\u001b[0m\n\u001b[0;32m     63\u001b[0m         \u001b[0mfiltered_tb\u001b[0m \u001b[1;33m=\u001b[0m \u001b[1;32mNone\u001b[0m\u001b[1;33m\u001b[0m\u001b[1;33m\u001b[0m\u001b[0m\n\u001b[0;32m     64\u001b[0m         \u001b[1;32mtry\u001b[0m\u001b[1;33m:\u001b[0m\u001b[1;33m\u001b[0m\u001b[1;33m\u001b[0m\u001b[0m\n\u001b[1;32m---> 65\u001b[1;33m             \u001b[1;32mreturn\u001b[0m \u001b[0mfn\u001b[0m\u001b[1;33m(\u001b[0m\u001b[1;33m*\u001b[0m\u001b[0margs\u001b[0m\u001b[1;33m,\u001b[0m \u001b[1;33m**\u001b[0m\u001b[0mkwargs\u001b[0m\u001b[1;33m)\u001b[0m\u001b[1;33m\u001b[0m\u001b[1;33m\u001b[0m\u001b[0m\n\u001b[0m\u001b[0;32m     66\u001b[0m         \u001b[1;32mexcept\u001b[0m \u001b[0mException\u001b[0m \u001b[1;32mas\u001b[0m \u001b[0me\u001b[0m\u001b[1;33m:\u001b[0m\u001b[1;33m\u001b[0m\u001b[1;33m\u001b[0m\u001b[0m\n\u001b[0;32m     67\u001b[0m             \u001b[0mfiltered_tb\u001b[0m \u001b[1;33m=\u001b[0m \u001b[0m_process_traceback_frames\u001b[0m\u001b[1;33m(\u001b[0m\u001b[0me\u001b[0m\u001b[1;33m.\u001b[0m\u001b[0m__traceback__\u001b[0m\u001b[1;33m)\u001b[0m\u001b[1;33m\u001b[0m\u001b[1;33m\u001b[0m\u001b[0m\n",
      "\u001b[1;32mc:\\Users\\21261\\anaconda3\\lib\\site-packages\\keras\\engine\\training.py\u001b[0m in \u001b[0;36mfit\u001b[1;34m(self, x, y, batch_size, epochs, verbose, callbacks, validation_split, validation_data, shuffle, class_weight, sample_weight, initial_epoch, steps_per_epoch, validation_steps, validation_batch_size, validation_freq, max_queue_size, workers, use_multiprocessing)\u001b[0m\n\u001b[0;32m   1562\u001b[0m                         ):\n\u001b[0;32m   1563\u001b[0m                             \u001b[0mcallbacks\u001b[0m\u001b[1;33m.\u001b[0m\u001b[0mon_train_batch_begin\u001b[0m\u001b[1;33m(\u001b[0m\u001b[0mstep\u001b[0m\u001b[1;33m)\u001b[0m\u001b[1;33m\u001b[0m\u001b[1;33m\u001b[0m\u001b[0m\n\u001b[1;32m-> 1564\u001b[1;33m                             \u001b[0mtmp_logs\u001b[0m \u001b[1;33m=\u001b[0m \u001b[0mself\u001b[0m\u001b[1;33m.\u001b[0m\u001b[0mtrain_function\u001b[0m\u001b[1;33m(\u001b[0m\u001b[0miterator\u001b[0m\u001b[1;33m)\u001b[0m\u001b[1;33m\u001b[0m\u001b[1;33m\u001b[0m\u001b[0m\n\u001b[0m\u001b[0;32m   1565\u001b[0m                             \u001b[1;32mif\u001b[0m \u001b[0mdata_handler\u001b[0m\u001b[1;33m.\u001b[0m\u001b[0mshould_sync\u001b[0m\u001b[1;33m:\u001b[0m\u001b[1;33m\u001b[0m\u001b[1;33m\u001b[0m\u001b[0m\n\u001b[0;32m   1566\u001b[0m                                 \u001b[0mcontext\u001b[0m\u001b[1;33m.\u001b[0m\u001b[0masync_wait\u001b[0m\u001b[1;33m(\u001b[0m\u001b[1;33m)\u001b[0m\u001b[1;33m\u001b[0m\u001b[1;33m\u001b[0m\u001b[0m\n",
      "\u001b[1;32mc:\\Users\\21261\\anaconda3\\lib\\site-packages\\tensorflow\\python\\util\\traceback_utils.py\u001b[0m in \u001b[0;36merror_handler\u001b[1;34m(*args, **kwargs)\u001b[0m\n\u001b[0;32m    148\u001b[0m     \u001b[0mfiltered_tb\u001b[0m \u001b[1;33m=\u001b[0m \u001b[1;32mNone\u001b[0m\u001b[1;33m\u001b[0m\u001b[1;33m\u001b[0m\u001b[0m\n\u001b[0;32m    149\u001b[0m     \u001b[1;32mtry\u001b[0m\u001b[1;33m:\u001b[0m\u001b[1;33m\u001b[0m\u001b[1;33m\u001b[0m\u001b[0m\n\u001b[1;32m--> 150\u001b[1;33m       \u001b[1;32mreturn\u001b[0m \u001b[0mfn\u001b[0m\u001b[1;33m(\u001b[0m\u001b[1;33m*\u001b[0m\u001b[0margs\u001b[0m\u001b[1;33m,\u001b[0m \u001b[1;33m**\u001b[0m\u001b[0mkwargs\u001b[0m\u001b[1;33m)\u001b[0m\u001b[1;33m\u001b[0m\u001b[1;33m\u001b[0m\u001b[0m\n\u001b[0m\u001b[0;32m    151\u001b[0m     \u001b[1;32mexcept\u001b[0m \u001b[0mException\u001b[0m \u001b[1;32mas\u001b[0m \u001b[0me\u001b[0m\u001b[1;33m:\u001b[0m\u001b[1;33m\u001b[0m\u001b[1;33m\u001b[0m\u001b[0m\n\u001b[0;32m    152\u001b[0m       \u001b[0mfiltered_tb\u001b[0m \u001b[1;33m=\u001b[0m \u001b[0m_process_traceback_frames\u001b[0m\u001b[1;33m(\u001b[0m\u001b[0me\u001b[0m\u001b[1;33m.\u001b[0m\u001b[0m__traceback__\u001b[0m\u001b[1;33m)\u001b[0m\u001b[1;33m\u001b[0m\u001b[1;33m\u001b[0m\u001b[0m\n",
      "\u001b[1;32mc:\\Users\\21261\\anaconda3\\lib\\site-packages\\tensorflow\\python\\eager\\def_function.py\u001b[0m in \u001b[0;36m__call__\u001b[1;34m(self, *args, **kwds)\u001b[0m\n\u001b[0;32m    913\u001b[0m \u001b[1;33m\u001b[0m\u001b[0m\n\u001b[0;32m    914\u001b[0m       \u001b[1;32mwith\u001b[0m \u001b[0mOptionalXlaContext\u001b[0m\u001b[1;33m(\u001b[0m\u001b[0mself\u001b[0m\u001b[1;33m.\u001b[0m\u001b[0m_jit_compile\u001b[0m\u001b[1;33m)\u001b[0m\u001b[1;33m:\u001b[0m\u001b[1;33m\u001b[0m\u001b[1;33m\u001b[0m\u001b[0m\n\u001b[1;32m--> 915\u001b[1;33m         \u001b[0mresult\u001b[0m \u001b[1;33m=\u001b[0m \u001b[0mself\u001b[0m\u001b[1;33m.\u001b[0m\u001b[0m_call\u001b[0m\u001b[1;33m(\u001b[0m\u001b[1;33m*\u001b[0m\u001b[0margs\u001b[0m\u001b[1;33m,\u001b[0m \u001b[1;33m**\u001b[0m\u001b[0mkwds\u001b[0m\u001b[1;33m)\u001b[0m\u001b[1;33m\u001b[0m\u001b[1;33m\u001b[0m\u001b[0m\n\u001b[0m\u001b[0;32m    916\u001b[0m \u001b[1;33m\u001b[0m\u001b[0m\n\u001b[0;32m    917\u001b[0m       \u001b[0mnew_tracing_count\u001b[0m \u001b[1;33m=\u001b[0m \u001b[0mself\u001b[0m\u001b[1;33m.\u001b[0m\u001b[0mexperimental_get_tracing_count\u001b[0m\u001b[1;33m(\u001b[0m\u001b[1;33m)\u001b[0m\u001b[1;33m\u001b[0m\u001b[1;33m\u001b[0m\u001b[0m\n",
      "\u001b[1;32mc:\\Users\\21261\\anaconda3\\lib\\site-packages\\tensorflow\\python\\eager\\def_function.py\u001b[0m in \u001b[0;36m_call\u001b[1;34m(self, *args, **kwds)\u001b[0m\n\u001b[0;32m    945\u001b[0m       \u001b[1;31m# In this case we have created variables on the first call, so we run the\u001b[0m\u001b[1;33m\u001b[0m\u001b[1;33m\u001b[0m\u001b[0m\n\u001b[0;32m    946\u001b[0m       \u001b[1;31m# defunned version which is guaranteed to never create variables.\u001b[0m\u001b[1;33m\u001b[0m\u001b[1;33m\u001b[0m\u001b[0m\n\u001b[1;32m--> 947\u001b[1;33m       \u001b[1;32mreturn\u001b[0m \u001b[0mself\u001b[0m\u001b[1;33m.\u001b[0m\u001b[0m_stateless_fn\u001b[0m\u001b[1;33m(\u001b[0m\u001b[1;33m*\u001b[0m\u001b[0margs\u001b[0m\u001b[1;33m,\u001b[0m \u001b[1;33m**\u001b[0m\u001b[0mkwds\u001b[0m\u001b[1;33m)\u001b[0m  \u001b[1;31m# pylint: disable=not-callable\u001b[0m\u001b[1;33m\u001b[0m\u001b[1;33m\u001b[0m\u001b[0m\n\u001b[0m\u001b[0;32m    948\u001b[0m     \u001b[1;32melif\u001b[0m \u001b[0mself\u001b[0m\u001b[1;33m.\u001b[0m\u001b[0m_stateful_fn\u001b[0m \u001b[1;32mis\u001b[0m \u001b[1;32mnot\u001b[0m \u001b[1;32mNone\u001b[0m\u001b[1;33m:\u001b[0m\u001b[1;33m\u001b[0m\u001b[1;33m\u001b[0m\u001b[0m\n\u001b[0;32m    949\u001b[0m       \u001b[1;31m# Release the lock early so that multiple threads can perform the call\u001b[0m\u001b[1;33m\u001b[0m\u001b[1;33m\u001b[0m\u001b[0m\n",
      "\u001b[1;32mc:\\Users\\21261\\anaconda3\\lib\\site-packages\\tensorflow\\python\\eager\\function.py\u001b[0m in \u001b[0;36m__call__\u001b[1;34m(self, *args, **kwargs)\u001b[0m\n\u001b[0;32m   2494\u001b[0m       (graph_function,\n\u001b[0;32m   2495\u001b[0m        filtered_flat_args) = self._maybe_define_function(args, kwargs)\n\u001b[1;32m-> 2496\u001b[1;33m     return graph_function._call_flat(\n\u001b[0m\u001b[0;32m   2497\u001b[0m         filtered_flat_args, captured_inputs=graph_function.captured_inputs)  # pylint: disable=protected-access\n\u001b[0;32m   2498\u001b[0m \u001b[1;33m\u001b[0m\u001b[0m\n",
      "\u001b[1;32mc:\\Users\\21261\\anaconda3\\lib\\site-packages\\tensorflow\\python\\eager\\function.py\u001b[0m in \u001b[0;36m_call_flat\u001b[1;34m(self, args, captured_inputs, cancellation_manager)\u001b[0m\n\u001b[0;32m   1860\u001b[0m         and executing_eagerly):\n\u001b[0;32m   1861\u001b[0m       \u001b[1;31m# No tape is watching; skip to running the function.\u001b[0m\u001b[1;33m\u001b[0m\u001b[1;33m\u001b[0m\u001b[0m\n\u001b[1;32m-> 1862\u001b[1;33m       return self._build_call_outputs(self._inference_function.call(\n\u001b[0m\u001b[0;32m   1863\u001b[0m           ctx, args, cancellation_manager=cancellation_manager))\n\u001b[0;32m   1864\u001b[0m     forward_backward = self._select_forward_and_backward_functions(\n",
      "\u001b[1;32mc:\\Users\\21261\\anaconda3\\lib\\site-packages\\tensorflow\\python\\eager\\function.py\u001b[0m in \u001b[0;36mcall\u001b[1;34m(self, ctx, args, cancellation_manager)\u001b[0m\n\u001b[0;32m    497\u001b[0m       \u001b[1;32mwith\u001b[0m \u001b[0m_InterpolateFunctionError\u001b[0m\u001b[1;33m(\u001b[0m\u001b[0mself\u001b[0m\u001b[1;33m)\u001b[0m\u001b[1;33m:\u001b[0m\u001b[1;33m\u001b[0m\u001b[1;33m\u001b[0m\u001b[0m\n\u001b[0;32m    498\u001b[0m         \u001b[1;32mif\u001b[0m \u001b[0mcancellation_manager\u001b[0m \u001b[1;32mis\u001b[0m \u001b[1;32mNone\u001b[0m\u001b[1;33m:\u001b[0m\u001b[1;33m\u001b[0m\u001b[1;33m\u001b[0m\u001b[0m\n\u001b[1;32m--> 499\u001b[1;33m           outputs = execute.execute(\n\u001b[0m\u001b[0;32m    500\u001b[0m               \u001b[0mstr\u001b[0m\u001b[1;33m(\u001b[0m\u001b[0mself\u001b[0m\u001b[1;33m.\u001b[0m\u001b[0msignature\u001b[0m\u001b[1;33m.\u001b[0m\u001b[0mname\u001b[0m\u001b[1;33m)\u001b[0m\u001b[1;33m,\u001b[0m\u001b[1;33m\u001b[0m\u001b[1;33m\u001b[0m\u001b[0m\n\u001b[0;32m    501\u001b[0m               \u001b[0mnum_outputs\u001b[0m\u001b[1;33m=\u001b[0m\u001b[0mself\u001b[0m\u001b[1;33m.\u001b[0m\u001b[0m_num_outputs\u001b[0m\u001b[1;33m,\u001b[0m\u001b[1;33m\u001b[0m\u001b[1;33m\u001b[0m\u001b[0m\n",
      "\u001b[1;32mc:\\Users\\21261\\anaconda3\\lib\\site-packages\\tensorflow\\python\\eager\\execute.py\u001b[0m in \u001b[0;36mquick_execute\u001b[1;34m(op_name, num_outputs, inputs, attrs, ctx, name)\u001b[0m\n\u001b[0;32m     52\u001b[0m   \u001b[1;32mtry\u001b[0m\u001b[1;33m:\u001b[0m\u001b[1;33m\u001b[0m\u001b[1;33m\u001b[0m\u001b[0m\n\u001b[0;32m     53\u001b[0m     \u001b[0mctx\u001b[0m\u001b[1;33m.\u001b[0m\u001b[0mensure_initialized\u001b[0m\u001b[1;33m(\u001b[0m\u001b[1;33m)\u001b[0m\u001b[1;33m\u001b[0m\u001b[1;33m\u001b[0m\u001b[0m\n\u001b[1;32m---> 54\u001b[1;33m     tensors = pywrap_tfe.TFE_Py_Execute(ctx._handle, device_name, op_name,\n\u001b[0m\u001b[0;32m     55\u001b[0m                                         inputs, attrs, num_outputs)\n\u001b[0;32m     56\u001b[0m   \u001b[1;32mexcept\u001b[0m \u001b[0mcore\u001b[0m\u001b[1;33m.\u001b[0m\u001b[0m_NotOkStatusException\u001b[0m \u001b[1;32mas\u001b[0m \u001b[0me\u001b[0m\u001b[1;33m:\u001b[0m\u001b[1;33m\u001b[0m\u001b[1;33m\u001b[0m\u001b[0m\n",
      "\u001b[1;31mKeyboardInterrupt\u001b[0m: "
     ]
    }
   ],
   "source": [
    "from keras.layers import SimpleRNN\n",
    "\n",
    "model = Sequential()\n",
    "model.add(SimpleRNN(units=16, input_shape=(sequence_len, ozone_train.shape[1]), use_bias=False))\n",
    "model.add( keras.layers.Dense(1) )\n",
    "\n",
    "print(model.summary())\n",
    "\n",
    "#callback\n",
    "save_dir = 'best_model.h5'\n",
    "bestmodel_callback = tf.keras.callbacks.ModelCheckpoint(filepath=save_dir,  save_best_only=True)\n",
    "\n",
    "# compile \n",
    "model.compile(optimizer='adam', \n",
    "              loss='mse', \n",
    "              metrics   = [\"mse\"] )\n",
    "\n",
    "#fit\n",
    "history = model.fit(train_generator, epochs = 100, validation_data = test_generator, callbacks = bestmodel_callback)\n",
    "\n",
    "\n",
    "# plot the loss \n",
    "plt.plot(history.history['loss'])\n",
    "plt.plot(history.history['val_loss'])\n",
    "plt.title('model loss')\n",
    "plt.ylabel('loss')\n",
    "plt.xlabel('epoch')\n",
    "plt.legend(['train', 'test'], loc='upper right')\n",
    "plt.show()"
   ]
  },
  {
   "cell_type": "markdown",
   "metadata": {},
   "source": [
    "### Mon RNN ne converge pas !!"
   ]
  },
  {
   "cell_type": "code",
   "execution_count": null,
   "metadata": {},
   "outputs": [],
   "source": []
  },
  {
   "cell_type": "markdown",
   "metadata": {},
   "source": [
    "# Merci pour votre lecture ! 😀"
   ]
  },
  {
   "cell_type": "markdown",
   "metadata": {},
   "source": []
  }
 ],
 "metadata": {
  "kernelspec": {
   "display_name": "Python 3 (ipykernel)",
   "language": "python",
   "name": "python3"
  },
  "language_info": {
   "codemirror_mode": {
    "name": "ipython",
    "version": 3
   },
   "file_extension": ".py",
   "mimetype": "text/x-python",
   "name": "python",
   "nbconvert_exporter": "python",
   "pygments_lexer": "ipython3",
   "version": "3.9.13"
  },
  "vscode": {
   "interpreter": {
    "hash": "98bdf6cd8a4f1017bbe7f002e4874ab3312f662a31c5104cec5bf26926888b48"
   }
  }
 },
 "nbformat": 4,
 "nbformat_minor": 4
}
